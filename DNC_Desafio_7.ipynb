{
  "nbformat": 4,
  "nbformat_minor": 0,
  "metadata": {
    "colab": {
      "provenance": []
    },
    "kernelspec": {
      "name": "python3",
      "display_name": "Python 3"
    },
    "language_info": {
      "name": "python"
    }
  },
  "cells": [
    {
      "cell_type": "markdown",
      "source": [
        "# **Desafio: Crie um modelo de análise das métricas RFV**"
      ],
      "metadata": {
        "id": "o-X7SIiGtqt6"
      }
    },
    {
      "cell_type": "markdown",
      "source": [
        "Você deverá utilizar um modelo de Clustering para criar um sistema de agrupamento de perfis de clientes para um e-commerce. Deverá analisar o modelo mais eficiente, capaz de tornar as análises mais simplificadas para a empresa.\n"
      ],
      "metadata": {
        "id": "iodoctk4uACw"
      }
    },
    {
      "cell_type": "markdown",
      "source": [
        "## **Contexto**"
      ],
      "metadata": {
        "id": "4RCl_JXJ0exb"
      }
    },
    {
      "cell_type": "markdown",
      "source": [
        "Você foi contratado por uma empresa de e-commerce que está buscando entender melhor o comportamento de seus clientes para personalizar as suas campanhas de\n",
        "marketing. Para isso, a empresa disponibilizou uma base de dados em csv contendo\n",
        "dados sobre clientes, produtos e transações da loja realizadas entre os anos de 2010 e 2011.\n",
        "Com base nesses dados, você precisa agrupar os clientes em clusters com base em\n",
        "seu comportamento de compra. Isso irá permitir identificar padrões e características em\n",
        "comum entre os clientes, como:\n",
        "- Clientes que compram os mesmos produtos;\n",
        "- Clientes que possuem a mesma frequência de compras;\n",
        "- Clientes que gastam mais dinheiro em suas compras.\n",
        "\n",
        "A partir desses clusters, gere insights para que a empresa possa segmentar melhor a sua base de clientes e personalizar as suas campanhas de marketing, direcionando promoções e ofertas aos clientes com base no comportamento de compras.\n",
        "\n",
        "**Sobre os dados**\n",
        "\n",
        "Os dados estão disponíveis no [Kaggle](https://www.kaggle.com/datasets/carrie1/ecommerce-data). Os dados fornecidos possuem informações de transações de compras de uma loja de e-commerce em 38 países e territórios, com mais de 4.000 clientes únicos e mais de 540.000 transações.\n",
        "\n",
        "<center>\n",
        "\n",
        "| Coluna | Descrição | Tipo |\n",
        "| ----------- | ----------- | ----------- |\n",
        "| *InvoiceNo* | Identificação da transação | Int |\n",
        "| *StockCode* | Código de estoque do produto | String |\n",
        "| *Description* |  Descrição do produto | String |\n",
        "| *Quantity* | Quantidade de produtos por transação | Int |\n",
        "| *InvoiceDate* | Data da transação | Datetime |\n",
        "| *UnitPrice* | Preço unitário do produto | Float |\n",
        "| *CustomerID* | Identificação do cliente | Int |\n",
        "| *Country* | País de origem da transação | String |\n",
        "\n",
        "</center>"
      ],
      "metadata": {
        "id": "MIWmPjfr0KRr"
      }
    },
    {
      "cell_type": "markdown",
      "source": [
        "## **Análise Exploratória dos Dados**"
      ],
      "metadata": {
        "id": "RxtkNQgowsNO"
      }
    },
    {
      "cell_type": "markdown",
      "source": [
        "### Setup"
      ],
      "metadata": {
        "id": "qrTKKifZxPAm"
      }
    },
    {
      "cell_type": "code",
      "source": [
        "# Import das bibliotecas\n",
        "import numpy as np\n",
        "import pandas as pd\n",
        "\n",
        "import seaborn as sns\n",
        "import matplotlib.pyplot as plt\n",
        "import plotly.express as px\n",
        "\n",
        "from sklearn.cluster import KMeans\n",
        "from sklearn.preprocessing import StandardScaler, scale, PowerTransformer\n",
        "\n",
        "from sklearn.metrics import silhouette_score, davies_bouldin_score, calinski_harabasz_score\n",
        "\n",
        "from yellowbrick.cluster import kelbow_visualizer"
      ],
      "metadata": {
        "id": "qLxgXCAOxS_i"
      },
      "execution_count": 92,
      "outputs": []
    },
    {
      "cell_type": "code",
      "source": [
        "# Tema dos gráficos\n",
        "sns.set_theme(\n",
        "    context='talk',\n",
        "    style='ticks',\n",
        "    font_scale=.8,\n",
        "    palette='tab10',\n",
        "    rc={\n",
        "        'figure.figsize': (12,8),\n",
        "        'axes.grid': True,\n",
        "        'grid.alpha': .2,\n",
        "        'axes.titlesize': 'x-large',\n",
        "        'axes.titleweight': 'bold',\n",
        "        'axes.titlepad': 20,\n",
        "    }\n",
        ")"
      ],
      "metadata": {
        "id": "yEpaAfYGxldW"
      },
      "execution_count": 31,
      "outputs": []
    },
    {
      "cell_type": "markdown",
      "source": [
        "### Dataset"
      ],
      "metadata": {
        "id": "sj8NOBwLyAgF"
      }
    },
    {
      "cell_type": "code",
      "source": [
        "# Criação do dataframe\n",
        "df = pd.read_csv(\"https://www.notion.so/signed/https%3A%2F%2Fs3-us-west-2.amazonaws.com%2Fsecure.notion-static.com%2Fe73c934e-cd3a-4e00-85f6-b704762fec77%2Fdata.csv?table=block&id=e9f1a77d-e0db-46c4-8ef0-c79064da3c0e&spaceId=6a055055-52ec-4ebb-a697-63027c951344&userId=c0845f00-59fb-4a0f-bb4a-c1e2314cd202&cache=v2\", encoding='latin1')\n",
        "df.head()"
      ],
      "metadata": {
        "colab": {
          "base_uri": "https://localhost:8080/",
          "height": 206
        },
        "id": "U9fhS8-7yB9B",
        "outputId": "42ab92be-ce98-4529-ec47-0f2af5733d22"
      },
      "execution_count": 53,
      "outputs": [
        {
          "output_type": "execute_result",
          "data": {
            "text/plain": [
              "  InvoiceNo StockCode                          Description  Quantity  \\\n",
              "0    536365    85123A   WHITE HANGING HEART T-LIGHT HOLDER         6   \n",
              "1    536365     71053                  WHITE METAL LANTERN         6   \n",
              "2    536365    84406B       CREAM CUPID HEARTS COAT HANGER         8   \n",
              "3    536365    84029G  KNITTED UNION FLAG HOT WATER BOTTLE         6   \n",
              "4    536365    84029E       RED WOOLLY HOTTIE WHITE HEART.         6   \n",
              "\n",
              "      InvoiceDate  UnitPrice  CustomerID         Country  \n",
              "0  12/1/2010 8:26       2.55     17850.0  United Kingdom  \n",
              "1  12/1/2010 8:26       3.39     17850.0  United Kingdom  \n",
              "2  12/1/2010 8:26       2.75     17850.0  United Kingdom  \n",
              "3  12/1/2010 8:26       3.39     17850.0  United Kingdom  \n",
              "4  12/1/2010 8:26       3.39     17850.0  United Kingdom  "
            ],
            "text/html": [
              "\n",
              "  <div id=\"df-e44356fb-5224-45c9-8c97-f345d2e7a00a\" class=\"colab-df-container\">\n",
              "    <div>\n",
              "<style scoped>\n",
              "    .dataframe tbody tr th:only-of-type {\n",
              "        vertical-align: middle;\n",
              "    }\n",
              "\n",
              "    .dataframe tbody tr th {\n",
              "        vertical-align: top;\n",
              "    }\n",
              "\n",
              "    .dataframe thead th {\n",
              "        text-align: right;\n",
              "    }\n",
              "</style>\n",
              "<table border=\"1\" class=\"dataframe\">\n",
              "  <thead>\n",
              "    <tr style=\"text-align: right;\">\n",
              "      <th></th>\n",
              "      <th>InvoiceNo</th>\n",
              "      <th>StockCode</th>\n",
              "      <th>Description</th>\n",
              "      <th>Quantity</th>\n",
              "      <th>InvoiceDate</th>\n",
              "      <th>UnitPrice</th>\n",
              "      <th>CustomerID</th>\n",
              "      <th>Country</th>\n",
              "    </tr>\n",
              "  </thead>\n",
              "  <tbody>\n",
              "    <tr>\n",
              "      <th>0</th>\n",
              "      <td>536365</td>\n",
              "      <td>85123A</td>\n",
              "      <td>WHITE HANGING HEART T-LIGHT HOLDER</td>\n",
              "      <td>6</td>\n",
              "      <td>12/1/2010 8:26</td>\n",
              "      <td>2.55</td>\n",
              "      <td>17850.0</td>\n",
              "      <td>United Kingdom</td>\n",
              "    </tr>\n",
              "    <tr>\n",
              "      <th>1</th>\n",
              "      <td>536365</td>\n",
              "      <td>71053</td>\n",
              "      <td>WHITE METAL LANTERN</td>\n",
              "      <td>6</td>\n",
              "      <td>12/1/2010 8:26</td>\n",
              "      <td>3.39</td>\n",
              "      <td>17850.0</td>\n",
              "      <td>United Kingdom</td>\n",
              "    </tr>\n",
              "    <tr>\n",
              "      <th>2</th>\n",
              "      <td>536365</td>\n",
              "      <td>84406B</td>\n",
              "      <td>CREAM CUPID HEARTS COAT HANGER</td>\n",
              "      <td>8</td>\n",
              "      <td>12/1/2010 8:26</td>\n",
              "      <td>2.75</td>\n",
              "      <td>17850.0</td>\n",
              "      <td>United Kingdom</td>\n",
              "    </tr>\n",
              "    <tr>\n",
              "      <th>3</th>\n",
              "      <td>536365</td>\n",
              "      <td>84029G</td>\n",
              "      <td>KNITTED UNION FLAG HOT WATER BOTTLE</td>\n",
              "      <td>6</td>\n",
              "      <td>12/1/2010 8:26</td>\n",
              "      <td>3.39</td>\n",
              "      <td>17850.0</td>\n",
              "      <td>United Kingdom</td>\n",
              "    </tr>\n",
              "    <tr>\n",
              "      <th>4</th>\n",
              "      <td>536365</td>\n",
              "      <td>84029E</td>\n",
              "      <td>RED WOOLLY HOTTIE WHITE HEART.</td>\n",
              "      <td>6</td>\n",
              "      <td>12/1/2010 8:26</td>\n",
              "      <td>3.39</td>\n",
              "      <td>17850.0</td>\n",
              "      <td>United Kingdom</td>\n",
              "    </tr>\n",
              "  </tbody>\n",
              "</table>\n",
              "</div>\n",
              "    <div class=\"colab-df-buttons\">\n",
              "\n",
              "  <div class=\"colab-df-container\">\n",
              "    <button class=\"colab-df-convert\" onclick=\"convertToInteractive('df-e44356fb-5224-45c9-8c97-f345d2e7a00a')\"\n",
              "            title=\"Convert this dataframe to an interactive table.\"\n",
              "            style=\"display:none;\">\n",
              "\n",
              "  <svg xmlns=\"http://www.w3.org/2000/svg\" height=\"24px\" viewBox=\"0 -960 960 960\">\n",
              "    <path d=\"M120-120v-720h720v720H120Zm60-500h600v-160H180v160Zm220 220h160v-160H400v160Zm0 220h160v-160H400v160ZM180-400h160v-160H180v160Zm440 0h160v-160H620v160ZM180-180h160v-160H180v160Zm440 0h160v-160H620v160Z\"/>\n",
              "  </svg>\n",
              "    </button>\n",
              "\n",
              "  <style>\n",
              "    .colab-df-container {\n",
              "      display:flex;\n",
              "      gap: 12px;\n",
              "    }\n",
              "\n",
              "    .colab-df-convert {\n",
              "      background-color: #E8F0FE;\n",
              "      border: none;\n",
              "      border-radius: 50%;\n",
              "      cursor: pointer;\n",
              "      display: none;\n",
              "      fill: #1967D2;\n",
              "      height: 32px;\n",
              "      padding: 0 0 0 0;\n",
              "      width: 32px;\n",
              "    }\n",
              "\n",
              "    .colab-df-convert:hover {\n",
              "      background-color: #E2EBFA;\n",
              "      box-shadow: 0px 1px 2px rgba(60, 64, 67, 0.3), 0px 1px 3px 1px rgba(60, 64, 67, 0.15);\n",
              "      fill: #174EA6;\n",
              "    }\n",
              "\n",
              "    .colab-df-buttons div {\n",
              "      margin-bottom: 4px;\n",
              "    }\n",
              "\n",
              "    [theme=dark] .colab-df-convert {\n",
              "      background-color: #3B4455;\n",
              "      fill: #D2E3FC;\n",
              "    }\n",
              "\n",
              "    [theme=dark] .colab-df-convert:hover {\n",
              "      background-color: #434B5C;\n",
              "      box-shadow: 0px 1px 3px 1px rgba(0, 0, 0, 0.15);\n",
              "      filter: drop-shadow(0px 1px 2px rgba(0, 0, 0, 0.3));\n",
              "      fill: #FFFFFF;\n",
              "    }\n",
              "  </style>\n",
              "\n",
              "    <script>\n",
              "      const buttonEl =\n",
              "        document.querySelector('#df-e44356fb-5224-45c9-8c97-f345d2e7a00a button.colab-df-convert');\n",
              "      buttonEl.style.display =\n",
              "        google.colab.kernel.accessAllowed ? 'block' : 'none';\n",
              "\n",
              "      async function convertToInteractive(key) {\n",
              "        const element = document.querySelector('#df-e44356fb-5224-45c9-8c97-f345d2e7a00a');\n",
              "        const dataTable =\n",
              "          await google.colab.kernel.invokeFunction('convertToInteractive',\n",
              "                                                    [key], {});\n",
              "        if (!dataTable) return;\n",
              "\n",
              "        const docLinkHtml = 'Like what you see? Visit the ' +\n",
              "          '<a target=\"_blank\" href=https://colab.research.google.com/notebooks/data_table.ipynb>data table notebook</a>'\n",
              "          + ' to learn more about interactive tables.';\n",
              "        element.innerHTML = '';\n",
              "        dataTable['output_type'] = 'display_data';\n",
              "        await google.colab.output.renderOutput(dataTable, element);\n",
              "        const docLink = document.createElement('div');\n",
              "        docLink.innerHTML = docLinkHtml;\n",
              "        element.appendChild(docLink);\n",
              "      }\n",
              "    </script>\n",
              "  </div>\n",
              "\n",
              "\n",
              "<div id=\"df-8de41577-b3ec-4815-b782-d321e8b911a9\">\n",
              "  <button class=\"colab-df-quickchart\" onclick=\"quickchart('df-8de41577-b3ec-4815-b782-d321e8b911a9')\"\n",
              "            title=\"Suggest charts\"\n",
              "            style=\"display:none;\">\n",
              "\n",
              "<svg xmlns=\"http://www.w3.org/2000/svg\" height=\"24px\"viewBox=\"0 0 24 24\"\n",
              "     width=\"24px\">\n",
              "    <g>\n",
              "        <path d=\"M19 3H5c-1.1 0-2 .9-2 2v14c0 1.1.9 2 2 2h14c1.1 0 2-.9 2-2V5c0-1.1-.9-2-2-2zM9 17H7v-7h2v7zm4 0h-2V7h2v10zm4 0h-2v-4h2v4z\"/>\n",
              "    </g>\n",
              "</svg>\n",
              "  </button>\n",
              "\n",
              "<style>\n",
              "  .colab-df-quickchart {\n",
              "      --bg-color: #E8F0FE;\n",
              "      --fill-color: #1967D2;\n",
              "      --hover-bg-color: #E2EBFA;\n",
              "      --hover-fill-color: #174EA6;\n",
              "      --disabled-fill-color: #AAA;\n",
              "      --disabled-bg-color: #DDD;\n",
              "  }\n",
              "\n",
              "  [theme=dark] .colab-df-quickchart {\n",
              "      --bg-color: #3B4455;\n",
              "      --fill-color: #D2E3FC;\n",
              "      --hover-bg-color: #434B5C;\n",
              "      --hover-fill-color: #FFFFFF;\n",
              "      --disabled-bg-color: #3B4455;\n",
              "      --disabled-fill-color: #666;\n",
              "  }\n",
              "\n",
              "  .colab-df-quickchart {\n",
              "    background-color: var(--bg-color);\n",
              "    border: none;\n",
              "    border-radius: 50%;\n",
              "    cursor: pointer;\n",
              "    display: none;\n",
              "    fill: var(--fill-color);\n",
              "    height: 32px;\n",
              "    padding: 0;\n",
              "    width: 32px;\n",
              "  }\n",
              "\n",
              "  .colab-df-quickchart:hover {\n",
              "    background-color: var(--hover-bg-color);\n",
              "    box-shadow: 0 1px 2px rgba(60, 64, 67, 0.3), 0 1px 3px 1px rgba(60, 64, 67, 0.15);\n",
              "    fill: var(--button-hover-fill-color);\n",
              "  }\n",
              "\n",
              "  .colab-df-quickchart-complete:disabled,\n",
              "  .colab-df-quickchart-complete:disabled:hover {\n",
              "    background-color: var(--disabled-bg-color);\n",
              "    fill: var(--disabled-fill-color);\n",
              "    box-shadow: none;\n",
              "  }\n",
              "\n",
              "  .colab-df-spinner {\n",
              "    border: 2px solid var(--fill-color);\n",
              "    border-color: transparent;\n",
              "    border-bottom-color: var(--fill-color);\n",
              "    animation:\n",
              "      spin 1s steps(1) infinite;\n",
              "  }\n",
              "\n",
              "  @keyframes spin {\n",
              "    0% {\n",
              "      border-color: transparent;\n",
              "      border-bottom-color: var(--fill-color);\n",
              "      border-left-color: var(--fill-color);\n",
              "    }\n",
              "    20% {\n",
              "      border-color: transparent;\n",
              "      border-left-color: var(--fill-color);\n",
              "      border-top-color: var(--fill-color);\n",
              "    }\n",
              "    30% {\n",
              "      border-color: transparent;\n",
              "      border-left-color: var(--fill-color);\n",
              "      border-top-color: var(--fill-color);\n",
              "      border-right-color: var(--fill-color);\n",
              "    }\n",
              "    40% {\n",
              "      border-color: transparent;\n",
              "      border-right-color: var(--fill-color);\n",
              "      border-top-color: var(--fill-color);\n",
              "    }\n",
              "    60% {\n",
              "      border-color: transparent;\n",
              "      border-right-color: var(--fill-color);\n",
              "    }\n",
              "    80% {\n",
              "      border-color: transparent;\n",
              "      border-right-color: var(--fill-color);\n",
              "      border-bottom-color: var(--fill-color);\n",
              "    }\n",
              "    90% {\n",
              "      border-color: transparent;\n",
              "      border-bottom-color: var(--fill-color);\n",
              "    }\n",
              "  }\n",
              "</style>\n",
              "\n",
              "  <script>\n",
              "    async function quickchart(key) {\n",
              "      const quickchartButtonEl =\n",
              "        document.querySelector('#' + key + ' button');\n",
              "      quickchartButtonEl.disabled = true;  // To prevent multiple clicks.\n",
              "      quickchartButtonEl.classList.add('colab-df-spinner');\n",
              "      try {\n",
              "        const charts = await google.colab.kernel.invokeFunction(\n",
              "            'suggestCharts', [key], {});\n",
              "      } catch (error) {\n",
              "        console.error('Error during call to suggestCharts:', error);\n",
              "      }\n",
              "      quickchartButtonEl.classList.remove('colab-df-spinner');\n",
              "      quickchartButtonEl.classList.add('colab-df-quickchart-complete');\n",
              "    }\n",
              "    (() => {\n",
              "      let quickchartButtonEl =\n",
              "        document.querySelector('#df-8de41577-b3ec-4815-b782-d321e8b911a9 button');\n",
              "      quickchartButtonEl.style.display =\n",
              "        google.colab.kernel.accessAllowed ? 'block' : 'none';\n",
              "    })();\n",
              "  </script>\n",
              "</div>\n",
              "\n",
              "    </div>\n",
              "  </div>\n"
            ],
            "application/vnd.google.colaboratory.intrinsic+json": {
              "type": "dataframe",
              "variable_name": "df"
            }
          },
          "metadata": {},
          "execution_count": 53
        }
      ]
    },
    {
      "cell_type": "code",
      "source": [
        "# Verificação dos tipos de dados e valores faltantes\n",
        "df.info()"
      ],
      "metadata": {
        "colab": {
          "base_uri": "https://localhost:8080/"
        },
        "id": "UIAbHSms1AdF",
        "outputId": "ef290ad4-503d-4c6e-e5f2-80a3164acc47"
      },
      "execution_count": 33,
      "outputs": [
        {
          "output_type": "stream",
          "name": "stdout",
          "text": [
            "<class 'pandas.core.frame.DataFrame'>\n",
            "RangeIndex: 541909 entries, 0 to 541908\n",
            "Data columns (total 8 columns):\n",
            " #   Column       Non-Null Count   Dtype  \n",
            "---  ------       --------------   -----  \n",
            " 0   InvoiceNo    541909 non-null  object \n",
            " 1   StockCode    541909 non-null  object \n",
            " 2   Description  540455 non-null  object \n",
            " 3   Quantity     541909 non-null  int64  \n",
            " 4   InvoiceDate  541909 non-null  object \n",
            " 5   UnitPrice    541909 non-null  float64\n",
            " 6   CustomerID   406829 non-null  float64\n",
            " 7   Country      541909 non-null  object \n",
            "dtypes: float64(2), int64(1), object(5)\n",
            "memory usage: 33.1+ MB\n"
          ]
        }
      ]
    },
    {
      "cell_type": "markdown",
      "source": [
        "Verificamos a existência de valores nulos e de colunas com formatos incorretos que serão tratados posteriormente."
      ],
      "metadata": {
        "id": "J--nKJfL2gAS"
      }
    },
    {
      "cell_type": "code",
      "source": [
        "# Descrição estatística dos dados numéricos\n",
        "df[['Quantity', 'UnitPrice']].describe()"
      ],
      "metadata": {
        "colab": {
          "base_uri": "https://localhost:8080/",
          "height": 300
        },
        "id": "Ocukkd4o03r0",
        "outputId": "c29621f9-eb61-4e9d-8d32-90de9ebcac6f"
      },
      "execution_count": 34,
      "outputs": [
        {
          "output_type": "execute_result",
          "data": {
            "text/plain": [
              "            Quantity      UnitPrice\n",
              "count  541909.000000  541909.000000\n",
              "mean        9.552250       4.611114\n",
              "std       218.081158      96.759853\n",
              "min    -80995.000000  -11062.060000\n",
              "25%         1.000000       1.250000\n",
              "50%         3.000000       2.080000\n",
              "75%        10.000000       4.130000\n",
              "max     80995.000000   38970.000000"
            ],
            "text/html": [
              "\n",
              "  <div id=\"df-d1de9402-f818-43d4-ad61-a61f03c38524\" class=\"colab-df-container\">\n",
              "    <div>\n",
              "<style scoped>\n",
              "    .dataframe tbody tr th:only-of-type {\n",
              "        vertical-align: middle;\n",
              "    }\n",
              "\n",
              "    .dataframe tbody tr th {\n",
              "        vertical-align: top;\n",
              "    }\n",
              "\n",
              "    .dataframe thead th {\n",
              "        text-align: right;\n",
              "    }\n",
              "</style>\n",
              "<table border=\"1\" class=\"dataframe\">\n",
              "  <thead>\n",
              "    <tr style=\"text-align: right;\">\n",
              "      <th></th>\n",
              "      <th>Quantity</th>\n",
              "      <th>UnitPrice</th>\n",
              "    </tr>\n",
              "  </thead>\n",
              "  <tbody>\n",
              "    <tr>\n",
              "      <th>count</th>\n",
              "      <td>541909.000000</td>\n",
              "      <td>541909.000000</td>\n",
              "    </tr>\n",
              "    <tr>\n",
              "      <th>mean</th>\n",
              "      <td>9.552250</td>\n",
              "      <td>4.611114</td>\n",
              "    </tr>\n",
              "    <tr>\n",
              "      <th>std</th>\n",
              "      <td>218.081158</td>\n",
              "      <td>96.759853</td>\n",
              "    </tr>\n",
              "    <tr>\n",
              "      <th>min</th>\n",
              "      <td>-80995.000000</td>\n",
              "      <td>-11062.060000</td>\n",
              "    </tr>\n",
              "    <tr>\n",
              "      <th>25%</th>\n",
              "      <td>1.000000</td>\n",
              "      <td>1.250000</td>\n",
              "    </tr>\n",
              "    <tr>\n",
              "      <th>50%</th>\n",
              "      <td>3.000000</td>\n",
              "      <td>2.080000</td>\n",
              "    </tr>\n",
              "    <tr>\n",
              "      <th>75%</th>\n",
              "      <td>10.000000</td>\n",
              "      <td>4.130000</td>\n",
              "    </tr>\n",
              "    <tr>\n",
              "      <th>max</th>\n",
              "      <td>80995.000000</td>\n",
              "      <td>38970.000000</td>\n",
              "    </tr>\n",
              "  </tbody>\n",
              "</table>\n",
              "</div>\n",
              "    <div class=\"colab-df-buttons\">\n",
              "\n",
              "  <div class=\"colab-df-container\">\n",
              "    <button class=\"colab-df-convert\" onclick=\"convertToInteractive('df-d1de9402-f818-43d4-ad61-a61f03c38524')\"\n",
              "            title=\"Convert this dataframe to an interactive table.\"\n",
              "            style=\"display:none;\">\n",
              "\n",
              "  <svg xmlns=\"http://www.w3.org/2000/svg\" height=\"24px\" viewBox=\"0 -960 960 960\">\n",
              "    <path d=\"M120-120v-720h720v720H120Zm60-500h600v-160H180v160Zm220 220h160v-160H400v160Zm0 220h160v-160H400v160ZM180-400h160v-160H180v160Zm440 0h160v-160H620v160ZM180-180h160v-160H180v160Zm440 0h160v-160H620v160Z\"/>\n",
              "  </svg>\n",
              "    </button>\n",
              "\n",
              "  <style>\n",
              "    .colab-df-container {\n",
              "      display:flex;\n",
              "      gap: 12px;\n",
              "    }\n",
              "\n",
              "    .colab-df-convert {\n",
              "      background-color: #E8F0FE;\n",
              "      border: none;\n",
              "      border-radius: 50%;\n",
              "      cursor: pointer;\n",
              "      display: none;\n",
              "      fill: #1967D2;\n",
              "      height: 32px;\n",
              "      padding: 0 0 0 0;\n",
              "      width: 32px;\n",
              "    }\n",
              "\n",
              "    .colab-df-convert:hover {\n",
              "      background-color: #E2EBFA;\n",
              "      box-shadow: 0px 1px 2px rgba(60, 64, 67, 0.3), 0px 1px 3px 1px rgba(60, 64, 67, 0.15);\n",
              "      fill: #174EA6;\n",
              "    }\n",
              "\n",
              "    .colab-df-buttons div {\n",
              "      margin-bottom: 4px;\n",
              "    }\n",
              "\n",
              "    [theme=dark] .colab-df-convert {\n",
              "      background-color: #3B4455;\n",
              "      fill: #D2E3FC;\n",
              "    }\n",
              "\n",
              "    [theme=dark] .colab-df-convert:hover {\n",
              "      background-color: #434B5C;\n",
              "      box-shadow: 0px 1px 3px 1px rgba(0, 0, 0, 0.15);\n",
              "      filter: drop-shadow(0px 1px 2px rgba(0, 0, 0, 0.3));\n",
              "      fill: #FFFFFF;\n",
              "    }\n",
              "  </style>\n",
              "\n",
              "    <script>\n",
              "      const buttonEl =\n",
              "        document.querySelector('#df-d1de9402-f818-43d4-ad61-a61f03c38524 button.colab-df-convert');\n",
              "      buttonEl.style.display =\n",
              "        google.colab.kernel.accessAllowed ? 'block' : 'none';\n",
              "\n",
              "      async function convertToInteractive(key) {\n",
              "        const element = document.querySelector('#df-d1de9402-f818-43d4-ad61-a61f03c38524');\n",
              "        const dataTable =\n",
              "          await google.colab.kernel.invokeFunction('convertToInteractive',\n",
              "                                                    [key], {});\n",
              "        if (!dataTable) return;\n",
              "\n",
              "        const docLinkHtml = 'Like what you see? Visit the ' +\n",
              "          '<a target=\"_blank\" href=https://colab.research.google.com/notebooks/data_table.ipynb>data table notebook</a>'\n",
              "          + ' to learn more about interactive tables.';\n",
              "        element.innerHTML = '';\n",
              "        dataTable['output_type'] = 'display_data';\n",
              "        await google.colab.output.renderOutput(dataTable, element);\n",
              "        const docLink = document.createElement('div');\n",
              "        docLink.innerHTML = docLinkHtml;\n",
              "        element.appendChild(docLink);\n",
              "      }\n",
              "    </script>\n",
              "  </div>\n",
              "\n",
              "\n",
              "<div id=\"df-0fd574f0-fcb8-4beb-b623-796932e7f79d\">\n",
              "  <button class=\"colab-df-quickchart\" onclick=\"quickchart('df-0fd574f0-fcb8-4beb-b623-796932e7f79d')\"\n",
              "            title=\"Suggest charts\"\n",
              "            style=\"display:none;\">\n",
              "\n",
              "<svg xmlns=\"http://www.w3.org/2000/svg\" height=\"24px\"viewBox=\"0 0 24 24\"\n",
              "     width=\"24px\">\n",
              "    <g>\n",
              "        <path d=\"M19 3H5c-1.1 0-2 .9-2 2v14c0 1.1.9 2 2 2h14c1.1 0 2-.9 2-2V5c0-1.1-.9-2-2-2zM9 17H7v-7h2v7zm4 0h-2V7h2v10zm4 0h-2v-4h2v4z\"/>\n",
              "    </g>\n",
              "</svg>\n",
              "  </button>\n",
              "\n",
              "<style>\n",
              "  .colab-df-quickchart {\n",
              "      --bg-color: #E8F0FE;\n",
              "      --fill-color: #1967D2;\n",
              "      --hover-bg-color: #E2EBFA;\n",
              "      --hover-fill-color: #174EA6;\n",
              "      --disabled-fill-color: #AAA;\n",
              "      --disabled-bg-color: #DDD;\n",
              "  }\n",
              "\n",
              "  [theme=dark] .colab-df-quickchart {\n",
              "      --bg-color: #3B4455;\n",
              "      --fill-color: #D2E3FC;\n",
              "      --hover-bg-color: #434B5C;\n",
              "      --hover-fill-color: #FFFFFF;\n",
              "      --disabled-bg-color: #3B4455;\n",
              "      --disabled-fill-color: #666;\n",
              "  }\n",
              "\n",
              "  .colab-df-quickchart {\n",
              "    background-color: var(--bg-color);\n",
              "    border: none;\n",
              "    border-radius: 50%;\n",
              "    cursor: pointer;\n",
              "    display: none;\n",
              "    fill: var(--fill-color);\n",
              "    height: 32px;\n",
              "    padding: 0;\n",
              "    width: 32px;\n",
              "  }\n",
              "\n",
              "  .colab-df-quickchart:hover {\n",
              "    background-color: var(--hover-bg-color);\n",
              "    box-shadow: 0 1px 2px rgba(60, 64, 67, 0.3), 0 1px 3px 1px rgba(60, 64, 67, 0.15);\n",
              "    fill: var(--button-hover-fill-color);\n",
              "  }\n",
              "\n",
              "  .colab-df-quickchart-complete:disabled,\n",
              "  .colab-df-quickchart-complete:disabled:hover {\n",
              "    background-color: var(--disabled-bg-color);\n",
              "    fill: var(--disabled-fill-color);\n",
              "    box-shadow: none;\n",
              "  }\n",
              "\n",
              "  .colab-df-spinner {\n",
              "    border: 2px solid var(--fill-color);\n",
              "    border-color: transparent;\n",
              "    border-bottom-color: var(--fill-color);\n",
              "    animation:\n",
              "      spin 1s steps(1) infinite;\n",
              "  }\n",
              "\n",
              "  @keyframes spin {\n",
              "    0% {\n",
              "      border-color: transparent;\n",
              "      border-bottom-color: var(--fill-color);\n",
              "      border-left-color: var(--fill-color);\n",
              "    }\n",
              "    20% {\n",
              "      border-color: transparent;\n",
              "      border-left-color: var(--fill-color);\n",
              "      border-top-color: var(--fill-color);\n",
              "    }\n",
              "    30% {\n",
              "      border-color: transparent;\n",
              "      border-left-color: var(--fill-color);\n",
              "      border-top-color: var(--fill-color);\n",
              "      border-right-color: var(--fill-color);\n",
              "    }\n",
              "    40% {\n",
              "      border-color: transparent;\n",
              "      border-right-color: var(--fill-color);\n",
              "      border-top-color: var(--fill-color);\n",
              "    }\n",
              "    60% {\n",
              "      border-color: transparent;\n",
              "      border-right-color: var(--fill-color);\n",
              "    }\n",
              "    80% {\n",
              "      border-color: transparent;\n",
              "      border-right-color: var(--fill-color);\n",
              "      border-bottom-color: var(--fill-color);\n",
              "    }\n",
              "    90% {\n",
              "      border-color: transparent;\n",
              "      border-bottom-color: var(--fill-color);\n",
              "    }\n",
              "  }\n",
              "</style>\n",
              "\n",
              "  <script>\n",
              "    async function quickchart(key) {\n",
              "      const quickchartButtonEl =\n",
              "        document.querySelector('#' + key + ' button');\n",
              "      quickchartButtonEl.disabled = true;  // To prevent multiple clicks.\n",
              "      quickchartButtonEl.classList.add('colab-df-spinner');\n",
              "      try {\n",
              "        const charts = await google.colab.kernel.invokeFunction(\n",
              "            'suggestCharts', [key], {});\n",
              "      } catch (error) {\n",
              "        console.error('Error during call to suggestCharts:', error);\n",
              "      }\n",
              "      quickchartButtonEl.classList.remove('colab-df-spinner');\n",
              "      quickchartButtonEl.classList.add('colab-df-quickchart-complete');\n",
              "    }\n",
              "    (() => {\n",
              "      let quickchartButtonEl =\n",
              "        document.querySelector('#df-0fd574f0-fcb8-4beb-b623-796932e7f79d button');\n",
              "      quickchartButtonEl.style.display =\n",
              "        google.colab.kernel.accessAllowed ? 'block' : 'none';\n",
              "    })();\n",
              "  </script>\n",
              "</div>\n",
              "\n",
              "    </div>\n",
              "  </div>\n"
            ],
            "application/vnd.google.colaboratory.intrinsic+json": {
              "type": "dataframe",
              "summary": "{\n  \"name\": \"df[['Quantity', 'UnitPrice']]\",\n  \"rows\": 8,\n  \"fields\": [\n    {\n      \"column\": \"Quantity\",\n      \"properties\": {\n        \"dtype\": \"number\",\n        \"std\": 196412.4226608867,\n        \"min\": -80995.0,\n        \"max\": 541909.0,\n        \"num_unique_values\": 8,\n        \"samples\": [\n          9.55224954743324,\n          3.0,\n          541909.0\n        ],\n        \"semantic_type\": \"\",\n        \"description\": \"\"\n      }\n    },\n    {\n      \"column\": \"UnitPrice\",\n      \"properties\": {\n        \"dtype\": \"number\",\n        \"std\": 190752.0757077193,\n        \"min\": -11062.06,\n        \"max\": 541909.0,\n        \"num_unique_values\": 8,\n        \"samples\": [\n          4.611113626088513,\n          2.08,\n          541909.0\n        ],\n        \"semantic_type\": \"\",\n        \"description\": \"\"\n      }\n    }\n  ]\n}"
            }
          },
          "metadata": {},
          "execution_count": 34
        }
      ]
    },
    {
      "cell_type": "markdown",
      "source": [
        "Verificamos a existência de valores negativos e um desvio padrão bastante grande, que serão tratados posteriormente."
      ],
      "metadata": {
        "id": "h5qquYXp1mEY"
      }
    },
    {
      "cell_type": "code",
      "source": [
        "# Verificação de valores faltantes por coluna\n",
        "df.isna().sum()"
      ],
      "metadata": {
        "colab": {
          "base_uri": "https://localhost:8080/"
        },
        "id": "_XmPF7_31UKp",
        "outputId": "7446eadf-9e5a-4296-b8c0-d8e622c4d1e2"
      },
      "execution_count": 35,
      "outputs": [
        {
          "output_type": "execute_result",
          "data": {
            "text/plain": [
              "InvoiceNo           0\n",
              "StockCode           0\n",
              "Description      1454\n",
              "Quantity            0\n",
              "InvoiceDate         0\n",
              "UnitPrice           0\n",
              "CustomerID     135080\n",
              "Country             0\n",
              "dtype: int64"
            ]
          },
          "metadata": {},
          "execution_count": 35
        }
      ]
    },
    {
      "cell_type": "code",
      "source": [
        "# Verificação de linhas duplicadas\n",
        "df.duplicated().sum()"
      ],
      "metadata": {
        "colab": {
          "base_uri": "https://localhost:8080/"
        },
        "id": "SYTvQDEY1XdZ",
        "outputId": "9b0e27b9-07f2-44ed-e545-5571bffa907d"
      },
      "execution_count": 36,
      "outputs": [
        {
          "output_type": "execute_result",
          "data": {
            "text/plain": [
              "5268"
            ]
          },
          "metadata": {},
          "execution_count": 36
        }
      ]
    },
    {
      "cell_type": "markdown",
      "source": [
        "Verificamos a existência de linhas duplicadas que serão tratadas posteriormente."
      ],
      "metadata": {
        "id": "blv1Agv320o4"
      }
    },
    {
      "cell_type": "markdown",
      "source": [
        "### Análise Univariada"
      ],
      "metadata": {
        "id": "JlXiZqwf3WHn"
      }
    },
    {
      "cell_type": "markdown",
      "source": [
        "#### InvoiceNo\n"
      ],
      "metadata": {
        "id": "L0eJbeWP4prQ"
      }
    },
    {
      "cell_type": "code",
      "source": [
        "df['InvoiceNo'].sort_values()"
      ],
      "metadata": {
        "colab": {
          "base_uri": "https://localhost:8080/"
        },
        "id": "zFlRzQHu1bni",
        "outputId": "cfad8b9f-7c3c-4776-fb87-214309c77278"
      },
      "execution_count": 37,
      "outputs": [
        {
          "output_type": "execute_result",
          "data": {
            "text/plain": [
              "0          536365\n",
              "1          536365\n",
              "2          536365\n",
              "3          536365\n",
              "4          536365\n",
              "           ...   \n",
              "540449    C581490\n",
              "541541    C581499\n",
              "541715    C581568\n",
              "541716    C581569\n",
              "541717    C581569\n",
              "Name: InvoiceNo, Length: 541909, dtype: object"
            ]
          },
          "metadata": {},
          "execution_count": 37
        }
      ]
    },
    {
      "cell_type": "markdown",
      "source": [
        "Os dados estão no formato `object` pela existência de valores alfanuméricos."
      ],
      "metadata": {
        "id": "ntVFHlm840T-"
      }
    },
    {
      "cell_type": "code",
      "source": [
        "df['InvoiceNo'].nunique()"
      ],
      "metadata": {
        "colab": {
          "base_uri": "https://localhost:8080/"
        },
        "id": "6r3dCcym3o-K",
        "outputId": "b70b5e3f-544e-4f04-f254-b161d1e0ccd6"
      },
      "execution_count": 38,
      "outputs": [
        {
          "output_type": "execute_result",
          "data": {
            "text/plain": [
              "25900"
            ]
          },
          "metadata": {},
          "execution_count": 38
        }
      ]
    },
    {
      "cell_type": "markdown",
      "source": [
        "Foram feitas 25900 transações distintas."
      ],
      "metadata": {
        "id": "5RySSI7q5YUN"
      }
    },
    {
      "cell_type": "markdown",
      "source": [
        "#### StockCode"
      ],
      "metadata": {
        "id": "2vluNI045j1o"
      }
    },
    {
      "cell_type": "code",
      "source": [
        "df['StockCode'].nunique()"
      ],
      "metadata": {
        "colab": {
          "base_uri": "https://localhost:8080/"
        },
        "id": "78M11swH5kwa",
        "outputId": "4435910b-e2bd-4ea1-efcb-10dd3f307817"
      },
      "execution_count": 39,
      "outputs": [
        {
          "output_type": "execute_result",
          "data": {
            "text/plain": [
              "4070"
            ]
          },
          "metadata": {},
          "execution_count": 39
        }
      ]
    },
    {
      "cell_type": "markdown",
      "source": [
        "Existem 4070 códigos de estoque distintos."
      ],
      "metadata": {
        "id": "dc-J36oE5vKi"
      }
    },
    {
      "cell_type": "markdown",
      "source": [
        "#### Description"
      ],
      "metadata": {
        "id": "dEAtNhjf52BV"
      }
    },
    {
      "cell_type": "code",
      "source": [
        "df['Description'].nunique()"
      ],
      "metadata": {
        "colab": {
          "base_uri": "https://localhost:8080/"
        },
        "id": "acRhOSj953Hn",
        "outputId": "3ca9e2e1-d74e-4017-faa8-a887e010ec77"
      },
      "execution_count": 40,
      "outputs": [
        {
          "output_type": "execute_result",
          "data": {
            "text/plain": [
              "4223"
            ]
          },
          "metadata": {},
          "execution_count": 40
        }
      ]
    },
    {
      "cell_type": "markdown",
      "source": [
        "Existem 4223 produtos distintos."
      ],
      "metadata": {
        "id": "dM7VSg7z6ESm"
      }
    },
    {
      "cell_type": "markdown",
      "source": [
        "#### Quantity"
      ],
      "metadata": {
        "id": "sAkhPFqmH7_E"
      }
    },
    {
      "cell_type": "code",
      "source": [
        "df['Quantity'].plot.box();"
      ],
      "metadata": {
        "colab": {
          "base_uri": "https://localhost:8080/",
          "height": 710
        },
        "id": "_vO3461HIEIM",
        "outputId": "c1334fb7-bbf2-413c-fe4f-5ef10bf135c6"
      },
      "execution_count": 42,
      "outputs": [
        {
          "output_type": "execute_result",
          "data": {
            "text/plain": [
              "<Axes: >"
            ]
          },
          "metadata": {},
          "execution_count": 42
        },
        {
          "output_type": "display_data",
          "data": {
            "text/plain": [
              "<Figure size 1200x800 with 1 Axes>"
            ],
            "image/png": "[encoded data removed]"
          },
          "metadata": {}
        }
      ]
    },
    {
      "cell_type": "markdown",
      "source": [
        "Verificamos a existência de valores negativos de quantidade que serão tratados posteriormente, assim como a existência de alguns outliers."
      ],
      "metadata": {
        "id": "UPihgwe8JK2Y"
      }
    },
    {
      "cell_type": "markdown",
      "source": [
        "#### UnitPrice"
      ],
      "metadata": {
        "id": "xVBFp8zQJgGQ"
      }
    },
    {
      "cell_type": "code",
      "source": [
        "df['UnitPrice'].plot.box();"
      ],
      "metadata": {
        "colab": {
          "base_uri": "https://localhost:8080/",
          "height": 710
        },
        "id": "8lijbvmUJhsJ",
        "outputId": "c8b43c7c-70c2-4b06-dcb3-df0bd6e6745a"
      },
      "execution_count": 43,
      "outputs": [
        {
          "output_type": "execute_result",
          "data": {
            "text/plain": [
              "<Axes: >"
            ]
          },
          "metadata": {},
          "execution_count": 43
        },
        {
          "output_type": "display_data",
          "data": {
            "text/plain": [
              "<Figure size 1200x800 with 1 Axes>"
            ],
            "image/png": "[encoded data removed]"
          },
          "metadata": {}
        }
      ]
    },
    {
      "cell_type": "markdown",
      "source": [
        "Verificamos a existência de produtos com preço negativo que serão tratados posteriormente."
      ],
      "metadata": {
        "id": "4jizvdfeJnuA"
      }
    },
    {
      "cell_type": "markdown",
      "source": [
        "#### CustomerID"
      ],
      "metadata": {
        "id": "84CScY3BJ3AK"
      }
    },
    {
      "cell_type": "code",
      "source": [
        "df['CustomerID'].nunique()"
      ],
      "metadata": {
        "colab": {
          "base_uri": "https://localhost:8080/"
        },
        "id": "HRaLWOtYJ4m0",
        "outputId": "cb31830a-2051-458d-84df-edd322f8e9c3"
      },
      "execution_count": 44,
      "outputs": [
        {
          "output_type": "execute_result",
          "data": {
            "text/plain": [
              "4372"
            ]
          },
          "metadata": {},
          "execution_count": 44
        }
      ]
    },
    {
      "cell_type": "markdown",
      "source": [
        "Existem 4372 clientes distintos."
      ],
      "metadata": {
        "id": "xm5QxoFlJ_qV"
      }
    },
    {
      "cell_type": "markdown",
      "source": [
        "#### Country"
      ],
      "metadata": {
        "id": "6LQthcNAKDMu"
      }
    },
    {
      "cell_type": "code",
      "source": [
        "df['Country'].value_counts(ascending=False)"
      ],
      "metadata": {
        "colab": {
          "base_uri": "https://localhost:8080/"
        },
        "id": "LRP6psZLKVcl",
        "outputId": "d24f1997-7a08-40b9-b458-7f61b6eec443"
      },
      "execution_count": 49,
      "outputs": [
        {
          "output_type": "execute_result",
          "data": {
            "text/plain": [
              "Country\n",
              "United Kingdom          495478\n",
              "Germany                   9495\n",
              "France                    8557\n",
              "EIRE                      8196\n",
              "Spain                     2533\n",
              "Netherlands               2371\n",
              "Belgium                   2069\n",
              "Switzerland               2002\n",
              "Portugal                  1519\n",
              "Australia                 1259\n",
              "Norway                    1086\n",
              "Italy                      803\n",
              "Channel Islands            758\n",
              "Finland                    695\n",
              "Cyprus                     622\n",
              "Sweden                     462\n",
              "Unspecified                446\n",
              "Austria                    401\n",
              "Denmark                    389\n",
              "Japan                      358\n",
              "Poland                     341\n",
              "Israel                     297\n",
              "USA                        291\n",
              "Hong Kong                  288\n",
              "Singapore                  229\n",
              "Iceland                    182\n",
              "Canada                     151\n",
              "Greece                     146\n",
              "Malta                      127\n",
              "United Arab Emirates        68\n",
              "European Community          61\n",
              "RSA                         58\n",
              "Lebanon                     45\n",
              "Lithuania                   35\n",
              "Brazil                      32\n",
              "Czech Republic              30\n",
              "Bahrain                     19\n",
              "Saudi Arabia                10\n",
              "Name: count, dtype: int64"
            ]
          },
          "metadata": {},
          "execution_count": 49
        }
      ]
    },
    {
      "cell_type": "code",
      "source": [
        "df['Country'].value_counts(normalize=True, ascending=True).plot.barh(figsize=(12,10));"
      ],
      "metadata": {
        "colab": {
          "base_uri": "https://localhost:8080/",
          "height": 847
        },
        "id": "3sIGUGKKKD7e",
        "outputId": "a0970e54-00aa-49c4-a4bc-3e7fd2f0a4e6"
      },
      "execution_count": 46,
      "outputs": [
        {
          "output_type": "display_data",
          "data": {
            "text/plain": [
              "<Figure size 1200x1000 with 1 Axes>"
            ],
            "image/png": "[encoded data removed]"
          },
          "metadata": {}
        }
      ]
    },
    {
      "cell_type": "markdown",
      "source": [
        "Verificamos que o Reino Unido é responsável pela grande maioria das transações."
      ],
      "metadata": {
        "id": "6Du_njK-KlFU"
      }
    },
    {
      "cell_type": "markdown",
      "source": [
        "## Pré-processamento dos dados"
      ],
      "metadata": {
        "id": "f81CjdjvKsT0"
      }
    },
    {
      "cell_type": "markdown",
      "source": [
        "### Data Cleaning"
      ],
      "metadata": {
        "id": "CPuvkN4xLVPN"
      }
    },
    {
      "cell_type": "code",
      "source": [
        "# Remoção de linhas duplicadas\n",
        "df = df.drop_duplicates()\n",
        "df.duplicated().sum()"
      ],
      "metadata": {
        "colab": {
          "base_uri": "https://localhost:8080/"
        },
        "id": "h0aoKxySMCxp",
        "outputId": "1e5f6238-072d-457d-f291-80eeb8a54498"
      },
      "execution_count": 56,
      "outputs": [
        {
          "output_type": "execute_result",
          "data": {
            "text/plain": [
              "0"
            ]
          },
          "metadata": {},
          "execution_count": 56
        }
      ]
    },
    {
      "cell_type": "code",
      "source": [
        "# Remoção de linhas nulas\n",
        "df = df.dropna(subset=['CustomerID'])\n",
        "df.isna().sum()"
      ],
      "metadata": {
        "colab": {
          "base_uri": "https://localhost:8080/"
        },
        "id": "bR5tmvOxLfKj",
        "outputId": "7d96721e-5551-4979-d58c-188977881510"
      },
      "execution_count": 57,
      "outputs": [
        {
          "output_type": "execute_result",
          "data": {
            "text/plain": [
              "InvoiceNo      0\n",
              "StockCode      0\n",
              "Description    0\n",
              "Quantity       0\n",
              "InvoiceDate    0\n",
              "UnitPrice      0\n",
              "CustomerID     0\n",
              "Country        0\n",
              "dtype: int64"
            ]
          },
          "metadata": {},
          "execution_count": 57
        }
      ]
    },
    {
      "cell_type": "code",
      "source": [
        "# Correção dos tipos de variáveis\n",
        "df['InvoiceDate'] = pd.to_datetime(df.InvoiceDate, format='%m/%d/%Y %H:%M')\n",
        "df['CustomerID'] = df['CustomerID'].astype(int)\n",
        "df['Country'] = df['Country'].astype('category')\n",
        "df.dtypes"
      ],
      "metadata": {
        "colab": {
          "base_uri": "https://localhost:8080/"
        },
        "id": "fbIc8PQhLqj9",
        "outputId": "24d4c181-38f3-4ea9-fc0e-4b8d675fe49a"
      },
      "execution_count": 62,
      "outputs": [
        {
          "output_type": "execute_result",
          "data": {
            "text/plain": [
              "InvoiceNo              object\n",
              "StockCode              object\n",
              "Description            object\n",
              "Quantity                int64\n",
              "InvoiceDate    datetime64[ns]\n",
              "UnitPrice             float64\n",
              "CustomerID              int64\n",
              "Country              category\n",
              "dtype: object"
            ]
          },
          "metadata": {},
          "execution_count": 62
        }
      ]
    },
    {
      "cell_type": "code",
      "source": [
        "# Remoção dos valores negativos das colunas Quantity e UnitPrice\n",
        "negativos = df[['Quantity','UnitPrice']].le(0).any(axis=1)\n",
        "df = df[~negativos].copy()"
      ],
      "metadata": {
        "id": "QFxGjQYXNBlL"
      },
      "execution_count": 64,
      "outputs": []
    },
    {
      "cell_type": "code",
      "source": [
        "# Visualização do plot box com os valores corretos\n",
        "df[['Quantity','UnitPrice']].plot.box();"
      ],
      "metadata": {
        "colab": {
          "base_uri": "https://localhost:8080/",
          "height": 710
        },
        "id": "QjZnHZbqNMN8",
        "outputId": "37ddc7f4-abe7-4d63-b412-254ee9b6aa63"
      },
      "execution_count": 65,
      "outputs": [
        {
          "output_type": "execute_result",
          "data": {
            "text/plain": [
              "<Axes: >"
            ]
          },
          "metadata": {},
          "execution_count": 65
        },
        {
          "output_type": "display_data",
          "data": {
            "text/plain": [
              "<Figure size 1200x800 with 1 Axes>"
            ],
            "image/png": "[encoded data removed]"
          },
          "metadata": {}
        }
      ]
    },
    {
      "cell_type": "markdown",
      "source": [
        "Verificamos a existência de 2 outliers bastante significativos na coluna Quantity."
      ],
      "metadata": {
        "id": "bIBYPy9RNeKZ"
      }
    },
    {
      "cell_type": "code",
      "source": [
        "df.query('Quantity<10_000')[['Quantity','UnitPrice']].plot.box()"
      ],
      "metadata": {
        "colab": {
          "base_uri": "https://localhost:8080/",
          "height": 710
        },
        "id": "kIFOkS5JNlws",
        "outputId": "a056fbfa-ec65-4b85-b142-478606a76185"
      },
      "execution_count": 67,
      "outputs": [
        {
          "output_type": "execute_result",
          "data": {
            "text/plain": [
              "<Axes: >"
            ]
          },
          "metadata": {},
          "execution_count": 67
        },
        {
          "output_type": "display_data",
          "data": {
            "text/plain": [
              "<Figure size 1200x800 with 1 Axes>"
            ],
            "image/png": "[encoded data removed]"
          },
          "metadata": {}
        }
      ]
    },
    {
      "cell_type": "markdown",
      "source": [
        "Removendo os 2 outliers, verificamos a existência de 1 outlier bastante significativo na coluna UnitPrice."
      ],
      "metadata": {
        "id": "lgp1dE-UN8gY"
      }
    },
    {
      "cell_type": "code",
      "source": [
        "# Remoção dos outliers\n",
        "df = df.query('Quantity<10_000 & UnitPrice<8_000').copy()"
      ],
      "metadata": {
        "id": "ktstZRO7ONq3"
      },
      "execution_count": 68,
      "outputs": []
    },
    {
      "cell_type": "markdown",
      "source": [
        "### Criação das variáveis RFM"
      ],
      "metadata": {
        "id": "WgzbbbM_Oifk"
      }
    },
    {
      "cell_type": "code",
      "source": [
        "# Criação de coluna com o preço total da compra\n",
        "df['TotalPrice'] = df.Quantity * df.UnitPrice\n",
        "df.head()"
      ],
      "metadata": {
        "colab": {
          "base_uri": "https://localhost:8080/",
          "height": 206
        },
        "id": "ksLwGPfcOkZW",
        "outputId": "de1f3355-dc98-479e-91a2-933e5ade3b04"
      },
      "execution_count": 70,
      "outputs": [
        {
          "output_type": "execute_result",
          "data": {
            "text/plain": [
              "  InvoiceNo StockCode                          Description  Quantity  \\\n",
              "0    536365    85123A   WHITE HANGING HEART T-LIGHT HOLDER         6   \n",
              "1    536365     71053                  WHITE METAL LANTERN         6   \n",
              "2    536365    84406B       CREAM CUPID HEARTS COAT HANGER         8   \n",
              "3    536365    84029G  KNITTED UNION FLAG HOT WATER BOTTLE         6   \n",
              "4    536365    84029E       RED WOOLLY HOTTIE WHITE HEART.         6   \n",
              "\n",
              "          InvoiceDate  UnitPrice  CustomerID         Country  TotalPrice  \n",
              "0 2010-12-01 08:26:00       2.55       17850  United Kingdom       15.30  \n",
              "1 2010-12-01 08:26:00       3.39       17850  United Kingdom       20.34  \n",
              "2 2010-12-01 08:26:00       2.75       17850  United Kingdom       22.00  \n",
              "3 2010-12-01 08:26:00       3.39       17850  United Kingdom       20.34  \n",
              "4 2010-12-01 08:26:00       3.39       17850  United Kingdom       20.34  "
            ],
            "text/html": [
              "\n",
              "  <div id=\"df-c0ffc8a9-27d4-4293-9f74-a25ba4a9e586\" class=\"colab-df-container\">\n",
              "    <div>\n",
              "<style scoped>\n",
              "    .dataframe tbody tr th:only-of-type {\n",
              "        vertical-align: middle;\n",
              "    }\n",
              "\n",
              "    .dataframe tbody tr th {\n",
              "        vertical-align: top;\n",
              "    }\n",
              "\n",
              "    .dataframe thead th {\n",
              "        text-align: right;\n",
              "    }\n",
              "</style>\n",
              "<table border=\"1\" class=\"dataframe\">\n",
              "  <thead>\n",
              "    <tr style=\"text-align: right;\">\n",
              "      <th></th>\n",
              "      <th>InvoiceNo</th>\n",
              "      <th>StockCode</th>\n",
              "      <th>Description</th>\n",
              "      <th>Quantity</th>\n",
              "      <th>InvoiceDate</th>\n",
              "      <th>UnitPrice</th>\n",
              "      <th>CustomerID</th>\n",
              "      <th>Country</th>\n",
              "      <th>TotalPrice</th>\n",
              "    </tr>\n",
              "  </thead>\n",
              "  <tbody>\n",
              "    <tr>\n",
              "      <th>0</th>\n",
              "      <td>536365</td>\n",
              "      <td>85123A</td>\n",
              "      <td>WHITE HANGING HEART T-LIGHT HOLDER</td>\n",
              "      <td>6</td>\n",
              "      <td>2010-12-01 08:26:00</td>\n",
              "      <td>2.55</td>\n",
              "      <td>17850</td>\n",
              "      <td>United Kingdom</td>\n",
              "      <td>15.30</td>\n",
              "    </tr>\n",
              "    <tr>\n",
              "      <th>1</th>\n",
              "      <td>536365</td>\n",
              "      <td>71053</td>\n",
              "      <td>WHITE METAL LANTERN</td>\n",
              "      <td>6</td>\n",
              "      <td>2010-12-01 08:26:00</td>\n",
              "      <td>3.39</td>\n",
              "      <td>17850</td>\n",
              "      <td>United Kingdom</td>\n",
              "      <td>20.34</td>\n",
              "    </tr>\n",
              "    <tr>\n",
              "      <th>2</th>\n",
              "      <td>536365</td>\n",
              "      <td>84406B</td>\n",
              "      <td>CREAM CUPID HEARTS COAT HANGER</td>\n",
              "      <td>8</td>\n",
              "      <td>2010-12-01 08:26:00</td>\n",
              "      <td>2.75</td>\n",
              "      <td>17850</td>\n",
              "      <td>United Kingdom</td>\n",
              "      <td>22.00</td>\n",
              "    </tr>\n",
              "    <tr>\n",
              "      <th>3</th>\n",
              "      <td>536365</td>\n",
              "      <td>84029G</td>\n",
              "      <td>KNITTED UNION FLAG HOT WATER BOTTLE</td>\n",
              "      <td>6</td>\n",
              "      <td>2010-12-01 08:26:00</td>\n",
              "      <td>3.39</td>\n",
              "      <td>17850</td>\n",
              "      <td>United Kingdom</td>\n",
              "      <td>20.34</td>\n",
              "    </tr>\n",
              "    <tr>\n",
              "      <th>4</th>\n",
              "      <td>536365</td>\n",
              "      <td>84029E</td>\n",
              "      <td>RED WOOLLY HOTTIE WHITE HEART.</td>\n",
              "      <td>6</td>\n",
              "      <td>2010-12-01 08:26:00</td>\n",
              "      <td>3.39</td>\n",
              "      <td>17850</td>\n",
              "      <td>United Kingdom</td>\n",
              "      <td>20.34</td>\n",
              "    </tr>\n",
              "  </tbody>\n",
              "</table>\n",
              "</div>\n",
              "    <div class=\"colab-df-buttons\">\n",
              "\n",
              "  <div class=\"colab-df-container\">\n",
              "    <button class=\"colab-df-convert\" onclick=\"convertToInteractive('df-c0ffc8a9-27d4-4293-9f74-a25ba4a9e586')\"\n",
              "            title=\"Convert this dataframe to an interactive table.\"\n",
              "            style=\"display:none;\">\n",
              "\n",
              "  <svg xmlns=\"http://www.w3.org/2000/svg\" height=\"24px\" viewBox=\"0 -960 960 960\">\n",
              "    <path d=\"M120-120v-720h720v720H120Zm60-500h600v-160H180v160Zm220 220h160v-160H400v160Zm0 220h160v-160H400v160ZM180-400h160v-160H180v160Zm440 0h160v-160H620v160ZM180-180h160v-160H180v160Zm440 0h160v-160H620v160Z\"/>\n",
              "  </svg>\n",
              "    </button>\n",
              "\n",
              "  <style>\n",
              "    .colab-df-container {\n",
              "      display:flex;\n",
              "      gap: 12px;\n",
              "    }\n",
              "\n",
              "    .colab-df-convert {\n",
              "      background-color: #E8F0FE;\n",
              "      border: none;\n",
              "      border-radius: 50%;\n",
              "      cursor: pointer;\n",
              "      display: none;\n",
              "      fill: #1967D2;\n",
              "      height: 32px;\n",
              "      padding: 0 0 0 0;\n",
              "      width: 32px;\n",
              "    }\n",
              "\n",
              "    .colab-df-convert:hover {\n",
              "      background-color: #E2EBFA;\n",
              "      box-shadow: 0px 1px 2px rgba(60, 64, 67, 0.3), 0px 1px 3px 1px rgba(60, 64, 67, 0.15);\n",
              "      fill: #174EA6;\n",
              "    }\n",
              "\n",
              "    .colab-df-buttons div {\n",
              "      margin-bottom: 4px;\n",
              "    }\n",
              "\n",
              "    [theme=dark] .colab-df-convert {\n",
              "      background-color: #3B4455;\n",
              "      fill: #D2E3FC;\n",
              "    }\n",
              "\n",
              "    [theme=dark] .colab-df-convert:hover {\n",
              "      background-color: #434B5C;\n",
              "      box-shadow: 0px 1px 3px 1px rgba(0, 0, 0, 0.15);\n",
              "      filter: drop-shadow(0px 1px 2px rgba(0, 0, 0, 0.3));\n",
              "      fill: #FFFFFF;\n",
              "    }\n",
              "  </style>\n",
              "\n",
              "    <script>\n",
              "      const buttonEl =\n",
              "        document.querySelector('#df-c0ffc8a9-27d4-4293-9f74-a25ba4a9e586 button.colab-df-convert');\n",
              "      buttonEl.style.display =\n",
              "        google.colab.kernel.accessAllowed ? 'block' : 'none';\n",
              "\n",
              "      async function convertToInteractive(key) {\n",
              "        const element = document.querySelector('#df-c0ffc8a9-27d4-4293-9f74-a25ba4a9e586');\n",
              "        const dataTable =\n",
              "          await google.colab.kernel.invokeFunction('convertToInteractive',\n",
              "                                                    [key], {});\n",
              "        if (!dataTable) return;\n",
              "\n",
              "        const docLinkHtml = 'Like what you see? Visit the ' +\n",
              "          '<a target=\"_blank\" href=https://colab.research.google.com/notebooks/data_table.ipynb>data table notebook</a>'\n",
              "          + ' to learn more about interactive tables.';\n",
              "        element.innerHTML = '';\n",
              "        dataTable['output_type'] = 'display_data';\n",
              "        await google.colab.output.renderOutput(dataTable, element);\n",
              "        const docLink = document.createElement('div');\n",
              "        docLink.innerHTML = docLinkHtml;\n",
              "        element.appendChild(docLink);\n",
              "      }\n",
              "    </script>\n",
              "  </div>\n",
              "\n",
              "\n",
              "<div id=\"df-a4789893-1086-4373-8706-56f691781bee\">\n",
              "  <button class=\"colab-df-quickchart\" onclick=\"quickchart('df-a4789893-1086-4373-8706-56f691781bee')\"\n",
              "            title=\"Suggest charts\"\n",
              "            style=\"display:none;\">\n",
              "\n",
              "<svg xmlns=\"http://www.w3.org/2000/svg\" height=\"24px\"viewBox=\"0 0 24 24\"\n",
              "     width=\"24px\">\n",
              "    <g>\n",
              "        <path d=\"M19 3H5c-1.1 0-2 .9-2 2v14c0 1.1.9 2 2 2h14c1.1 0 2-.9 2-2V5c0-1.1-.9-2-2-2zM9 17H7v-7h2v7zm4 0h-2V7h2v10zm4 0h-2v-4h2v4z\"/>\n",
              "    </g>\n",
              "</svg>\n",
              "  </button>\n",
              "\n",
              "<style>\n",
              "  .colab-df-quickchart {\n",
              "      --bg-color: #E8F0FE;\n",
              "      --fill-color: #1967D2;\n",
              "      --hover-bg-color: #E2EBFA;\n",
              "      --hover-fill-color: #174EA6;\n",
              "      --disabled-fill-color: #AAA;\n",
              "      --disabled-bg-color: #DDD;\n",
              "  }\n",
              "\n",
              "  [theme=dark] .colab-df-quickchart {\n",
              "      --bg-color: #3B4455;\n",
              "      --fill-color: #D2E3FC;\n",
              "      --hover-bg-color: #434B5C;\n",
              "      --hover-fill-color: #FFFFFF;\n",
              "      --disabled-bg-color: #3B4455;\n",
              "      --disabled-fill-color: #666;\n",
              "  }\n",
              "\n",
              "  .colab-df-quickchart {\n",
              "    background-color: var(--bg-color);\n",
              "    border: none;\n",
              "    border-radius: 50%;\n",
              "    cursor: pointer;\n",
              "    display: none;\n",
              "    fill: var(--fill-color);\n",
              "    height: 32px;\n",
              "    padding: 0;\n",
              "    width: 32px;\n",
              "  }\n",
              "\n",
              "  .colab-df-quickchart:hover {\n",
              "    background-color: var(--hover-bg-color);\n",
              "    box-shadow: 0 1px 2px rgba(60, 64, 67, 0.3), 0 1px 3px 1px rgba(60, 64, 67, 0.15);\n",
              "    fill: var(--button-hover-fill-color);\n",
              "  }\n",
              "\n",
              "  .colab-df-quickchart-complete:disabled,\n",
              "  .colab-df-quickchart-complete:disabled:hover {\n",
              "    background-color: var(--disabled-bg-color);\n",
              "    fill: var(--disabled-fill-color);\n",
              "    box-shadow: none;\n",
              "  }\n",
              "\n",
              "  .colab-df-spinner {\n",
              "    border: 2px solid var(--fill-color);\n",
              "    border-color: transparent;\n",
              "    border-bottom-color: var(--fill-color);\n",
              "    animation:\n",
              "      spin 1s steps(1) infinite;\n",
              "  }\n",
              "\n",
              "  @keyframes spin {\n",
              "    0% {\n",
              "      border-color: transparent;\n",
              "      border-bottom-color: var(--fill-color);\n",
              "      border-left-color: var(--fill-color);\n",
              "    }\n",
              "    20% {\n",
              "      border-color: transparent;\n",
              "      border-left-color: var(--fill-color);\n",
              "      border-top-color: var(--fill-color);\n",
              "    }\n",
              "    30% {\n",
              "      border-color: transparent;\n",
              "      border-left-color: var(--fill-color);\n",
              "      border-top-color: var(--fill-color);\n",
              "      border-right-color: var(--fill-color);\n",
              "    }\n",
              "    40% {\n",
              "      border-color: transparent;\n",
              "      border-right-color: var(--fill-color);\n",
              "      border-top-color: var(--fill-color);\n",
              "    }\n",
              "    60% {\n",
              "      border-color: transparent;\n",
              "      border-right-color: var(--fill-color);\n",
              "    }\n",
              "    80% {\n",
              "      border-color: transparent;\n",
              "      border-right-color: var(--fill-color);\n",
              "      border-bottom-color: var(--fill-color);\n",
              "    }\n",
              "    90% {\n",
              "      border-color: transparent;\n",
              "      border-bottom-color: var(--fill-color);\n",
              "    }\n",
              "  }\n",
              "</style>\n",
              "\n",
              "  <script>\n",
              "    async function quickchart(key) {\n",
              "      const quickchartButtonEl =\n",
              "        document.querySelector('#' + key + ' button');\n",
              "      quickchartButtonEl.disabled = true;  // To prevent multiple clicks.\n",
              "      quickchartButtonEl.classList.add('colab-df-spinner');\n",
              "      try {\n",
              "        const charts = await google.colab.kernel.invokeFunction(\n",
              "            'suggestCharts', [key], {});\n",
              "      } catch (error) {\n",
              "        console.error('Error during call to suggestCharts:', error);\n",
              "      }\n",
              "      quickchartButtonEl.classList.remove('colab-df-spinner');\n",
              "      quickchartButtonEl.classList.add('colab-df-quickchart-complete');\n",
              "    }\n",
              "    (() => {\n",
              "      let quickchartButtonEl =\n",
              "        document.querySelector('#df-a4789893-1086-4373-8706-56f691781bee button');\n",
              "      quickchartButtonEl.style.display =\n",
              "        google.colab.kernel.accessAllowed ? 'block' : 'none';\n",
              "    })();\n",
              "  </script>\n",
              "</div>\n",
              "\n",
              "    </div>\n",
              "  </div>\n"
            ],
            "application/vnd.google.colaboratory.intrinsic+json": {
              "type": "dataframe",
              "variable_name": "df"
            }
          },
          "metadata": {},
          "execution_count": 70
        }
      ]
    },
    {
      "cell_type": "code",
      "source": [
        "# Criação da referência temporal\n",
        "df.InvoiceDate.agg(['min','max'])"
      ],
      "metadata": {
        "colab": {
          "base_uri": "https://localhost:8080/"
        },
        "id": "oq3_wLt4OtHf",
        "outputId": "667b8e5c-5c7c-472b-a20c-507d24700f00"
      },
      "execution_count": 71,
      "outputs": [
        {
          "output_type": "execute_result",
          "data": {
            "text/plain": [
              "min   2010-12-01 08:26:00\n",
              "max   2011-12-09 12:50:00\n",
              "Name: InvoiceDate, dtype: datetime64[ns]"
            ]
          },
          "metadata": {},
          "execution_count": 71
        }
      ]
    },
    {
      "cell_type": "markdown",
      "source": [
        "Como os dados referem-se ao período de 2010 a 2011, vamos adotar a data do início de 2012 como referência."
      ],
      "metadata": {
        "id": "SnhohBwdPG_H"
      }
    },
    {
      "cell_type": "code",
      "source": [
        "pd.Timestamp('2012-01-01')"
      ],
      "metadata": {
        "colab": {
          "base_uri": "https://localhost:8080/"
        },
        "id": "Kzdo4ukrPcCK",
        "outputId": "da097270-1ba4-4fe5-b8d2-3baf6bcd6689"
      },
      "execution_count": 72,
      "outputs": [
        {
          "output_type": "execute_result",
          "data": {
            "text/plain": [
              "Timestamp('2012-01-01 00:00:00')"
            ]
          },
          "metadata": {},
          "execution_count": 72
        }
      ]
    },
    {
      "cell_type": "code",
      "source": [
        "# Criação do dataframe RFM\n",
        "rfm = df.groupby('CustomerID').agg(\n",
        "      R = ('InvoiceDate', lambda x: (pd.Timestamp('2012-01-01') - x.max()).days),\n",
        "      F = ('InvoiceNo', 'nunique'),\n",
        "      M = ('TotalPrice', 'mean')\n",
        "  )\n",
        "\n",
        "rfm.head()"
      ],
      "metadata": {
        "colab": {
          "base_uri": "https://localhost:8080/",
          "height": 238
        },
        "id": "qZZUN7AAPhpV",
        "outputId": "8460edd4-b2b2-407f-d5a3-7e5a1fa95579"
      },
      "execution_count": 76,
      "outputs": [
        {
          "output_type": "execute_result",
          "data": {
            "text/plain": [
              "              R  F          M\n",
              "CustomerID                   \n",
              "12347        24  7  23.681319\n",
              "12348        97  4  57.975484\n",
              "12349        40  1  24.076027\n",
              "12350       332  1  19.670588\n",
              "12352        58  8  29.482824"
            ],
            "text/html": [
              "\n",
              "  <div id=\"df-a94b7ea3-a340-4432-a3e9-56d1293f35ca\" class=\"colab-df-container\">\n",
              "    <div>\n",
              "<style scoped>\n",
              "    .dataframe tbody tr th:only-of-type {\n",
              "        vertical-align: middle;\n",
              "    }\n",
              "\n",
              "    .dataframe tbody tr th {\n",
              "        vertical-align: top;\n",
              "    }\n",
              "\n",
              "    .dataframe thead th {\n",
              "        text-align: right;\n",
              "    }\n",
              "</style>\n",
              "<table border=\"1\" class=\"dataframe\">\n",
              "  <thead>\n",
              "    <tr style=\"text-align: right;\">\n",
              "      <th></th>\n",
              "      <th>R</th>\n",
              "      <th>F</th>\n",
              "      <th>M</th>\n",
              "    </tr>\n",
              "    <tr>\n",
              "      <th>CustomerID</th>\n",
              "      <th></th>\n",
              "      <th></th>\n",
              "      <th></th>\n",
              "    </tr>\n",
              "  </thead>\n",
              "  <tbody>\n",
              "    <tr>\n",
              "      <th>12347</th>\n",
              "      <td>24</td>\n",
              "      <td>7</td>\n",
              "      <td>23.681319</td>\n",
              "    </tr>\n",
              "    <tr>\n",
              "      <th>12348</th>\n",
              "      <td>97</td>\n",
              "      <td>4</td>\n",
              "      <td>57.975484</td>\n",
              "    </tr>\n",
              "    <tr>\n",
              "      <th>12349</th>\n",
              "      <td>40</td>\n",
              "      <td>1</td>\n",
              "      <td>24.076027</td>\n",
              "    </tr>\n",
              "    <tr>\n",
              "      <th>12350</th>\n",
              "      <td>332</td>\n",
              "      <td>1</td>\n",
              "      <td>19.670588</td>\n",
              "    </tr>\n",
              "    <tr>\n",
              "      <th>12352</th>\n",
              "      <td>58</td>\n",
              "      <td>8</td>\n",
              "      <td>29.482824</td>\n",
              "    </tr>\n",
              "  </tbody>\n",
              "</table>\n",
              "</div>\n",
              "    <div class=\"colab-df-buttons\">\n",
              "\n",
              "  <div class=\"colab-df-container\">\n",
              "    <button class=\"colab-df-convert\" onclick=\"convertToInteractive('df-a94b7ea3-a340-4432-a3e9-56d1293f35ca')\"\n",
              "            title=\"Convert this dataframe to an interactive table.\"\n",
              "            style=\"display:none;\">\n",
              "\n",
              "  <svg xmlns=\"http://www.w3.org/2000/svg\" height=\"24px\" viewBox=\"0 -960 960 960\">\n",
              "    <path d=\"M120-120v-720h720v720H120Zm60-500h600v-160H180v160Zm220 220h160v-160H400v160Zm0 220h160v-160H400v160ZM180-400h160v-160H180v160Zm440 0h160v-160H620v160ZM180-180h160v-160H180v160Zm440 0h160v-160H620v160Z\"/>\n",
              "  </svg>\n",
              "    </button>\n",
              "\n",
              "  <style>\n",
              "    .colab-df-container {\n",
              "      display:flex;\n",
              "      gap: 12px;\n",
              "    }\n",
              "\n",
              "    .colab-df-convert {\n",
              "      background-color: #E8F0FE;\n",
              "      border: none;\n",
              "      border-radius: 50%;\n",
              "      cursor: pointer;\n",
              "      display: none;\n",
              "      fill: #1967D2;\n",
              "      height: 32px;\n",
              "      padding: 0 0 0 0;\n",
              "      width: 32px;\n",
              "    }\n",
              "\n",
              "    .colab-df-convert:hover {\n",
              "      background-color: #E2EBFA;\n",
              "      box-shadow: 0px 1px 2px rgba(60, 64, 67, 0.3), 0px 1px 3px 1px rgba(60, 64, 67, 0.15);\n",
              "      fill: #174EA6;\n",
              "    }\n",
              "\n",
              "    .colab-df-buttons div {\n",
              "      margin-bottom: 4px;\n",
              "    }\n",
              "\n",
              "    [theme=dark] .colab-df-convert {\n",
              "      background-color: #3B4455;\n",
              "      fill: #D2E3FC;\n",
              "    }\n",
              "\n",
              "    [theme=dark] .colab-df-convert:hover {\n",
              "      background-color: #434B5C;\n",
              "      box-shadow: 0px 1px 3px 1px rgba(0, 0, 0, 0.15);\n",
              "      filter: drop-shadow(0px 1px 2px rgba(0, 0, 0, 0.3));\n",
              "      fill: #FFFFFF;\n",
              "    }\n",
              "  </style>\n",
              "\n",
              "    <script>\n",
              "      const buttonEl =\n",
              "        document.querySelector('#df-a94b7ea3-a340-4432-a3e9-56d1293f35ca button.colab-df-convert');\n",
              "      buttonEl.style.display =\n",
              "        google.colab.kernel.accessAllowed ? 'block' : 'none';\n",
              "\n",
              "      async function convertToInteractive(key) {\n",
              "        const element = document.querySelector('#df-a94b7ea3-a340-4432-a3e9-56d1293f35ca');\n",
              "        const dataTable =\n",
              "          await google.colab.kernel.invokeFunction('convertToInteractive',\n",
              "                                                    [key], {});\n",
              "        if (!dataTable) return;\n",
              "\n",
              "        const docLinkHtml = 'Like what you see? Visit the ' +\n",
              "          '<a target=\"_blank\" href=https://colab.research.google.com/notebooks/data_table.ipynb>data table notebook</a>'\n",
              "          + ' to learn more about interactive tables.';\n",
              "        element.innerHTML = '';\n",
              "        dataTable['output_type'] = 'display_data';\n",
              "        await google.colab.output.renderOutput(dataTable, element);\n",
              "        const docLink = document.createElement('div');\n",
              "        docLink.innerHTML = docLinkHtml;\n",
              "        element.appendChild(docLink);\n",
              "      }\n",
              "    </script>\n",
              "  </div>\n",
              "\n",
              "\n",
              "<div id=\"df-1be0755f-ac50-49c6-bf61-3999daa2c232\">\n",
              "  <button class=\"colab-df-quickchart\" onclick=\"quickchart('df-1be0755f-ac50-49c6-bf61-3999daa2c232')\"\n",
              "            title=\"Suggest charts\"\n",
              "            style=\"display:none;\">\n",
              "\n",
              "<svg xmlns=\"http://www.w3.org/2000/svg\" height=\"24px\"viewBox=\"0 0 24 24\"\n",
              "     width=\"24px\">\n",
              "    <g>\n",
              "        <path d=\"M19 3H5c-1.1 0-2 .9-2 2v14c0 1.1.9 2 2 2h14c1.1 0 2-.9 2-2V5c0-1.1-.9-2-2-2zM9 17H7v-7h2v7zm4 0h-2V7h2v10zm4 0h-2v-4h2v4z\"/>\n",
              "    </g>\n",
              "</svg>\n",
              "  </button>\n",
              "\n",
              "<style>\n",
              "  .colab-df-quickchart {\n",
              "      --bg-color: #E8F0FE;\n",
              "      --fill-color: #1967D2;\n",
              "      --hover-bg-color: #E2EBFA;\n",
              "      --hover-fill-color: #174EA6;\n",
              "      --disabled-fill-color: #AAA;\n",
              "      --disabled-bg-color: #DDD;\n",
              "  }\n",
              "\n",
              "  [theme=dark] .colab-df-quickchart {\n",
              "      --bg-color: #3B4455;\n",
              "      --fill-color: #D2E3FC;\n",
              "      --hover-bg-color: #434B5C;\n",
              "      --hover-fill-color: #FFFFFF;\n",
              "      --disabled-bg-color: #3B4455;\n",
              "      --disabled-fill-color: #666;\n",
              "  }\n",
              "\n",
              "  .colab-df-quickchart {\n",
              "    background-color: var(--bg-color);\n",
              "    border: none;\n",
              "    border-radius: 50%;\n",
              "    cursor: pointer;\n",
              "    display: none;\n",
              "    fill: var(--fill-color);\n",
              "    height: 32px;\n",
              "    padding: 0;\n",
              "    width: 32px;\n",
              "  }\n",
              "\n",
              "  .colab-df-quickchart:hover {\n",
              "    background-color: var(--hover-bg-color);\n",
              "    box-shadow: 0 1px 2px rgba(60, 64, 67, 0.3), 0 1px 3px 1px rgba(60, 64, 67, 0.15);\n",
              "    fill: var(--button-hover-fill-color);\n",
              "  }\n",
              "\n",
              "  .colab-df-quickchart-complete:disabled,\n",
              "  .colab-df-quickchart-complete:disabled:hover {\n",
              "    background-color: var(--disabled-bg-color);\n",
              "    fill: var(--disabled-fill-color);\n",
              "    box-shadow: none;\n",
              "  }\n",
              "\n",
              "  .colab-df-spinner {\n",
              "    border: 2px solid var(--fill-color);\n",
              "    border-color: transparent;\n",
              "    border-bottom-color: var(--fill-color);\n",
              "    animation:\n",
              "      spin 1s steps(1) infinite;\n",
              "  }\n",
              "\n",
              "  @keyframes spin {\n",
              "    0% {\n",
              "      border-color: transparent;\n",
              "      border-bottom-color: var(--fill-color);\n",
              "      border-left-color: var(--fill-color);\n",
              "    }\n",
              "    20% {\n",
              "      border-color: transparent;\n",
              "      border-left-color: var(--fill-color);\n",
              "      border-top-color: var(--fill-color);\n",
              "    }\n",
              "    30% {\n",
              "      border-color: transparent;\n",
              "      border-left-color: var(--fill-color);\n",
              "      border-top-color: var(--fill-color);\n",
              "      border-right-color: var(--fill-color);\n",
              "    }\n",
              "    40% {\n",
              "      border-color: transparent;\n",
              "      border-right-color: var(--fill-color);\n",
              "      border-top-color: var(--fill-color);\n",
              "    }\n",
              "    60% {\n",
              "      border-color: transparent;\n",
              "      border-right-color: var(--fill-color);\n",
              "    }\n",
              "    80% {\n",
              "      border-color: transparent;\n",
              "      border-right-color: var(--fill-color);\n",
              "      border-bottom-color: var(--fill-color);\n",
              "    }\n",
              "    90% {\n",
              "      border-color: transparent;\n",
              "      border-bottom-color: var(--fill-color);\n",
              "    }\n",
              "  }\n",
              "</style>\n",
              "\n",
              "  <script>\n",
              "    async function quickchart(key) {\n",
              "      const quickchartButtonEl =\n",
              "        document.querySelector('#' + key + ' button');\n",
              "      quickchartButtonEl.disabled = true;  // To prevent multiple clicks.\n",
              "      quickchartButtonEl.classList.add('colab-df-spinner');\n",
              "      try {\n",
              "        const charts = await google.colab.kernel.invokeFunction(\n",
              "            'suggestCharts', [key], {});\n",
              "      } catch (error) {\n",
              "        console.error('Error during call to suggestCharts:', error);\n",
              "      }\n",
              "      quickchartButtonEl.classList.remove('colab-df-spinner');\n",
              "      quickchartButtonEl.classList.add('colab-df-quickchart-complete');\n",
              "    }\n",
              "    (() => {\n",
              "      let quickchartButtonEl =\n",
              "        document.querySelector('#df-1be0755f-ac50-49c6-bf61-3999daa2c232 button');\n",
              "      quickchartButtonEl.style.display =\n",
              "        google.colab.kernel.accessAllowed ? 'block' : 'none';\n",
              "    })();\n",
              "  </script>\n",
              "</div>\n",
              "\n",
              "    </div>\n",
              "  </div>\n"
            ],
            "application/vnd.google.colaboratory.intrinsic+json": {
              "type": "dataframe",
              "variable_name": "rfm",
              "summary": "{\n  \"name\": \"rfm\",\n  \"rows\": 4337,\n  \"fields\": [\n    {\n      \"column\": \"CustomerID\",\n      \"properties\": {\n        \"dtype\": \"number\",\n        \"std\": 1721,\n        \"min\": 12347,\n        \"max\": 18287,\n        \"num_unique_values\": 4337,\n        \"samples\": [\n          17786,\n          14321,\n          15978\n        ],\n        \"semantic_type\": \"\",\n        \"description\": \"\"\n      }\n    },\n    {\n      \"column\": \"R\",\n      \"properties\": {\n        \"dtype\": \"number\",\n        \"std\": 99,\n        \"min\": 22,\n        \"max\": 395,\n        \"num_unique_values\": 304,\n        \"samples\": [\n          314,\n          282,\n          80\n        ],\n        \"semantic_type\": \"\",\n        \"description\": \"\"\n      }\n    },\n    {\n      \"column\": \"F\",\n      \"properties\": {\n        \"dtype\": \"number\",\n        \"std\": 7,\n        \"min\": 1,\n        \"max\": 209,\n        \"num_unique_values\": 58,\n        \"samples\": [\n          7,\n          2,\n          62\n        ],\n        \"semantic_type\": \"\",\n        \"description\": \"\"\n      }\n    },\n    {\n      \"column\": \"M\",\n      \"properties\": {\n        \"dtype\": \"number\",\n        \"std\": 239.3696969201122,\n        \"min\": 1.45,\n        \"max\": 13305.5,\n        \"num_unique_values\": 4294,\n        \"samples\": [\n          17.71484076433121,\n          135.10000000000002,\n          5.430714285714286\n        ],\n        \"semantic_type\": \"\",\n        \"description\": \"\"\n      }\n    }\n  ]\n}"
            }
          },
          "metadata": {},
          "execution_count": 76
        }
      ]
    },
    {
      "cell_type": "code",
      "source": [
        "# Visualização do plot box RFM\n",
        "rfm.apply(scale).plot.box();"
      ],
      "metadata": {
        "colab": {
          "base_uri": "https://localhost:8080/",
          "height": 693
        },
        "id": "DXijiIBOPuuc",
        "outputId": "58d6cea5-0dd3-4e0c-dabd-bd63a37f3d02"
      },
      "execution_count": 78,
      "outputs": [
        {
          "output_type": "display_data",
          "data": {
            "text/plain": [
              "<Figure size 1200x800 with 1 Axes>"
            ],
            "image/png": "[encoded data removed]"
          },
          "metadata": {}
        }
      ]
    },
    {
      "cell_type": "markdown",
      "source": [
        "Verificamos a existência de 1 outlier significativo em M."
      ],
      "metadata": {
        "id": "FtC4WgqfQX2o"
      }
    },
    {
      "cell_type": "code",
      "source": [
        "# Remoção do outlier\n",
        "rfm = rfm.drop(15098)"
      ],
      "metadata": {
        "id": "dW1JaNzjQUbo"
      },
      "execution_count": 80,
      "outputs": []
    },
    {
      "cell_type": "code",
      "source": [
        "# Transformação dos dados\n",
        "scaler = PowerTransformer()\n",
        "rfm_scaled = pd.DataFrame(scaler.fit_transform(rfm), index=rfm.index, columns=rfm.columns)\n",
        "rfm_scaled.head()"
      ],
      "metadata": {
        "colab": {
          "base_uri": "https://localhost:8080/",
          "height": 238
        },
        "id": "CKmy9NuERVC9",
        "outputId": "ef9d4d15-d0b7-464b-f580-f60e143e3a14"
      },
      "execution_count": 84,
      "outputs": [
        {
          "output_type": "execute_result",
          "data": {
            "text/plain": [
              "                   R         F         M\n",
              "CustomerID                              \n",
              "12347      -1.563219  1.201866  0.407173\n",
              "12348       0.323470  0.660670  1.331122\n",
              "12349      -0.809134 -1.158070  0.426251\n",
              "12350       1.568467 -1.158070  0.187636\n",
              "12352      -0.307718  1.309671  0.653747"
            ],
            "text/html": [
              "\n",
              "  <div id=\"df-7a6c8e09-2f79-4db6-becd-4fed40d1f847\" class=\"colab-df-container\">\n",
              "    <div>\n",
              "<style scoped>\n",
              "    .dataframe tbody tr th:only-of-type {\n",
              "        vertical-align: middle;\n",
              "    }\n",
              "\n",
              "    .dataframe tbody tr th {\n",
              "        vertical-align: top;\n",
              "    }\n",
              "\n",
              "    .dataframe thead th {\n",
              "        text-align: right;\n",
              "    }\n",
              "</style>\n",
              "<table border=\"1\" class=\"dataframe\">\n",
              "  <thead>\n",
              "    <tr style=\"text-align: right;\">\n",
              "      <th></th>\n",
              "      <th>R</th>\n",
              "      <th>F</th>\n",
              "      <th>M</th>\n",
              "    </tr>\n",
              "    <tr>\n",
              "      <th>CustomerID</th>\n",
              "      <th></th>\n",
              "      <th></th>\n",
              "      <th></th>\n",
              "    </tr>\n",
              "  </thead>\n",
              "  <tbody>\n",
              "    <tr>\n",
              "      <th>12347</th>\n",
              "      <td>-1.563219</td>\n",
              "      <td>1.201866</td>\n",
              "      <td>0.407173</td>\n",
              "    </tr>\n",
              "    <tr>\n",
              "      <th>12348</th>\n",
              "      <td>0.323470</td>\n",
              "      <td>0.660670</td>\n",
              "      <td>1.331122</td>\n",
              "    </tr>\n",
              "    <tr>\n",
              "      <th>12349</th>\n",
              "      <td>-0.809134</td>\n",
              "      <td>-1.158070</td>\n",
              "      <td>0.426251</td>\n",
              "    </tr>\n",
              "    <tr>\n",
              "      <th>12350</th>\n",
              "      <td>1.568467</td>\n",
              "      <td>-1.158070</td>\n",
              "      <td>0.187636</td>\n",
              "    </tr>\n",
              "    <tr>\n",
              "      <th>12352</th>\n",
              "      <td>-0.307718</td>\n",
              "      <td>1.309671</td>\n",
              "      <td>0.653747</td>\n",
              "    </tr>\n",
              "  </tbody>\n",
              "</table>\n",
              "</div>\n",
              "    <div class=\"colab-df-buttons\">\n",
              "\n",
              "  <div class=\"colab-df-container\">\n",
              "    <button class=\"colab-df-convert\" onclick=\"convertToInteractive('df-7a6c8e09-2f79-4db6-becd-4fed40d1f847')\"\n",
              "            title=\"Convert this dataframe to an interactive table.\"\n",
              "            style=\"display:none;\">\n",
              "\n",
              "  <svg xmlns=\"http://www.w3.org/2000/svg\" height=\"24px\" viewBox=\"0 -960 960 960\">\n",
              "    <path d=\"M120-120v-720h720v720H120Zm60-500h600v-160H180v160Zm220 220h160v-160H400v160Zm0 220h160v-160H400v160ZM180-400h160v-160H180v160Zm440 0h160v-160H620v160ZM180-180h160v-160H180v160Zm440 0h160v-160H620v160Z\"/>\n",
              "  </svg>\n",
              "    </button>\n",
              "\n",
              "  <style>\n",
              "    .colab-df-container {\n",
              "      display:flex;\n",
              "      gap: 12px;\n",
              "    }\n",
              "\n",
              "    .colab-df-convert {\n",
              "      background-color: #E8F0FE;\n",
              "      border: none;\n",
              "      border-radius: 50%;\n",
              "      cursor: pointer;\n",
              "      display: none;\n",
              "      fill: #1967D2;\n",
              "      height: 32px;\n",
              "      padding: 0 0 0 0;\n",
              "      width: 32px;\n",
              "    }\n",
              "\n",
              "    .colab-df-convert:hover {\n",
              "      background-color: #E2EBFA;\n",
              "      box-shadow: 0px 1px 2px rgba(60, 64, 67, 0.3), 0px 1px 3px 1px rgba(60, 64, 67, 0.15);\n",
              "      fill: #174EA6;\n",
              "    }\n",
              "\n",
              "    .colab-df-buttons div {\n",
              "      margin-bottom: 4px;\n",
              "    }\n",
              "\n",
              "    [theme=dark] .colab-df-convert {\n",
              "      background-color: #3B4455;\n",
              "      fill: #D2E3FC;\n",
              "    }\n",
              "\n",
              "    [theme=dark] .colab-df-convert:hover {\n",
              "      background-color: #434B5C;\n",
              "      box-shadow: 0px 1px 3px 1px rgba(0, 0, 0, 0.15);\n",
              "      filter: drop-shadow(0px 1px 2px rgba(0, 0, 0, 0.3));\n",
              "      fill: #FFFFFF;\n",
              "    }\n",
              "  </style>\n",
              "\n",
              "    <script>\n",
              "      const buttonEl =\n",
              "        document.querySelector('#df-7a6c8e09-2f79-4db6-becd-4fed40d1f847 button.colab-df-convert');\n",
              "      buttonEl.style.display =\n",
              "        google.colab.kernel.accessAllowed ? 'block' : 'none';\n",
              "\n",
              "      async function convertToInteractive(key) {\n",
              "        const element = document.querySelector('#df-7a6c8e09-2f79-4db6-becd-4fed40d1f847');\n",
              "        const dataTable =\n",
              "          await google.colab.kernel.invokeFunction('convertToInteractive',\n",
              "                                                    [key], {});\n",
              "        if (!dataTable) return;\n",
              "\n",
              "        const docLinkHtml = 'Like what you see? Visit the ' +\n",
              "          '<a target=\"_blank\" href=https://colab.research.google.com/notebooks/data_table.ipynb>data table notebook</a>'\n",
              "          + ' to learn more about interactive tables.';\n",
              "        element.innerHTML = '';\n",
              "        dataTable['output_type'] = 'display_data';\n",
              "        await google.colab.output.renderOutput(dataTable, element);\n",
              "        const docLink = document.createElement('div');\n",
              "        docLink.innerHTML = docLinkHtml;\n",
              "        element.appendChild(docLink);\n",
              "      }\n",
              "    </script>\n",
              "  </div>\n",
              "\n",
              "\n",
              "<div id=\"df-ed57144a-ee25-481b-b8ac-e26270af548a\">\n",
              "  <button class=\"colab-df-quickchart\" onclick=\"quickchart('df-ed57144a-ee25-481b-b8ac-e26270af548a')\"\n",
              "            title=\"Suggest charts\"\n",
              "            style=\"display:none;\">\n",
              "\n",
              "<svg xmlns=\"http://www.w3.org/2000/svg\" height=\"24px\"viewBox=\"0 0 24 24\"\n",
              "     width=\"24px\">\n",
              "    <g>\n",
              "        <path d=\"M19 3H5c-1.1 0-2 .9-2 2v14c0 1.1.9 2 2 2h14c1.1 0 2-.9 2-2V5c0-1.1-.9-2-2-2zM9 17H7v-7h2v7zm4 0h-2V7h2v10zm4 0h-2v-4h2v4z\"/>\n",
              "    </g>\n",
              "</svg>\n",
              "  </button>\n",
              "\n",
              "<style>\n",
              "  .colab-df-quickchart {\n",
              "      --bg-color: #E8F0FE;\n",
              "      --fill-color: #1967D2;\n",
              "      --hover-bg-color: #E2EBFA;\n",
              "      --hover-fill-color: #174EA6;\n",
              "      --disabled-fill-color: #AAA;\n",
              "      --disabled-bg-color: #DDD;\n",
              "  }\n",
              "\n",
              "  [theme=dark] .colab-df-quickchart {\n",
              "      --bg-color: #3B4455;\n",
              "      --fill-color: #D2E3FC;\n",
              "      --hover-bg-color: #434B5C;\n",
              "      --hover-fill-color: #FFFFFF;\n",
              "      --disabled-bg-color: #3B4455;\n",
              "      --disabled-fill-color: #666;\n",
              "  }\n",
              "\n",
              "  .colab-df-quickchart {\n",
              "    background-color: var(--bg-color);\n",
              "    border: none;\n",
              "    border-radius: 50%;\n",
              "    cursor: pointer;\n",
              "    display: none;\n",
              "    fill: var(--fill-color);\n",
              "    height: 32px;\n",
              "    padding: 0;\n",
              "    width: 32px;\n",
              "  }\n",
              "\n",
              "  .colab-df-quickchart:hover {\n",
              "    background-color: var(--hover-bg-color);\n",
              "    box-shadow: 0 1px 2px rgba(60, 64, 67, 0.3), 0 1px 3px 1px rgba(60, 64, 67, 0.15);\n",
              "    fill: var(--button-hover-fill-color);\n",
              "  }\n",
              "\n",
              "  .colab-df-quickchart-complete:disabled,\n",
              "  .colab-df-quickchart-complete:disabled:hover {\n",
              "    background-color: var(--disabled-bg-color);\n",
              "    fill: var(--disabled-fill-color);\n",
              "    box-shadow: none;\n",
              "  }\n",
              "\n",
              "  .colab-df-spinner {\n",
              "    border: 2px solid var(--fill-color);\n",
              "    border-color: transparent;\n",
              "    border-bottom-color: var(--fill-color);\n",
              "    animation:\n",
              "      spin 1s steps(1) infinite;\n",
              "  }\n",
              "\n",
              "  @keyframes spin {\n",
              "    0% {\n",
              "      border-color: transparent;\n",
              "      border-bottom-color: var(--fill-color);\n",
              "      border-left-color: var(--fill-color);\n",
              "    }\n",
              "    20% {\n",
              "      border-color: transparent;\n",
              "      border-left-color: var(--fill-color);\n",
              "      border-top-color: var(--fill-color);\n",
              "    }\n",
              "    30% {\n",
              "      border-color: transparent;\n",
              "      border-left-color: var(--fill-color);\n",
              "      border-top-color: var(--fill-color);\n",
              "      border-right-color: var(--fill-color);\n",
              "    }\n",
              "    40% {\n",
              "      border-color: transparent;\n",
              "      border-right-color: var(--fill-color);\n",
              "      border-top-color: var(--fill-color);\n",
              "    }\n",
              "    60% {\n",
              "      border-color: transparent;\n",
              "      border-right-color: var(--fill-color);\n",
              "    }\n",
              "    80% {\n",
              "      border-color: transparent;\n",
              "      border-right-color: var(--fill-color);\n",
              "      border-bottom-color: var(--fill-color);\n",
              "    }\n",
              "    90% {\n",
              "      border-color: transparent;\n",
              "      border-bottom-color: var(--fill-color);\n",
              "    }\n",
              "  }\n",
              "</style>\n",
              "\n",
              "  <script>\n",
              "    async function quickchart(key) {\n",
              "      const quickchartButtonEl =\n",
              "        document.querySelector('#' + key + ' button');\n",
              "      quickchartButtonEl.disabled = true;  // To prevent multiple clicks.\n",
              "      quickchartButtonEl.classList.add('colab-df-spinner');\n",
              "      try {\n",
              "        const charts = await google.colab.kernel.invokeFunction(\n",
              "            'suggestCharts', [key], {});\n",
              "      } catch (error) {\n",
              "        console.error('Error during call to suggestCharts:', error);\n",
              "      }\n",
              "      quickchartButtonEl.classList.remove('colab-df-spinner');\n",
              "      quickchartButtonEl.classList.add('colab-df-quickchart-complete');\n",
              "    }\n",
              "    (() => {\n",
              "      let quickchartButtonEl =\n",
              "        document.querySelector('#df-ed57144a-ee25-481b-b8ac-e26270af548a button');\n",
              "      quickchartButtonEl.style.display =\n",
              "        google.colab.kernel.accessAllowed ? 'block' : 'none';\n",
              "    })();\n",
              "  </script>\n",
              "</div>\n",
              "\n",
              "    </div>\n",
              "  </div>\n"
            ],
            "application/vnd.google.colaboratory.intrinsic+json": {
              "type": "dataframe",
              "variable_name": "rfm_scaled",
              "summary": "{\n  \"name\": \"rfm_scaled\",\n  \"rows\": 4336,\n  \"fields\": [\n    {\n      \"column\": \"CustomerID\",\n      \"properties\": {\n        \"dtype\": \"number\",\n        \"std\": 1721,\n        \"min\": 12347,\n        \"max\": 18287,\n        \"num_unique_values\": 4336,\n        \"samples\": [\n          17783,\n          13627,\n          15978\n        ],\n        \"semantic_type\": \"\",\n        \"description\": \"\"\n      }\n    },\n    {\n      \"column\": \"R\",\n      \"properties\": {\n        \"dtype\": \"number\",\n        \"std\": 1.0001153336028286,\n        \"min\": -1.6991830572084397,\n        \"max\": 1.7176294296227788,\n        \"num_unique_values\": 304,\n        \"samples\": [\n          1.5193280151949022,\n          1.422768835004874,\n          0.09526696845316678\n        ],\n        \"semantic_type\": \"\",\n        \"description\": \"\"\n      }\n    },\n    {\n      \"column\": \"F\",\n      \"properties\": {\n        \"dtype\": \"number\",\n        \"std\": 1.0001153336028288,\n        \"min\": -1.1580704420989782,\n        \"max\": 2.351418025442386,\n        \"num_unique_values\": 58,\n        \"samples\": [\n          1.2018662507764182,\n          -0.1957071736284001,\n          2.1957103383889143\n        ],\n        \"semantic_type\": \"\",\n        \"description\": \"\"\n      }\n    },\n    {\n      \"column\": \"M\",\n      \"properties\": {\n        \"dtype\": \"number\",\n        \"std\": 1.0001153336028286,\n        \"min\": -3.6094541274796588,\n        \"max\": 3.579405470742376,\n        \"num_unique_values\": 4284,\n        \"samples\": [\n          0.009916667869357743,\n          -0.057272182172821824,\n          -1.084007544386417\n        ],\n        \"semantic_type\": \"\",\n        \"description\": \"\"\n      }\n    }\n  ]\n}"
            }
          },
          "metadata": {},
          "execution_count": 84
        }
      ]
    },
    {
      "cell_type": "code",
      "source": [
        "# Plot box RFM transformado\n",
        "rfm_scaled.plot.box();"
      ],
      "metadata": {
        "colab": {
          "base_uri": "https://localhost:8080/",
          "height": 710
        },
        "id": "ngmRUMb1RdEN",
        "outputId": "e94af8b7-1d00-48a8-e67c-6eb62c97ed3f"
      },
      "execution_count": 85,
      "outputs": [
        {
          "output_type": "execute_result",
          "data": {
            "text/plain": [
              "<Axes: >"
            ]
          },
          "metadata": {},
          "execution_count": 85
        },
        {
          "output_type": "display_data",
          "data": {
            "text/plain": [
              "<Figure size 1200x800 with 1 Axes>"
            ],
            "image/png": "[encoded data removed]"
          },
          "metadata": {}
        }
      ]
    },
    {
      "cell_type": "code",
      "source": [
        "# Descrição estatística dos dados transformados\n",
        "rfm.describe()"
      ],
      "metadata": {
        "colab": {
          "base_uri": "https://localhost:8080/",
          "height": 300
        },
        "id": "ss4kzs5ORysm",
        "outputId": "92f62420-6bf5-4e28-c1a6-bbb4df4e4517"
      },
      "execution_count": 86,
      "outputs": [
        {
          "output_type": "execute_result",
          "data": {
            "text/plain": [
              "                 R            F            M\n",
              "count  4336.000000  4336.000000  4336.000000\n",
              "mean    114.032288     4.272601    34.585253\n",
              "std      99.968352     7.697927   129.203857\n",
              "min      22.000000     1.000000     1.450000\n",
              "25%      39.000000     1.000000    12.381225\n",
              "50%      72.000000     2.000000    17.737784\n",
              "75%     163.250000     5.000000    24.853250\n",
              "max     395.000000   209.000000  4453.430000"
            ],
            "text/html": [
              "\n",
              "  <div id=\"df-118fc904-d946-4701-abb5-dd7ae5c6ae39\" class=\"colab-df-container\">\n",
              "    <div>\n",
              "<style scoped>\n",
              "    .dataframe tbody tr th:only-of-type {\n",
              "        vertical-align: middle;\n",
              "    }\n",
              "\n",
              "    .dataframe tbody tr th {\n",
              "        vertical-align: top;\n",
              "    }\n",
              "\n",
              "    .dataframe thead th {\n",
              "        text-align: right;\n",
              "    }\n",
              "</style>\n",
              "<table border=\"1\" class=\"dataframe\">\n",
              "  <thead>\n",
              "    <tr style=\"text-align: right;\">\n",
              "      <th></th>\n",
              "      <th>R</th>\n",
              "      <th>F</th>\n",
              "      <th>M</th>\n",
              "    </tr>\n",
              "  </thead>\n",
              "  <tbody>\n",
              "    <tr>\n",
              "      <th>count</th>\n",
              "      <td>4336.000000</td>\n",
              "      <td>4336.000000</td>\n",
              "      <td>4336.000000</td>\n",
              "    </tr>\n",
              "    <tr>\n",
              "      <th>mean</th>\n",
              "      <td>114.032288</td>\n",
              "      <td>4.272601</td>\n",
              "      <td>34.585253</td>\n",
              "    </tr>\n",
              "    <tr>\n",
              "      <th>std</th>\n",
              "      <td>99.968352</td>\n",
              "      <td>7.697927</td>\n",
              "      <td>129.203857</td>\n",
              "    </tr>\n",
              "    <tr>\n",
              "      <th>min</th>\n",
              "      <td>22.000000</td>\n",
              "      <td>1.000000</td>\n",
              "      <td>1.450000</td>\n",
              "    </tr>\n",
              "    <tr>\n",
              "      <th>25%</th>\n",
              "      <td>39.000000</td>\n",
              "      <td>1.000000</td>\n",
              "      <td>12.381225</td>\n",
              "    </tr>\n",
              "    <tr>\n",
              "      <th>50%</th>\n",
              "      <td>72.000000</td>\n",
              "      <td>2.000000</td>\n",
              "      <td>17.737784</td>\n",
              "    </tr>\n",
              "    <tr>\n",
              "      <th>75%</th>\n",
              "      <td>163.250000</td>\n",
              "      <td>5.000000</td>\n",
              "      <td>24.853250</td>\n",
              "    </tr>\n",
              "    <tr>\n",
              "      <th>max</th>\n",
              "      <td>395.000000</td>\n",
              "      <td>209.000000</td>\n",
              "      <td>4453.430000</td>\n",
              "    </tr>\n",
              "  </tbody>\n",
              "</table>\n",
              "</div>\n",
              "    <div class=\"colab-df-buttons\">\n",
              "\n",
              "  <div class=\"colab-df-container\">\n",
              "    <button class=\"colab-df-convert\" onclick=\"convertToInteractive('df-118fc904-d946-4701-abb5-dd7ae5c6ae39')\"\n",
              "            title=\"Convert this dataframe to an interactive table.\"\n",
              "            style=\"display:none;\">\n",
              "\n",
              "  <svg xmlns=\"http://www.w3.org/2000/svg\" height=\"24px\" viewBox=\"0 -960 960 960\">\n",
              "    <path d=\"M120-120v-720h720v720H120Zm60-500h600v-160H180v160Zm220 220h160v-160H400v160Zm0 220h160v-160H400v160ZM180-400h160v-160H180v160Zm440 0h160v-160H620v160ZM180-180h160v-160H180v160Zm440 0h160v-160H620v160Z\"/>\n",
              "  </svg>\n",
              "    </button>\n",
              "\n",
              "  <style>\n",
              "    .colab-df-container {\n",
              "      display:flex;\n",
              "      gap: 12px;\n",
              "    }\n",
              "\n",
              "    .colab-df-convert {\n",
              "      background-color: #E8F0FE;\n",
              "      border: none;\n",
              "      border-radius: 50%;\n",
              "      cursor: pointer;\n",
              "      display: none;\n",
              "      fill: #1967D2;\n",
              "      height: 32px;\n",
              "      padding: 0 0 0 0;\n",
              "      width: 32px;\n",
              "    }\n",
              "\n",
              "    .colab-df-convert:hover {\n",
              "      background-color: #E2EBFA;\n",
              "      box-shadow: 0px 1px 2px rgba(60, 64, 67, 0.3), 0px 1px 3px 1px rgba(60, 64, 67, 0.15);\n",
              "      fill: #174EA6;\n",
              "    }\n",
              "\n",
              "    .colab-df-buttons div {\n",
              "      margin-bottom: 4px;\n",
              "    }\n",
              "\n",
              "    [theme=dark] .colab-df-convert {\n",
              "      background-color: #3B4455;\n",
              "      fill: #D2E3FC;\n",
              "    }\n",
              "\n",
              "    [theme=dark] .colab-df-convert:hover {\n",
              "      background-color: #434B5C;\n",
              "      box-shadow: 0px 1px 3px 1px rgba(0, 0, 0, 0.15);\n",
              "      filter: drop-shadow(0px 1px 2px rgba(0, 0, 0, 0.3));\n",
              "      fill: #FFFFFF;\n",
              "    }\n",
              "  </style>\n",
              "\n",
              "    <script>\n",
              "      const buttonEl =\n",
              "        document.querySelector('#df-118fc904-d946-4701-abb5-dd7ae5c6ae39 button.colab-df-convert');\n",
              "      buttonEl.style.display =\n",
              "        google.colab.kernel.accessAllowed ? 'block' : 'none';\n",
              "\n",
              "      async function convertToInteractive(key) {\n",
              "        const element = document.querySelector('#df-118fc904-d946-4701-abb5-dd7ae5c6ae39');\n",
              "        const dataTable =\n",
              "          await google.colab.kernel.invokeFunction('convertToInteractive',\n",
              "                                                    [key], {});\n",
              "        if (!dataTable) return;\n",
              "\n",
              "        const docLinkHtml = 'Like what you see? Visit the ' +\n",
              "          '<a target=\"_blank\" href=https://colab.research.google.com/notebooks/data_table.ipynb>data table notebook</a>'\n",
              "          + ' to learn more about interactive tables.';\n",
              "        element.innerHTML = '';\n",
              "        dataTable['output_type'] = 'display_data';\n",
              "        await google.colab.output.renderOutput(dataTable, element);\n",
              "        const docLink = document.createElement('div');\n",
              "        docLink.innerHTML = docLinkHtml;\n",
              "        element.appendChild(docLink);\n",
              "      }\n",
              "    </script>\n",
              "  </div>\n",
              "\n",
              "\n",
              "<div id=\"df-5b40e85f-da52-4c99-bba9-6feace00daaf\">\n",
              "  <button class=\"colab-df-quickchart\" onclick=\"quickchart('df-5b40e85f-da52-4c99-bba9-6feace00daaf')\"\n",
              "            title=\"Suggest charts\"\n",
              "            style=\"display:none;\">\n",
              "\n",
              "<svg xmlns=\"http://www.w3.org/2000/svg\" height=\"24px\"viewBox=\"0 0 24 24\"\n",
              "     width=\"24px\">\n",
              "    <g>\n",
              "        <path d=\"M19 3H5c-1.1 0-2 .9-2 2v14c0 1.1.9 2 2 2h14c1.1 0 2-.9 2-2V5c0-1.1-.9-2-2-2zM9 17H7v-7h2v7zm4 0h-2V7h2v10zm4 0h-2v-4h2v4z\"/>\n",
              "    </g>\n",
              "</svg>\n",
              "  </button>\n",
              "\n",
              "<style>\n",
              "  .colab-df-quickchart {\n",
              "      --bg-color: #E8F0FE;\n",
              "      --fill-color: #1967D2;\n",
              "      --hover-bg-color: #E2EBFA;\n",
              "      --hover-fill-color: #174EA6;\n",
              "      --disabled-fill-color: #AAA;\n",
              "      --disabled-bg-color: #DDD;\n",
              "  }\n",
              "\n",
              "  [theme=dark] .colab-df-quickchart {\n",
              "      --bg-color: #3B4455;\n",
              "      --fill-color: #D2E3FC;\n",
              "      --hover-bg-color: #434B5C;\n",
              "      --hover-fill-color: #FFFFFF;\n",
              "      --disabled-bg-color: #3B4455;\n",
              "      --disabled-fill-color: #666;\n",
              "  }\n",
              "\n",
              "  .colab-df-quickchart {\n",
              "    background-color: var(--bg-color);\n",
              "    border: none;\n",
              "    border-radius: 50%;\n",
              "    cursor: pointer;\n",
              "    display: none;\n",
              "    fill: var(--fill-color);\n",
              "    height: 32px;\n",
              "    padding: 0;\n",
              "    width: 32px;\n",
              "  }\n",
              "\n",
              "  .colab-df-quickchart:hover {\n",
              "    background-color: var(--hover-bg-color);\n",
              "    box-shadow: 0 1px 2px rgba(60, 64, 67, 0.3), 0 1px 3px 1px rgba(60, 64, 67, 0.15);\n",
              "    fill: var(--button-hover-fill-color);\n",
              "  }\n",
              "\n",
              "  .colab-df-quickchart-complete:disabled,\n",
              "  .colab-df-quickchart-complete:disabled:hover {\n",
              "    background-color: var(--disabled-bg-color);\n",
              "    fill: var(--disabled-fill-color);\n",
              "    box-shadow: none;\n",
              "  }\n",
              "\n",
              "  .colab-df-spinner {\n",
              "    border: 2px solid var(--fill-color);\n",
              "    border-color: transparent;\n",
              "    border-bottom-color: var(--fill-color);\n",
              "    animation:\n",
              "      spin 1s steps(1) infinite;\n",
              "  }\n",
              "\n",
              "  @keyframes spin {\n",
              "    0% {\n",
              "      border-color: transparent;\n",
              "      border-bottom-color: var(--fill-color);\n",
              "      border-left-color: var(--fill-color);\n",
              "    }\n",
              "    20% {\n",
              "      border-color: transparent;\n",
              "      border-left-color: var(--fill-color);\n",
              "      border-top-color: var(--fill-color);\n",
              "    }\n",
              "    30% {\n",
              "      border-color: transparent;\n",
              "      border-left-color: var(--fill-color);\n",
              "      border-top-color: var(--fill-color);\n",
              "      border-right-color: var(--fill-color);\n",
              "    }\n",
              "    40% {\n",
              "      border-color: transparent;\n",
              "      border-right-color: var(--fill-color);\n",
              "      border-top-color: var(--fill-color);\n",
              "    }\n",
              "    60% {\n",
              "      border-color: transparent;\n",
              "      border-right-color: var(--fill-color);\n",
              "    }\n",
              "    80% {\n",
              "      border-color: transparent;\n",
              "      border-right-color: var(--fill-color);\n",
              "      border-bottom-color: var(--fill-color);\n",
              "    }\n",
              "    90% {\n",
              "      border-color: transparent;\n",
              "      border-bottom-color: var(--fill-color);\n",
              "    }\n",
              "  }\n",
              "</style>\n",
              "\n",
              "  <script>\n",
              "    async function quickchart(key) {\n",
              "      const quickchartButtonEl =\n",
              "        document.querySelector('#' + key + ' button');\n",
              "      quickchartButtonEl.disabled = true;  // To prevent multiple clicks.\n",
              "      quickchartButtonEl.classList.add('colab-df-spinner');\n",
              "      try {\n",
              "        const charts = await google.colab.kernel.invokeFunction(\n",
              "            'suggestCharts', [key], {});\n",
              "      } catch (error) {\n",
              "        console.error('Error during call to suggestCharts:', error);\n",
              "      }\n",
              "      quickchartButtonEl.classList.remove('colab-df-spinner');\n",
              "      quickchartButtonEl.classList.add('colab-df-quickchart-complete');\n",
              "    }\n",
              "    (() => {\n",
              "      let quickchartButtonEl =\n",
              "        document.querySelector('#df-5b40e85f-da52-4c99-bba9-6feace00daaf button');\n",
              "      quickchartButtonEl.style.display =\n",
              "        google.colab.kernel.accessAllowed ? 'block' : 'none';\n",
              "    })();\n",
              "  </script>\n",
              "</div>\n",
              "\n",
              "    </div>\n",
              "  </div>\n"
            ],
            "application/vnd.google.colaboratory.intrinsic+json": {
              "type": "dataframe",
              "summary": "{\n  \"name\": \"rfm\",\n  \"rows\": 8,\n  \"fields\": [\n    {\n      \"column\": \"R\",\n      \"properties\": {\n        \"dtype\": \"number\",\n        \"std\": 1491.878923799805,\n        \"min\": 22.0,\n        \"max\": 4336.0,\n        \"num_unique_values\": 8,\n        \"samples\": [\n          114.03228782287823,\n          72.0,\n          4336.0\n        ],\n        \"semantic_type\": \"\",\n        \"description\": \"\"\n      }\n    },\n    {\n      \"column\": \"F\",\n      \"properties\": {\n        \"dtype\": \"number\",\n        \"std\": 1523.092467632282,\n        \"min\": 1.0,\n        \"max\": 4336.0,\n        \"num_unique_values\": 7,\n        \"samples\": [\n          4336.0,\n          4.27260147601476,\n          5.0\n        ],\n        \"semantic_type\": \"\",\n        \"description\": \"\"\n      }\n    },\n    {\n      \"column\": \"M\",\n      \"properties\": {\n        \"dtype\": \"number\",\n        \"std\": 2017.9978603739942,\n        \"min\": 1.45,\n        \"max\": 4453.43,\n        \"num_unique_values\": 8,\n        \"samples\": [\n          34.58525254104372,\n          17.73778409090909,\n          4336.0\n        ],\n        \"semantic_type\": \"\",\n        \"description\": \"\"\n      }\n    }\n  ]\n}"
            }
          },
          "metadata": {},
          "execution_count": 86
        }
      ]
    },
    {
      "cell_type": "markdown",
      "source": [
        "Verificamos a existência de outliers acima de 3 desvios padrão. Para atenuar sua influência, vamos utilizar o método `clip`, que limita os valores fora do padrão para o limite dos valores. Nesta caso, vamos utilizar como limitante o valor do percentil 95.   "
      ],
      "metadata": {
        "id": "qMVsXZ9UR6_P"
      }
    },
    {
      "cell_type": "code",
      "source": [
        "rfm_clip = rfm.apply(lambda x: x.clip(upper=x.quantile(.95)))\n",
        "rfm_clip.describe()"
      ],
      "metadata": {
        "colab": {
          "base_uri": "https://localhost:8080/",
          "height": 300
        },
        "id": "OE5voNATSwal",
        "outputId": "498f3ca1-f712-4bc4-a976-0ba01f6563cb"
      },
      "execution_count": 87,
      "outputs": [
        {
          "output_type": "execute_result",
          "data": {
            "text/plain": [
              "                 R            F            M\n",
              "count  4336.000000  4336.000000  4336.000000\n",
              "mean    112.248155     3.608164    23.662082\n",
              "std      95.504576     3.358999    20.978901\n",
              "min      22.000000     1.000000     1.450000\n",
              "25%      39.000000     1.000000    12.381225\n",
              "50%      72.000000     2.000000    17.737784\n",
              "75%     163.250000     5.000000    24.853250\n",
              "max     333.000000    13.000000    91.768421"
            ],
            "text/html": [
              "\n",
              "  <div id=\"df-245a0511-15cf-4614-8413-2548d98d873b\" class=\"colab-df-container\">\n",
              "    <div>\n",
              "<style scoped>\n",
              "    .dataframe tbody tr th:only-of-type {\n",
              "        vertical-align: middle;\n",
              "    }\n",
              "\n",
              "    .dataframe tbody tr th {\n",
              "        vertical-align: top;\n",
              "    }\n",
              "\n",
              "    .dataframe thead th {\n",
              "        text-align: right;\n",
              "    }\n",
              "</style>\n",
              "<table border=\"1\" class=\"dataframe\">\n",
              "  <thead>\n",
              "    <tr style=\"text-align: right;\">\n",
              "      <th></th>\n",
              "      <th>R</th>\n",
              "      <th>F</th>\n",
              "      <th>M</th>\n",
              "    </tr>\n",
              "  </thead>\n",
              "  <tbody>\n",
              "    <tr>\n",
              "      <th>count</th>\n",
              "      <td>4336.000000</td>\n",
              "      <td>4336.000000</td>\n",
              "      <td>4336.000000</td>\n",
              "    </tr>\n",
              "    <tr>\n",
              "      <th>mean</th>\n",
              "      <td>112.248155</td>\n",
              "      <td>3.608164</td>\n",
              "      <td>23.662082</td>\n",
              "    </tr>\n",
              "    <tr>\n",
              "      <th>std</th>\n",
              "      <td>95.504576</td>\n",
              "      <td>3.358999</td>\n",
              "      <td>20.978901</td>\n",
              "    </tr>\n",
              "    <tr>\n",
              "      <th>min</th>\n",
              "      <td>22.000000</td>\n",
              "      <td>1.000000</td>\n",
              "      <td>1.450000</td>\n",
              "    </tr>\n",
              "    <tr>\n",
              "      <th>25%</th>\n",
              "      <td>39.000000</td>\n",
              "      <td>1.000000</td>\n",
              "      <td>12.381225</td>\n",
              "    </tr>\n",
              "    <tr>\n",
              "      <th>50%</th>\n",
              "      <td>72.000000</td>\n",
              "      <td>2.000000</td>\n",
              "      <td>17.737784</td>\n",
              "    </tr>\n",
              "    <tr>\n",
              "      <th>75%</th>\n",
              "      <td>163.250000</td>\n",
              "      <td>5.000000</td>\n",
              "      <td>24.853250</td>\n",
              "    </tr>\n",
              "    <tr>\n",
              "      <th>max</th>\n",
              "      <td>333.000000</td>\n",
              "      <td>13.000000</td>\n",
              "      <td>91.768421</td>\n",
              "    </tr>\n",
              "  </tbody>\n",
              "</table>\n",
              "</div>\n",
              "    <div class=\"colab-df-buttons\">\n",
              "\n",
              "  <div class=\"colab-df-container\">\n",
              "    <button class=\"colab-df-convert\" onclick=\"convertToInteractive('df-245a0511-15cf-4614-8413-2548d98d873b')\"\n",
              "            title=\"Convert this dataframe to an interactive table.\"\n",
              "            style=\"display:none;\">\n",
              "\n",
              "  <svg xmlns=\"http://www.w3.org/2000/svg\" height=\"24px\" viewBox=\"0 -960 960 960\">\n",
              "    <path d=\"M120-120v-720h720v720H120Zm60-500h600v-160H180v160Zm220 220h160v-160H400v160Zm0 220h160v-160H400v160ZM180-400h160v-160H180v160Zm440 0h160v-160H620v160ZM180-180h160v-160H180v160Zm440 0h160v-160H620v160Z\"/>\n",
              "  </svg>\n",
              "    </button>\n",
              "\n",
              "  <style>\n",
              "    .colab-df-container {\n",
              "      display:flex;\n",
              "      gap: 12px;\n",
              "    }\n",
              "\n",
              "    .colab-df-convert {\n",
              "      background-color: #E8F0FE;\n",
              "      border: none;\n",
              "      border-radius: 50%;\n",
              "      cursor: pointer;\n",
              "      display: none;\n",
              "      fill: #1967D2;\n",
              "      height: 32px;\n",
              "      padding: 0 0 0 0;\n",
              "      width: 32px;\n",
              "    }\n",
              "\n",
              "    .colab-df-convert:hover {\n",
              "      background-color: #E2EBFA;\n",
              "      box-shadow: 0px 1px 2px rgba(60, 64, 67, 0.3), 0px 1px 3px 1px rgba(60, 64, 67, 0.15);\n",
              "      fill: #174EA6;\n",
              "    }\n",
              "\n",
              "    .colab-df-buttons div {\n",
              "      margin-bottom: 4px;\n",
              "    }\n",
              "\n",
              "    [theme=dark] .colab-df-convert {\n",
              "      background-color: #3B4455;\n",
              "      fill: #D2E3FC;\n",
              "    }\n",
              "\n",
              "    [theme=dark] .colab-df-convert:hover {\n",
              "      background-color: #434B5C;\n",
              "      box-shadow: 0px 1px 3px 1px rgba(0, 0, 0, 0.15);\n",
              "      filter: drop-shadow(0px 1px 2px rgba(0, 0, 0, 0.3));\n",
              "      fill: #FFFFFF;\n",
              "    }\n",
              "  </style>\n",
              "\n",
              "    <script>\n",
              "      const buttonEl =\n",
              "        document.querySelector('#df-245a0511-15cf-4614-8413-2548d98d873b button.colab-df-convert');\n",
              "      buttonEl.style.display =\n",
              "        google.colab.kernel.accessAllowed ? 'block' : 'none';\n",
              "\n",
              "      async function convertToInteractive(key) {\n",
              "        const element = document.querySelector('#df-245a0511-15cf-4614-8413-2548d98d873b');\n",
              "        const dataTable =\n",
              "          await google.colab.kernel.invokeFunction('convertToInteractive',\n",
              "                                                    [key], {});\n",
              "        if (!dataTable) return;\n",
              "\n",
              "        const docLinkHtml = 'Like what you see? Visit the ' +\n",
              "          '<a target=\"_blank\" href=https://colab.research.google.com/notebooks/data_table.ipynb>data table notebook</a>'\n",
              "          + ' to learn more about interactive tables.';\n",
              "        element.innerHTML = '';\n",
              "        dataTable['output_type'] = 'display_data';\n",
              "        await google.colab.output.renderOutput(dataTable, element);\n",
              "        const docLink = document.createElement('div');\n",
              "        docLink.innerHTML = docLinkHtml;\n",
              "        element.appendChild(docLink);\n",
              "      }\n",
              "    </script>\n",
              "  </div>\n",
              "\n",
              "\n",
              "<div id=\"df-2f4ee491-c6ae-418a-b88f-a9f19ff49a33\">\n",
              "  <button class=\"colab-df-quickchart\" onclick=\"quickchart('df-2f4ee491-c6ae-418a-b88f-a9f19ff49a33')\"\n",
              "            title=\"Suggest charts\"\n",
              "            style=\"display:none;\">\n",
              "\n",
              "<svg xmlns=\"http://www.w3.org/2000/svg\" height=\"24px\"viewBox=\"0 0 24 24\"\n",
              "     width=\"24px\">\n",
              "    <g>\n",
              "        <path d=\"M19 3H5c-1.1 0-2 .9-2 2v14c0 1.1.9 2 2 2h14c1.1 0 2-.9 2-2V5c0-1.1-.9-2-2-2zM9 17H7v-7h2v7zm4 0h-2V7h2v10zm4 0h-2v-4h2v4z\"/>\n",
              "    </g>\n",
              "</svg>\n",
              "  </button>\n",
              "\n",
              "<style>\n",
              "  .colab-df-quickchart {\n",
              "      --bg-color: #E8F0FE;\n",
              "      --fill-color: #1967D2;\n",
              "      --hover-bg-color: #E2EBFA;\n",
              "      --hover-fill-color: #174EA6;\n",
              "      --disabled-fill-color: #AAA;\n",
              "      --disabled-bg-color: #DDD;\n",
              "  }\n",
              "\n",
              "  [theme=dark] .colab-df-quickchart {\n",
              "      --bg-color: #3B4455;\n",
              "      --fill-color: #D2E3FC;\n",
              "      --hover-bg-color: #434B5C;\n",
              "      --hover-fill-color: #FFFFFF;\n",
              "      --disabled-bg-color: #3B4455;\n",
              "      --disabled-fill-color: #666;\n",
              "  }\n",
              "\n",
              "  .colab-df-quickchart {\n",
              "    background-color: var(--bg-color);\n",
              "    border: none;\n",
              "    border-radius: 50%;\n",
              "    cursor: pointer;\n",
              "    display: none;\n",
              "    fill: var(--fill-color);\n",
              "    height: 32px;\n",
              "    padding: 0;\n",
              "    width: 32px;\n",
              "  }\n",
              "\n",
              "  .colab-df-quickchart:hover {\n",
              "    background-color: var(--hover-bg-color);\n",
              "    box-shadow: 0 1px 2px rgba(60, 64, 67, 0.3), 0 1px 3px 1px rgba(60, 64, 67, 0.15);\n",
              "    fill: var(--button-hover-fill-color);\n",
              "  }\n",
              "\n",
              "  .colab-df-quickchart-complete:disabled,\n",
              "  .colab-df-quickchart-complete:disabled:hover {\n",
              "    background-color: var(--disabled-bg-color);\n",
              "    fill: var(--disabled-fill-color);\n",
              "    box-shadow: none;\n",
              "  }\n",
              "\n",
              "  .colab-df-spinner {\n",
              "    border: 2px solid var(--fill-color);\n",
              "    border-color: transparent;\n",
              "    border-bottom-color: var(--fill-color);\n",
              "    animation:\n",
              "      spin 1s steps(1) infinite;\n",
              "  }\n",
              "\n",
              "  @keyframes spin {\n",
              "    0% {\n",
              "      border-color: transparent;\n",
              "      border-bottom-color: var(--fill-color);\n",
              "      border-left-color: var(--fill-color);\n",
              "    }\n",
              "    20% {\n",
              "      border-color: transparent;\n",
              "      border-left-color: var(--fill-color);\n",
              "      border-top-color: var(--fill-color);\n",
              "    }\n",
              "    30% {\n",
              "      border-color: transparent;\n",
              "      border-left-color: var(--fill-color);\n",
              "      border-top-color: var(--fill-color);\n",
              "      border-right-color: var(--fill-color);\n",
              "    }\n",
              "    40% {\n",
              "      border-color: transparent;\n",
              "      border-right-color: var(--fill-color);\n",
              "      border-top-color: var(--fill-color);\n",
              "    }\n",
              "    60% {\n",
              "      border-color: transparent;\n",
              "      border-right-color: var(--fill-color);\n",
              "    }\n",
              "    80% {\n",
              "      border-color: transparent;\n",
              "      border-right-color: var(--fill-color);\n",
              "      border-bottom-color: var(--fill-color);\n",
              "    }\n",
              "    90% {\n",
              "      border-color: transparent;\n",
              "      border-bottom-color: var(--fill-color);\n",
              "    }\n",
              "  }\n",
              "</style>\n",
              "\n",
              "  <script>\n",
              "    async function quickchart(key) {\n",
              "      const quickchartButtonEl =\n",
              "        document.querySelector('#' + key + ' button');\n",
              "      quickchartButtonEl.disabled = true;  // To prevent multiple clicks.\n",
              "      quickchartButtonEl.classList.add('colab-df-spinner');\n",
              "      try {\n",
              "        const charts = await google.colab.kernel.invokeFunction(\n",
              "            'suggestCharts', [key], {});\n",
              "      } catch (error) {\n",
              "        console.error('Error during call to suggestCharts:', error);\n",
              "      }\n",
              "      quickchartButtonEl.classList.remove('colab-df-spinner');\n",
              "      quickchartButtonEl.classList.add('colab-df-quickchart-complete');\n",
              "    }\n",
              "    (() => {\n",
              "      let quickchartButtonEl =\n",
              "        document.querySelector('#df-2f4ee491-c6ae-418a-b88f-a9f19ff49a33 button');\n",
              "      quickchartButtonEl.style.display =\n",
              "        google.colab.kernel.accessAllowed ? 'block' : 'none';\n",
              "    })();\n",
              "  </script>\n",
              "</div>\n",
              "\n",
              "    </div>\n",
              "  </div>\n"
            ],
            "application/vnd.google.colaboratory.intrinsic+json": {
              "type": "dataframe",
              "summary": "{\n  \"name\": \"rfm_clip\",\n  \"rows\": 8,\n  \"fields\": [\n    {\n      \"column\": \"R\",\n      \"properties\": {\n        \"dtype\": \"number\",\n        \"std\": 1493.9090944618779,\n        \"min\": 22.0,\n        \"max\": 4336.0,\n        \"num_unique_values\": 8,\n        \"samples\": [\n          112.24815498154982,\n          72.0,\n          4336.0\n        ],\n        \"semantic_type\": \"\",\n        \"description\": \"\"\n      }\n    },\n    {\n      \"column\": \"F\",\n      \"properties\": {\n        \"dtype\": \"number\",\n        \"std\": 1531.549309375057,\n        \"min\": 1.0,\n        \"max\": 4336.0,\n        \"num_unique_values\": 7,\n        \"samples\": [\n          4336.0,\n          3.6081642066420665,\n          5.0\n        ],\n        \"semantic_type\": \"\",\n        \"description\": \"\"\n      }\n    },\n    {\n      \"column\": \"M\",\n      \"properties\": {\n        \"dtype\": \"number\",\n        \"std\": 1523.5117155575374,\n        \"min\": 1.45,\n        \"max\": 4336.0,\n        \"num_unique_values\": 8,\n        \"samples\": [\n          23.662082378684833,\n          17.73778409090909,\n          4336.0\n        ],\n        \"semantic_type\": \"\",\n        \"description\": \"\"\n      }\n    }\n  ]\n}"
            }
          },
          "metadata": {},
          "execution_count": 87
        }
      ]
    },
    {
      "cell_type": "code",
      "source": [
        "# Normalização dos dados\n",
        "rfm_clip_scaled = rfm_clip.apply(scale)"
      ],
      "metadata": {
        "id": "jYUFPTXeS0dO"
      },
      "execution_count": 88,
      "outputs": []
    },
    {
      "cell_type": "markdown",
      "source": [
        "## Algoritmo de clusterização"
      ],
      "metadata": {
        "id": "9IG1uAwQTDEu"
      }
    },
    {
      "cell_type": "markdown",
      "source": [
        "Para o problema em questão, optou-se por utilizar o algoritmo **KMeans**, por conta de sua simplicidade, eficiência e facilidade de implementação. Além disso, os dados foram tratados de maneira a otimizar o algoritmo, uma vez que ele não lida muito bem com outliers."
      ],
      "metadata": {
        "id": "sKQAnHJ2Ub0U"
      }
    },
    {
      "cell_type": "markdown",
      "source": [
        "### Número de clusters"
      ],
      "metadata": {
        "id": "dolhIwgbW0rx"
      }
    },
    {
      "cell_type": "code",
      "source": [
        "# Método do cotovelo\n",
        "kelbow_visualizer(KMeans(), rfm_clip_scaled, k=10, timings=False)"
      ],
      "metadata": {
        "colab": {
          "base_uri": "https://localhost:8080/",
          "height": 1000
        },
        "id": "dmtS7CaWTEhA",
        "outputId": "e7570242-e288-49c6-d78e-9424eedc6943"
      },
      "execution_count": 89,
      "outputs": [
        {
          "output_type": "stream",
          "name": "stderr",
          "text": [
            "/usr/local/lib/python3.10/dist-packages/sklearn/cluster/_kmeans.py:870: FutureWarning: The default value of `n_init` will change from 10 to 'auto' in 1.4. Set the value of `n_init` explicitly to suppress the warning\n",
            "  warnings.warn(\n",
            "/usr/local/lib/python3.10/dist-packages/sklearn/cluster/_kmeans.py:870: FutureWarning: The default value of `n_init` will change from 10 to 'auto' in 1.4. Set the value of `n_init` explicitly to suppress the warning\n",
            "  warnings.warn(\n",
            "/usr/local/lib/python3.10/dist-packages/sklearn/cluster/_kmeans.py:870: FutureWarning: The default value of `n_init` will change from 10 to 'auto' in 1.4. Set the value of `n_init` explicitly to suppress the warning\n",
            "  warnings.warn(\n",
            "/usr/local/lib/python3.10/dist-packages/sklearn/cluster/_kmeans.py:870: FutureWarning: The default value of `n_init` will change from 10 to 'auto' in 1.4. Set the value of `n_init` explicitly to suppress the warning\n",
            "  warnings.warn(\n",
            "/usr/local/lib/python3.10/dist-packages/sklearn/cluster/_kmeans.py:870: FutureWarning: The default value of `n_init` will change from 10 to 'auto' in 1.4. Set the value of `n_init` explicitly to suppress the warning\n",
            "  warnings.warn(\n",
            "/usr/local/lib/python3.10/dist-packages/sklearn/cluster/_kmeans.py:870: FutureWarning: The default value of `n_init` will change from 10 to 'auto' in 1.4. Set the value of `n_init` explicitly to suppress the warning\n",
            "  warnings.warn(\n",
            "/usr/local/lib/python3.10/dist-packages/sklearn/cluster/_kmeans.py:870: FutureWarning: The default value of `n_init` will change from 10 to 'auto' in 1.4. Set the value of `n_init` explicitly to suppress the warning\n",
            "  warnings.warn(\n",
            "/usr/local/lib/python3.10/dist-packages/sklearn/cluster/_kmeans.py:870: FutureWarning: The default value of `n_init` will change from 10 to 'auto' in 1.4. Set the value of `n_init` explicitly to suppress the warning\n",
            "  warnings.warn(\n",
            "/usr/local/lib/python3.10/dist-packages/sklearn/cluster/_kmeans.py:870: FutureWarning: The default value of `n_init` will change from 10 to 'auto' in 1.4. Set the value of `n_init` explicitly to suppress the warning\n",
            "  warnings.warn(\n"
          ]
        },
        {
          "output_type": "display_data",
          "data": {
            "text/plain": [
              "<Figure size 1200x800 with 1 Axes>"
            ],
            "image/png": "[encoded data removed]"
          },
          "metadata": {}
        },
        {
          "output_type": "execute_result",
          "data": {
            "text/plain": [
              "KElbowVisualizer(ax=<Axes: title={'center': 'Distortion Score Elbow for KMeans Clustering'}, xlabel='k', ylabel='distortion score'>,\n",
              "                 estimator=KMeans(n_clusters=10), timings=False)"
            ],
            "text/html": [
              "<style>#sk-container-id-1 {color: black;background-color: white;}#sk-container-id-1 pre{padding: 0;}#sk-container-id-1 div.sk-toggleable {background-color: white;}#sk-container-id-1 label.sk-toggleable__label {cursor: pointer;display: block;width: 100%;margin-bottom: 0;padding: 0.3em;box-sizing: border-box;text-align: center;}#sk-container-id-1 label.sk-toggleable__label-arrow:before {content: \"▸\";float: left;margin-right: 0.25em;color: #696969;}#sk-container-id-1 label.sk-toggleable__label-arrow:hover:before {color: black;}#sk-container-id-1 div.sk-estimator:hover label.sk-toggleable__label-arrow:before {color: black;}#sk-container-id-1 div.sk-toggleable__content {max-height: 0;max-width: 0;overflow: hidden;text-align: left;background-color: #f0f8ff;}#sk-container-id-1 div.sk-toggleable__content pre {margin: 0.2em;color: black;border-radius: 0.25em;background-color: #f0f8ff;}#sk-container-id-1 input.sk-toggleable__control:checked~div.sk-toggleable__content {max-height: 200px;max-width: 100%;overflow: auto;}#sk-container-id-1 input.sk-toggleable__control:checked~label.sk-toggleable__label-arrow:before {content: \"▾\";}#sk-container-id-1 div.sk-estimator input.sk-toggleable__control:checked~label.sk-toggleable__label {background-color: #d4ebff;}#sk-container-id-1 div.sk-label input.sk-toggleable__control:checked~label.sk-toggleable__label {background-color: #d4ebff;}#sk-container-id-1 input.sk-hidden--visually {border: 0;clip: rect(1px 1px 1px 1px);clip: rect(1px, 1px, 1px, 1px);height: 1px;margin: -1px;overflow: hidden;padding: 0;position: absolute;width: 1px;}#sk-container-id-1 div.sk-estimator {font-family: monospace;background-color: #f0f8ff;border: 1px dotted black;border-radius: 0.25em;box-sizing: border-box;margin-bottom: 0.5em;}#sk-container-id-1 div.sk-estimator:hover {background-color: #d4ebff;}#sk-container-id-1 div.sk-parallel-item::after {content: \"\";width: 100%;border-bottom: 1px solid gray;flex-grow: 1;}#sk-container-id-1 div.sk-label:hover label.sk-toggleable__label {background-color: #d4ebff;}#sk-container-id-1 div.sk-serial::before {content: \"\";position: absolute;border-left: 1px solid gray;box-sizing: border-box;top: 0;bottom: 0;left: 50%;z-index: 0;}#sk-container-id-1 div.sk-serial {display: flex;flex-direction: column;align-items: center;background-color: white;padding-right: 0.2em;padding-left: 0.2em;position: relative;}#sk-container-id-1 div.sk-item {position: relative;z-index: 1;}#sk-container-id-1 div.sk-parallel {display: flex;align-items: stretch;justify-content: center;background-color: white;position: relative;}#sk-container-id-1 div.sk-item::before, #sk-container-id-1 div.sk-parallel-item::before {content: \"\";position: absolute;border-left: 1px solid gray;box-sizing: border-box;top: 0;bottom: 0;left: 50%;z-index: -1;}#sk-container-id-1 div.sk-parallel-item {display: flex;flex-direction: column;z-index: 1;position: relative;background-color: white;}#sk-container-id-1 div.sk-parallel-item:first-child::after {align-self: flex-end;width: 50%;}#sk-container-id-1 div.sk-parallel-item:last-child::after {align-self: flex-start;width: 50%;}#sk-container-id-1 div.sk-parallel-item:only-child::after {width: 0;}#sk-container-id-1 div.sk-dashed-wrapped {border: 1px dashed gray;margin: 0 0.4em 0.5em 0.4em;box-sizing: border-box;padding-bottom: 0.4em;background-color: white;}#sk-container-id-1 div.sk-label label {font-family: monospace;font-weight: bold;display: inline-block;line-height: 1.2em;}#sk-container-id-1 div.sk-label-container {text-align: center;}#sk-container-id-1 div.sk-container {/* jupyter's `normalize.less` sets `[hidden] { display: none; }` but bootstrap.min.css set `[hidden] { display: none !important; }` so we also need the `!important` here to be able to override the default hidden behavior on the sphinx rendered scikit-learn.org. See: https://github.com/scikit-learn/scikit-learn/issues/21755 */display: inline-block !important;position: relative;}#sk-container-id-1 div.sk-text-repr-fallback {display: none;}</style><div id=\"sk-container-id-1\" class=\"sk-top-container\"><div class=\"sk-text-repr-fallback\"><pre>KElbowVisualizer(ax=&lt;Axes: title={&#x27;center&#x27;: &#x27;Distortion Score Elbow for KMeans Clustering&#x27;}, xlabel=&#x27;k&#x27;, ylabel=&#x27;distortion score&#x27;&gt;,\n",
              "                 estimator=KMeans(n_clusters=10), timings=False)</pre><b>In a Jupyter environment, please rerun this cell to show the HTML representation or trust the notebook. <br />On GitHub, the HTML representation is unable to render, please try loading this page with nbviewer.org.</b></div><div class=\"sk-container\" hidden><div class=\"sk-item sk-dashed-wrapped\"><div class=\"sk-label-container\"><div class=\"sk-label sk-toggleable\"><input class=\"sk-toggleable__control sk-hidden--visually\" id=\"sk-estimator-id-1\" type=\"checkbox\" ><label for=\"sk-estimator-id-1\" class=\"sk-toggleable__label sk-toggleable__label-arrow\">KElbowVisualizer</label><div class=\"sk-toggleable__content\"><pre>KElbowVisualizer(ax=&lt;Axes: title={&#x27;center&#x27;: &#x27;Distortion Score Elbow for KMeans Clustering&#x27;}, xlabel=&#x27;k&#x27;, ylabel=&#x27;distortion score&#x27;&gt;,\n",
              "                 estimator=KMeans(n_clusters=10), timings=False)</pre></div></div></div><div class=\"sk-parallel\"><div class=\"sk-parallel-item\"><div class=\"sk-item\"><div class=\"sk-label-container\"><div class=\"sk-label sk-toggleable\"><input class=\"sk-toggleable__control sk-hidden--visually\" id=\"sk-estimator-id-2\" type=\"checkbox\" ><label for=\"sk-estimator-id-2\" class=\"sk-toggleable__label sk-toggleable__label-arrow\">estimator: KMeans</label><div class=\"sk-toggleable__content\"><pre>KMeans(n_clusters=10)</pre></div></div></div><div class=\"sk-serial\"><div class=\"sk-item\"><div class=\"sk-estimator sk-toggleable\"><input class=\"sk-toggleable__control sk-hidden--visually\" id=\"sk-estimator-id-3\" type=\"checkbox\" ><label for=\"sk-estimator-id-3\" class=\"sk-toggleable__label sk-toggleable__label-arrow\">KMeans</label><div class=\"sk-toggleable__content\"><pre>KMeans(n_clusters=10)</pre></div></div></div></div></div></div></div></div></div></div>"
            ]
          },
          "metadata": {},
          "execution_count": 89
        }
      ]
    },
    {
      "cell_type": "code",
      "source": [
        "# Criação de métricas\n",
        "cluster_metrics = silhouette_score, davies_bouldin_score, calinski_harabasz_score\n",
        "cluster_metrics_results = []\n",
        "X = rfm_clip_scaled.copy()\n",
        "\n",
        "for k in range(2,11):\n",
        "  model = KMeans(n_clusters=k, random_state=0)\n",
        "  labels = model.fit_predict(X)\n",
        "  cluster_results_dict = {'k': k}\n",
        "  cluster_results_dict['inertia'] = model.inertia_\n",
        "  for metric in cluster_metrics:\n",
        "    cluster_results_dict[metric.__name__] = metric(X, labels)\n",
        "  cluster_metrics_results.append(cluster_results_dict)\n",
        "\n",
        "pd.DataFrame(cluster_metrics_results).set_index('k').style.background_gradient()"
      ],
      "metadata": {
        "colab": {
          "base_uri": "https://localhost:8080/",
          "height": 695
        },
        "id": "UEwR8npXVdjw",
        "outputId": "c668a889-2152-4d51-9b7a-d005dab20eb2"
      },
      "execution_count": 90,
      "outputs": [
        {
          "output_type": "stream",
          "name": "stderr",
          "text": [
            "/usr/local/lib/python3.10/dist-packages/sklearn/cluster/_kmeans.py:870: FutureWarning: The default value of `n_init` will change from 10 to 'auto' in 1.4. Set the value of `n_init` explicitly to suppress the warning\n",
            "  warnings.warn(\n",
            "/usr/local/lib/python3.10/dist-packages/sklearn/cluster/_kmeans.py:870: FutureWarning: The default value of `n_init` will change from 10 to 'auto' in 1.4. Set the value of `n_init` explicitly to suppress the warning\n",
            "  warnings.warn(\n",
            "/usr/local/lib/python3.10/dist-packages/sklearn/cluster/_kmeans.py:870: FutureWarning: The default value of `n_init` will change from 10 to 'auto' in 1.4. Set the value of `n_init` explicitly to suppress the warning\n",
            "  warnings.warn(\n",
            "/usr/local/lib/python3.10/dist-packages/sklearn/cluster/_kmeans.py:870: FutureWarning: The default value of `n_init` will change from 10 to 'auto' in 1.4. Set the value of `n_init` explicitly to suppress the warning\n",
            "  warnings.warn(\n",
            "/usr/local/lib/python3.10/dist-packages/sklearn/cluster/_kmeans.py:870: FutureWarning: The default value of `n_init` will change from 10 to 'auto' in 1.4. Set the value of `n_init` explicitly to suppress the warning\n",
            "  warnings.warn(\n",
            "/usr/local/lib/python3.10/dist-packages/sklearn/cluster/_kmeans.py:870: FutureWarning: The default value of `n_init` will change from 10 to 'auto' in 1.4. Set the value of `n_init` explicitly to suppress the warning\n",
            "  warnings.warn(\n",
            "/usr/local/lib/python3.10/dist-packages/sklearn/cluster/_kmeans.py:870: FutureWarning: The default value of `n_init` will change from 10 to 'auto' in 1.4. Set the value of `n_init` explicitly to suppress the warning\n",
            "  warnings.warn(\n",
            "/usr/local/lib/python3.10/dist-packages/sklearn/cluster/_kmeans.py:870: FutureWarning: The default value of `n_init` will change from 10 to 'auto' in 1.4. Set the value of `n_init` explicitly to suppress the warning\n",
            "  warnings.warn(\n",
            "/usr/local/lib/python3.10/dist-packages/sklearn/cluster/_kmeans.py:870: FutureWarning: The default value of `n_init` will change from 10 to 'auto' in 1.4. Set the value of `n_init` explicitly to suppress the warning\n",
            "  warnings.warn(\n"
          ]
        },
        {
          "output_type": "execute_result",
          "data": {
            "text/plain": [
              "<pandas.io.formats.style.Styler at 0x799fade31f30>"
            ],
            "text/html": [
              "<style type=\"text/css\">\n",
              "#T_cd6d8_row0_col0, #T_cd6d8_row0_col2, #T_cd6d8_row2_col3, #T_cd6d8_row3_col1 {\n",
              "  background-color: #023858;\n",
              "  color: #f1f1f1;\n",
              "}\n",
              "#T_cd6d8_row0_col1 {\n",
              "  background-color: #d5d5e8;\n",
              "  color: #000000;\n",
              "}\n",
              "#T_cd6d8_row0_col3, #T_cd6d8_row2_col2, #T_cd6d8_row8_col0, #T_cd6d8_row8_col1 {\n",
              "  background-color: #fff7fb;\n",
              "  color: #000000;\n",
              "}\n",
              "#T_cd6d8_row1_col0 {\n",
              "  background-color: #4094c3;\n",
              "  color: #f1f1f1;\n",
              "}\n",
              "#T_cd6d8_row1_col1 {\n",
              "  background-color: #3991c1;\n",
              "  color: #f1f1f1;\n",
              "}\n",
              "#T_cd6d8_row1_col2 {\n",
              "  background-color: #91b5d6;\n",
              "  color: #000000;\n",
              "}\n",
              "#T_cd6d8_row1_col3 {\n",
              "  background-color: #bcc7e1;\n",
              "  color: #000000;\n",
              "}\n",
              "#T_cd6d8_row2_col0 {\n",
              "  background-color: #c5cce3;\n",
              "  color: #000000;\n",
              "}\n",
              "#T_cd6d8_row2_col1, #T_cd6d8_row7_col3 {\n",
              "  background-color: #034369;\n",
              "  color: #f1f1f1;\n",
              "}\n",
              "#T_cd6d8_row3_col0 {\n",
              "  background-color: #dad9ea;\n",
              "  color: #000000;\n",
              "}\n",
              "#T_cd6d8_row3_col2, #T_cd6d8_row5_col0 {\n",
              "  background-color: #f1ebf5;\n",
              "  color: #000000;\n",
              "}\n",
              "#T_cd6d8_row3_col3 {\n",
              "  background-color: #045687;\n",
              "  color: #f1f1f1;\n",
              "}\n",
              "#T_cd6d8_row4_col0 {\n",
              "  background-color: #e9e5f1;\n",
              "  color: #000000;\n",
              "}\n",
              "#T_cd6d8_row4_col1 {\n",
              "  background-color: #afc1dd;\n",
              "  color: #000000;\n",
              "}\n",
              "#T_cd6d8_row4_col2 {\n",
              "  background-color: #99b8d8;\n",
              "  color: #000000;\n",
              "}\n",
              "#T_cd6d8_row4_col3 {\n",
              "  background-color: #045585;\n",
              "  color: #f1f1f1;\n",
              "}\n",
              "#T_cd6d8_row5_col1 {\n",
              "  background-color: #dedcec;\n",
              "  color: #000000;\n",
              "}\n",
              "#T_cd6d8_row5_col2 {\n",
              "  background-color: #84b0d3;\n",
              "  color: #f1f1f1;\n",
              "}\n",
              "#T_cd6d8_row5_col3 {\n",
              "  background-color: #045a8d;\n",
              "  color: #f1f1f1;\n",
              "}\n",
              "#T_cd6d8_row6_col0 {\n",
              "  background-color: #f7f0f7;\n",
              "  color: #000000;\n",
              "}\n",
              "#T_cd6d8_row6_col1 {\n",
              "  background-color: #d2d3e7;\n",
              "  color: #000000;\n",
              "}\n",
              "#T_cd6d8_row6_col2 {\n",
              "  background-color: #8eb3d5;\n",
              "  color: #000000;\n",
              "}\n",
              "#T_cd6d8_row6_col3 {\n",
              "  background-color: #034e7b;\n",
              "  color: #f1f1f1;\n",
              "}\n",
              "#T_cd6d8_row7_col0 {\n",
              "  background-color: #fcf4fa;\n",
              "  color: #000000;\n",
              "}\n",
              "#T_cd6d8_row7_col1 {\n",
              "  background-color: #b9c6e0;\n",
              "  color: #000000;\n",
              "}\n",
              "#T_cd6d8_row7_col2 {\n",
              "  background-color: #cacee5;\n",
              "  color: #000000;\n",
              "}\n",
              "#T_cd6d8_row8_col2 {\n",
              "  background-color: #71a8ce;\n",
              "  color: #f1f1f1;\n",
              "}\n",
              "#T_cd6d8_row8_col3 {\n",
              "  background-color: #034871;\n",
              "  color: #f1f1f1;\n",
              "}\n",
              "</style>\n",
              "<table id=\"T_cd6d8\" class=\"dataframe\">\n",
              "  <thead>\n",
              "    <tr>\n",
              "      <th class=\"blank level0\" >&nbsp;</th>\n",
              "      <th id=\"T_cd6d8_level0_col0\" class=\"col_heading level0 col0\" >inertia</th>\n",
              "      <th id=\"T_cd6d8_level0_col1\" class=\"col_heading level0 col1\" >silhouette_score</th>\n",
              "      <th id=\"T_cd6d8_level0_col2\" class=\"col_heading level0 col2\" >davies_bouldin_score</th>\n",
              "      <th id=\"T_cd6d8_level0_col3\" class=\"col_heading level0 col3\" >calinski_harabasz_score</th>\n",
              "    </tr>\n",
              "    <tr>\n",
              "      <th class=\"index_name level0\" >k</th>\n",
              "      <th class=\"blank col0\" >&nbsp;</th>\n",
              "      <th class=\"blank col1\" >&nbsp;</th>\n",
              "      <th class=\"blank col2\" >&nbsp;</th>\n",
              "      <th class=\"blank col3\" >&nbsp;</th>\n",
              "    </tr>\n",
              "  </thead>\n",
              "  <tbody>\n",
              "    <tr>\n",
              "      <th id=\"T_cd6d8_level0_row0\" class=\"row_heading level0 row0\" >2</th>\n",
              "      <td id=\"T_cd6d8_row0_col0\" class=\"data row0 col0\" >8906.742887</td>\n",
              "      <td id=\"T_cd6d8_row0_col1\" class=\"data row0 col1\" >0.382383</td>\n",
              "      <td id=\"T_cd6d8_row0_col2\" class=\"data row0 col2\" >1.065382</td>\n",
              "      <td id=\"T_cd6d8_row0_col3\" class=\"data row0 col3\" >1995.684047</td>\n",
              "    </tr>\n",
              "    <tr>\n",
              "      <th id=\"T_cd6d8_level0_row1\" class=\"row_heading level0 row1\" >3</th>\n",
              "      <td id=\"T_cd6d8_row1_col0\" class=\"data row1 col0\" >5986.625769</td>\n",
              "      <td id=\"T_cd6d8_row1_col1\" class=\"data row1 col1\" >0.434294</td>\n",
              "      <td id=\"T_cd6d8_row1_col2\" class=\"data row1 col2\" >0.858641</td>\n",
              "      <td id=\"T_cd6d8_row1_col3\" class=\"data row1 col3\" >2540.965121</td>\n",
              "    </tr>\n",
              "    <tr>\n",
              "      <th id=\"T_cd6d8_level0_row2\" class=\"row_heading level0 row2\" >4</th>\n",
              "      <td id=\"T_cd6d8_row2_col0\" class=\"data row2 col0\" >3614.488857</td>\n",
              "      <td id=\"T_cd6d8_row2_col1\" class=\"data row2 col1\" >0.479660</td>\n",
              "      <td id=\"T_cd6d8_row2_col2\" class=\"data row2 col2\" >0.704316</td>\n",
              "      <td id=\"T_cd6d8_row2_col3\" class=\"data row2 col3\" >3752.748844</td>\n",
              "    </tr>\n",
              "    <tr>\n",
              "      <th id=\"T_cd6d8_level0_row3\" class=\"row_heading level0 row3\" >5</th>\n",
              "      <td id=\"T_cd6d8_row3_col0\" class=\"data row3 col0\" >3037.063238</td>\n",
              "      <td id=\"T_cd6d8_row3_col1\" class=\"data row3 col1\" >0.485026</td>\n",
              "      <td id=\"T_cd6d8_row3_col2\" class=\"data row3 col2\" >0.737517</td>\n",
              "      <td id=\"T_cd6d8_row3_col3\" class=\"data row3 col3\" >3554.760285</td>\n",
              "    </tr>\n",
              "    <tr>\n",
              "      <th id=\"T_cd6d8_level0_row4\" class=\"row_heading level0 row4\" >6</th>\n",
              "      <td id=\"T_cd6d8_row4_col0\" class=\"data row4 col0\" >2541.205884</td>\n",
              "      <td id=\"T_cd6d8_row4_col1\" class=\"data row4 col1\" >0.398243</td>\n",
              "      <td id=\"T_cd6d8_row4_col2\" class=\"data row4 col2\" >0.851045</td>\n",
              "      <td id=\"T_cd6d8_row4_col3\" class=\"data row4 col3\" >3566.913817</td>\n",
              "    </tr>\n",
              "    <tr>\n",
              "      <th id=\"T_cd6d8_level0_row5\" class=\"row_heading level0 row5\" >7</th>\n",
              "      <td id=\"T_cd6d8_row5_col0\" class=\"data row5 col0\" >2207.904692</td>\n",
              "      <td id=\"T_cd6d8_row5_col1\" class=\"data row5 col1\" >0.377034</td>\n",
              "      <td id=\"T_cd6d8_row5_col2\" class=\"data row5 col2\" >0.869849</td>\n",
              "      <td id=\"T_cd6d8_row5_col3\" class=\"data row5 col3\" >3529.273069</td>\n",
              "    </tr>\n",
              "    <tr>\n",
              "      <th id=\"T_cd6d8_level0_row6\" class=\"row_heading level0 row6\" >8</th>\n",
              "      <td id=\"T_cd6d8_row6_col0\" class=\"data row6 col0\" >1905.807285</td>\n",
              "      <td id=\"T_cd6d8_row6_col1\" class=\"data row6 col1\" >0.383798</td>\n",
              "      <td id=\"T_cd6d8_row6_col2\" class=\"data row6 col2\" >0.861791</td>\n",
              "      <td id=\"T_cd6d8_row6_col3\" class=\"data row6 col3\" >3601.863562</td>\n",
              "    </tr>\n",
              "    <tr>\n",
              "      <th id=\"T_cd6d8_level0_row7\" class=\"row_heading level0 row7\" >9</th>\n",
              "      <td id=\"T_cd6d8_row7_col0\" class=\"data row7 col0\" >1667.753068</td>\n",
              "      <td id=\"T_cd6d8_row7_col1\" class=\"data row7 col1\" >0.394185</td>\n",
              "      <td id=\"T_cd6d8_row7_col2\" class=\"data row7 col2\" >0.800766</td>\n",
              "      <td id=\"T_cd6d8_row7_col3\" class=\"data row7 col3\" >3677.796298</td>\n",
              "    </tr>\n",
              "    <tr>\n",
              "      <th id=\"T_cd6d8_level0_row8\" class=\"row_heading level0 row8\" >10</th>\n",
              "      <td id=\"T_cd6d8_row8_col0\" class=\"data row8 col0\" >1515.506507</td>\n",
              "      <td id=\"T_cd6d8_row8_col1\" class=\"data row8 col1\" >0.351802</td>\n",
              "      <td id=\"T_cd6d8_row8_col2\" class=\"data row8 col2\" >0.887664</td>\n",
              "      <td id=\"T_cd6d8_row8_col3\" class=\"data row8 col3\" >3645.024627</td>\n",
              "    </tr>\n",
              "  </tbody>\n",
              "</table>\n"
            ]
          },
          "metadata": {},
          "execution_count": 90
        }
      ]
    },
    {
      "cell_type": "markdown",
      "source": [
        "Com base nos métodos de Elbow e Silhouette Score, utilizaremos como número de cluster o valor 4."
      ],
      "metadata": {
        "id": "N7D2jKsXWn2Y"
      }
    },
    {
      "cell_type": "code",
      "source": [
        "# Criação e predição do modelo\n",
        "kmeans = KMeans(4)\n",
        "kmeans_labels = kmeans.fit_predict(rfm_clip_scaled)"
      ],
      "metadata": {
        "colab": {
          "base_uri": "https://localhost:8080/"
        },
        "id": "FLdPx-1hXDKS",
        "outputId": "28d03d31-15b2-4c8b-d40b-3bc194471602"
      },
      "execution_count": 91,
      "outputs": [
        {
          "output_type": "stream",
          "name": "stderr",
          "text": [
            "/usr/local/lib/python3.10/dist-packages/sklearn/cluster/_kmeans.py:870: FutureWarning: The default value of `n_init` will change from 10 to 'auto' in 1.4. Set the value of `n_init` explicitly to suppress the warning\n",
            "  warnings.warn(\n"
          ]
        }
      ]
    },
    {
      "cell_type": "markdown",
      "source": [
        "## Análise dos clusters"
      ],
      "metadata": {
        "id": "YhKGAAW6XZnp"
      }
    },
    {
      "cell_type": "code",
      "source": [
        "# Visualização 3D dos clusters\n",
        "px.scatter_3d(rfm_clip, x='R', y='F', z='M', color=kmeans_labels.astype(str), template='plotly_dark')"
      ],
      "metadata": {
        "colab": {
          "base_uri": "https://localhost:8080/",
          "height": 542
        },
        "id": "Tv9uZya2XNBc",
        "outputId": "3cb8c1d8-57e3-473d-84fa-386b8599b0e3"
      },
      "execution_count": 93,
      "outputs": [
        {
          "output_type": "display_data",
          "data": {
            "text/html": [
              "<html>\n",
              "<head><meta charset=\"utf-8\" /></head>\n",
              "<body>\n",
              "    <div>            <script src=\"https://cdnjs.cloudflare.com/ajax/libs/mathjax/2.7.5/MathJax.js?config=TeX-AMS-MML_SVG\"></script><script type=\"text/javascript\">if (window.MathJax && window.MathJax.Hub && window.MathJax.Hub.Config) {window.MathJax.Hub.Config({SVG: {font: \"STIX-Web\"}});}</script>                <script type=\"text/javascript\">window.PlotlyConfig = {MathJaxConfig: 'local'};</script>\n",
              "        <script charset=\"utf-8\" src=\"https://cdn.plot.ly/plotly-2.24.1.min.js\"></script>                <div id=\"dfbe21b5-ac48-45d0-a5e6-b1a94627bbd3\" class=\"plotly-graph-div\" style=\"height:525px; width:100%;\"></div>            <script type=\"text/javascript\">                                    window.PLOTLYENV=window.PLOTLYENV || {};                                    if (document.getElementById(\"dfbe21b5-ac48-45d0-a5e6-b1a94627bbd3\")) {                    Plotly.newPlot(                        \"dfbe21b5-ac48-45d0-a5e6-b1a94627bbd3\",                        [{\"hovertemplate\":\"color=3\\u003cbr\\u003eR=%{x}\\u003cbr\\u003eF=%{y}\\u003cbr\\u003eM=%{z}\\u003cextra\\u003e\\u003c\\u002fextra\\u003e\",\"legendgroup\":\"3\",\"marker\":{\"color\":\"#636efa\",\"symbol\":\"circle\"},\"mode\":\"markers\",\"name\":\"3\",\"scene\":\"scene\",\"showlegend\":true,\"x\":[24,58,25,41,25,22,47,57,22,23,88,32,24,54,39,37,44,39,27,37,41,31,41,30,30,44,24,24,25,59,31,51,50,38,23,45,32,89,44,22,36,25,26,29,29,37,51,37,50,24,50,32,45,24,22,37,25,59,24,24,26,87,48,25,45,31,24,38,52,23,31,30,25,26,33,31,23,32,38,26,53,36,22,25,33,148,24,30,54,23,23,53,22,43,26,32,38,51,48,29,36,52,26,34,23,33,24,39,23,26,27,60,52,23,23,33,22,27,36,29,23,39,73,30,55,24,23,65,47,88,34,32,37,23,34,27,24,53,48,27,25,71,38,24,25,24,33,24,24,52,80,30,40,24,44,43,23,79,29,40,51,26,64,32,65,40,29,24,62,22,23,45,26,25,26,24,29,26,38,73,25,44,24,23,41,30,32,24,23,26,82,75,23,64,48,65,30,30,25,23,29,30,30,30,39,38,67,149,30,32,32,24,24,26,32,114,113,23,45,27,88,51,125,41,39,53,41,24,46,24,80,50,25,29,25,25,201,40,23,23,30,32,29,26,32,23,33,37,32,31,23,30,38,25,64,38,31,24,73,24,23,69,61,62,25,43,100,25,34,29,33,25,23,55,51,81,32,79,37,30,25,31,26,37,31,41,31,47,62,29,40,52,72,36,74,30,39,31,23,23,23,25,23,32,239,88,53,122,29,80,26,47,24,72,82,22,34,53,26,47,62,30,106,23,23,41,24,37,55,34,86,62,40,44,31,29,34,29,26,142,33,30,83,31,32,65,26,37,26,47,40,30,55,62,54,38,36,40,24,61,23,22,45,95,39,26,26,62,34,27,85,41,22,38,26,37,46,61,46,24,34,30,30,25,68,27,38,25,109,31,25,30,30,23,32,44,53,24,51,31,30,38,31,95,43,86,27,50,54,25,29,39,24,23,34,24,51,85,24,55,29,85,23,24,44,32,88,22,37,26,39,37,22,44,38,24,24,69,30,30,22,41,31,40,36,39,60,51,33,108,26,25,52,32,24,32,51,23,30,36,24,32,53,30,64,52,26,27,26,50,178,34,102,25,27,34,43,22,34,39,25,22,24,24,95,43,34,50,50,26,24,24,27,38,37,50,54,27,33,50,48,62,26,46,37,34,24,23,48,31,30,46,23,37,39,51,25,22,34,45,62,45,26,24,51,33,22,24,24,23,22,23,228,79,50,23,23,36,29,30,22,95,45,29,44,27,58,23,33,47,32,39,47,64,23,23,38,29,52,60,25,26,44,59,38,25,24,27,23,41,34,48,44,59,26,64,23,103,333,27,25,52,24,43,93,26,27,43,59,37,33,96,33,26,29,43,27,136,45,30,103,23,89,32,29,36,26,24,26,25,66,33,31,31,29,61,25],\"y\":[7,8,10,12,9,8,9,13,7,13,7,8,13,7,13,11,10,8,10,7,11,8,13,10,7,10,13,13,9,10,8,7,10,9,13,9,7,8,12,11,13,13,13,7,8,9,10,13,13,13,7,7,12,11,13,13,7,8,7,13,13,8,7,12,8,13,7,7,8,11,8,8,13,13,13,8,13,10,13,9,10,13,13,13,11,9,13,13,10,13,13,7,13,8,8,8,7,12,11,9,10,8,13,7,13,12,13,11,13,10,13,8,7,8,13,13,10,7,7,13,13,13,10,7,7,13,7,7,7,12,12,13,9,13,7,7,13,13,10,9,13,8,12,7,9,13,7,13,10,7,9,13,8,8,13,13,10,9,13,8,12,13,9,12,7,8,13,11,12,13,13,13,13,8,9,13,13,13,11,7,12,7,11,13,11,7,13,13,13,13,7,9,13,9,10,11,10,8,13,11,9,13,9,9,7,8,8,8,13,8,9,9,13,13,7,9,7,13,10,9,11,7,8,11,8,9,9,13,7,13,8,13,8,13,13,7,9,9,13,7,9,13,13,7,9,13,9,13,11,11,8,8,12,13,7,7,11,8,11,7,13,12,8,11,12,13,7,8,9,13,9,7,13,8,12,11,9,7,13,9,11,10,10,8,13,13,13,11,9,13,7,10,11,8,7,13,10,13,13,13,13,13,8,11,12,8,13,7,13,9,13,13,12,12,8,13,7,10,13,7,7,12,8,7,7,13,13,12,13,11,8,8,8,11,9,13,13,12,7,13,13,9,9,13,13,9,9,8,13,9,7,9,8,7,13,7,8,13,8,7,8,13,13,13,8,12,13,8,8,13,7,7,8,8,8,8,13,7,8,10,7,7,13,8,9,13,7,10,7,8,13,11,9,13,13,12,13,13,7,13,7,8,9,7,10,8,13,7,7,13,9,9,13,12,10,10,7,7,13,7,7,7,13,13,7,10,7,13,10,13,13,7,13,10,11,13,12,7,13,13,13,10,11,13,7,13,13,7,7,13,13,13,11,11,13,13,7,10,10,13,9,11,11,13,13,7,13,7,8,11,11,13,13,7,13,9,13,9,7,10,7,11,13,9,11,7,13,9,9,7,9,8,8,7,12,10,7,8,7,7,8,7,10,13,8,10,13,13,7,7,9,8,13,7,8,11,13,11,8,8,8,13,13,7,7,12,13,7,7,7,7,10,9,8,10,8,10,7,8,13,13,7,7,13,13,8,9,11,10,12,7,12,7,7,13,13,7,7,13,8,9,13,11,13,11,13,13,9,13,8,10,13,10,9,13,8,13,9,13,12,8,13,12,8,8,13,12,13,13,13,7,8,13,10,10,10,13,12,10,11,7,13,8,13,12,13,13,10,13,12,11,13,7,13,7,8,13],\"z\":[23.681318681318682,29.482823529411764,19.647481203007516,19.350192307692307,19.005729166666665,14.87448,27.062789115646257,27.43568376068376,31.847309523809525,24.88145728643216,38.11661290322581,41.79482758620689,43.11252723311547,19.386755162241887,17.355663507109004,29.255021459227468,25.8325,33.133066666666664,22.114,16.183116883116885,16.884622641509434,31.150833333333335,28.03397489539749,19.33130890052356,22.510357142857146,21.079103139013455,21.939840425531912,29.47927125506073,24.355729166666666,28.290000000000003,22.902121212121212,16.654516129032256,40.61,40.45822222222222,29.31406852248394,22.51863945578231,19.47186956521739,15.714397905759162,30.76710743801653,16.73817391304348,21.610564263322885,23.434770992366413,24.641191860465117,21.748857142857144,26.600454545454546,20.56374251497006,17.27968152866242,46.891400966183575,33.053609022556394,16.332570621468925,21.041129032258063,28.638129496402875,68.96317518248175,40.737961165048546,7.491656844968269,21.52376373626374,22.547193548387096,26.72053691275168,16.205714285714286,17.80707006369427,9.641497584541062,16.526796116504855,7.50812734082397,9.972532467532467,41.00053333333333,23.037625,16.749612403100773,17.801293103448273,19.382418604651164,26.428666666666665,16.880420168067225,19.54347368421053,36.68822950819672,29.038486646884277,13.999777227722772,18.71409090909091,21.967762557077627,31.800733944954125,15.890174672489083,19.97236641221374,18.822906976744186,14.483523573200992,10.451509433962263,35.27357541899441,27.67322265625,49.50178082191781,32.393649393605294,57.48916129032258,14.259429928741094,50.49377622377622,21.131875,10.266689655172414,61.229800000000004,12.959342105263158,14.997428571428571,5.244963609898107,29.79376470588235,11.805320512820513,21.60554716981132,42.10404255319149,9.323743016759776,18.35392523364486,4.69442930153322,6.575990099009901,4.46126574685063,20.504064171122995,21.428862559241704,7.331986143187067,16.96279365079365,24.701975308641973,22.784768907563027,33.59046296296296,27.315328947368425,16.258193548387098,58.82225941422595,20.156019736842108,23.193121019108283,37.72168316831684,20.40754491017964,25.252801047120418,18.89062913907285,21.25191943127962,14.137441860465115,22.266363636363636,10.333456221198157,19.83135135135135,19.35050561797753,51.233999999999995,18.00392156862745,34.31256880733945,6.143941176470588,53.312222222222225,14.246839080459768,20.934634146341462,5.034093023255814,28.61661971830986,13.628142548596113,27.823666666666668,11.590876288659794,17.224328358208954,18.828805970149254,19.043846153846154,9.92929712460064,32.72195121951219,6.567165109034268,36.54591549295775,27.26965811965812,46.79445652173913,20.71488888888889,19.173259259259257,16.43504854368932,73.72290909090908,15.894676258992806,24.095130434782607,19.057291666666668,19.513757575757577,17.125545454545456,17.43858108108108,14.578626817447496,18.511812080536913,24.3311214953271,20.229598853868197,28.647603305785125,18.758701923076924,26.799064327485382,9.747272727272728,69.14744,20.80832167832168,15.547248908296943,74.33519047619048,7.493299632352941,21.949328621908126,30.39811881188119,4.450681114551084,5.6661016949152545,9.868950892857143,19.050981308411213,12.749909998043435,12.41668,21.977479674796747,36.66548387096774,18.2196875,17.930149999999998,35.00231343283583,3.9407234042553196,5.032264150943396,19.785500000000003,17.56256603773585,18.08787644787645,19.601934369602763,20.20108108108108,20.009821428571428,20.0498,17.78652849740933,19.148342857142858,21.257589285714285,18.360070921985816,18.3093006993007,24.035324675324677,16.385021097046412,48.719300000000004,31.476664630421503,27.73160839160839,20.10709401709402,19.28387596899225,15.754382716049383,16.92953125,12.534225352112676,17.711746641074857,17.273333333333333,16.347077464788732,9.999741379310345,30.034022988505747,22.26087912087912,24.519150943396227,5.821534391534391,15.432783505154639,10.113246977547496,20.007455357142856,3.1861457233368533,8.500300429184549,31.561111111111114,6.991207547169812,3.9964309210526316,7.464242038216561,9.359543147208122,14.95,8.761204943357363,31.44709677419355,8.656102362204726,13.84142857142857,50.70042253521127,11.196478873239437,30.240135135135134,11.949331742243437,10.704351145038167,7.223876651982379,4.259541778975741,4.511075831154277,8.233547008547008,9.999723320158102,16.18172839506173,17.219444444444445,15.991923076923076,7.725045871559633,9.508157894736842,3.8014249363867685,25.10734693877551,8.230782608695652,7.876331360946745,4.107294372294372,18.384285714285717,47.455,31.26644329896907,24.34166666666667,42.30692307692308,21.320340425531914,9.808832391713747,21.694871794871798,16.498875,7.045485865724381,11.310156657963446,11.768831168831168,8.209960629921259,18.50841666666667,20.439536082474227,21.746269841269843,20.511041666666667,12.099098360655738,22.366887550200804,14.805104166666666,21.21878787878788,25.345885361552032,22.35445054945055,34.707352941176474,58.69195652173913,22.579102564102566,10.984166666666667,5.661303956834533,4.215698198198198,12.152640144665462,10.765986842105264,5.104151696606786,10.959384615384614,13.38293161814489,17.19533783783784,25.32547263681592,7.904285714285714,5.644388185654009,22.14343181818182,22.76168316831683,14.012994923857867,41.04047619047619,19.013561643835615,29.428125,30.324608294930872,15.517096774193549,17.511771217712177,26.254943661971833,52.49648351648352,76.53485849056604,24.569451612903226,15.104000000000001,34.680060240963854,15.716853146853149,15.967636363636364,19.109885714285713,23.516493506493507,9.444469696969698,16.778057553956835,38.93735294117647,45.32330097087379,24.999479166666664,20.867561983471074,30.19130434782609,25.626690617075234,8.83406392694064,5.446953907815631,15.149183303085302,20.301052631578948,25.383510638297874,18.302348484848483,28.285573770491805,8.638682795698925,4.91673835125448,75.82082474226804,26.00859375,48.75553990610329,47.91629870129871,24.239277108433736,9.150238095238095,16.217297297297296,14.990925925925927,5.985800604229607,13.693861003861004,7.065611510791367,5.4057046223224345,13.005705329153605,11.950094339622641,25.176506849315068,16.52819512195122,28.214565217391307,37.92415584415584,37.01046511627907,24.585673758865248,20.051675675675675,18.51767741935484,19.67251497005988,26.084264705882354,17.787333333333333,34.065769230769234,18.030722891566263,16.137559523809525,11.8507326007326,5.402867883995703,17.139734219269105,16.734084507042255,27.817456647398846,8.464089347079039,6.485432098765432,20.519772727272727,16.05492366412214,18.355117056856187,15.966000000000001,26.896884057971015,21.51536231884058,25.706433121019106,6.943597122302158,5.82762962962963,8.300958605664487,36.71566666666667,10.451266666666667,4.6198496240601505,9.95271523178808,21.703217391304346,17.085360824742267,24.13256830601093,19.557670454545455,35.13896907216495,10.777635658914729,11.193515625,5.115414364640884,15.966476190476191,6.542455357142857,23.664,7.782641843971631,18.703471074380165,17.323488372093024,29.934776119402986,5.952974910394265,43.16284023668639,16.96200892857143,24.1565625,11.748768577494692,38.648979591836735,18.38045871559633,23.428610169491527,38.66059701492538,36.72238095238095,3.9546717557251907,12.259794520547945,9.70337037037037,21.112403100775193,14.129344262295081,19.059237288135595,19.46298013245033,10.130733333333334,10.482119205298012,6.376801801801802,71.0181914893617,26.52909090909091,30.2043137254902,9.299571865443426,22.033978494623653,12.379047619047618,5.279773371104816,14.128971962616822,18.59777777777778,17.241287128712873,10.931232876712329,5.372848664688427,17.085342465753424,32.477482758620695,71.18825136612023,16.163506493506492,4.362054054054054,16.008647342995168,18.127152173913043,29.66984126984127,19.044814814814817,19.46343023255814,19.903840579710145,24.65418994413408,17.88,16.25357142857143,71.35912280701754,19.07969325153374,5.440955882352942,16.482305194805196,37.488194444444446,51.98144444444444,6.263934010152283,8.245,11.164426494345719,9.031734693877551,21.025822222222224,10.983734756097562,11.648052631578947,5.4741949152542375,20.227323943661972,15.045292792792791,3.987071428571429,25.22877828054299,10.773949044585986,32.05957703927493,12.393169398907105,5.432420382165605,4.303956834532374,3.878356807511737,20.115047021943575,18.65988372093023,17.81686170212766,19.218060606060607,62.38477443609022,26.97505291005291,8.571436781609195,5.4943609022556394,15.2643216080402,2.7687339449541284,25.555799999999998,7.951687116564417,11.292460063897764,13.797549019607843,16.823246753246753,5.140936794582393,6.877220216606498,17.451807228915662,38.61259259259259,13.327762237762236,45.53433333333333,12.63125,23.606923076923078,34.50103174603175,17.839211356466876,52.850808080808086,18.732564102564105,15.378851351351353,18.948951048951052,17.350214285714287,32.37131147540984,19.629538461538463,4.523317535545024,6.5131707317073175,21.917884615384615,22.328658280922433,16.494807692307692,17.134375,43.79767441860465,29.455119047619046,8.871525423728812,10.982085308056874,17.71484076433121,7.202841328413284,6.8255888650963605,9.16389423076923,5.884595103578154,6.701081081081081,22.067312661498708,8.598852459016394,10.125928571428572,14.04590909090909,19.297099236641223,13.335944798301485,4.648820512820513,9.00629680998613,30.352063882063884,5.430393374741201,10.991822660098522,10.252387096774193,17.559532710280372,5.3274103585657375,10.045346534653465,44.641525423728815,19.061515151515152,25.626096654275095,20.517330097087378,52.61234756097561,17.715074626865672,9.127572463768116,17.214000000000002,27.530526315789476,32.65018348623853,23.598661417322834,16.713296703296706,27.85704761904762,14.34189723320158,6.069538461538461,17.81555555555556,26.251393939393935,8.86773631840796,25.114441913439634,14.03611464968153,10.591283018867925,6.986102292768959,14.851470588235294,14.748943089430893,7.96820945945946,18.443566878980892,17.004310344827587,18.794285714285714,28.99934065934066,18.98392405063291,20.96406976744186,50.09882352941177,28.89968794326241,53.94514851485148,24.849055118110236,20.06804195804196,18.757142857142856,19.875739130434784,17.70407766990291,27.498664921465966,23.085673469387753,19.693576642335767,17.911875,24.304954128440368,19.000028985507246,9.29592391304348,7.558635135135136,8.436138613861386,13.017861842105262,10.393121693121692,7.522698019801981,11.526310679611651,9.374178743961352,9.513765432098765,5.2787701928087545,17.670588235294115,18.15222222222222,26.09472081218274,9.579360730593608,28.449513513513512,6.910703703703704,11.015384615384615,5.827916666666667,6.1947368421052635,4.851425576519916,5.206586345381527,7.997507692307693,15.301228668941981,5.292631578947368,11.966219512195122,8.94622270742358,16.445669291338582,18.88642458100559,46.0741304347826,17.465912408759124,53.60861111111112,18.392605633802816,11.589282511210762,43.104285714285716,18.151746031746033,3.781967654986523,4.453745051464766,67.18023255813954,40.00888888888889,34.12301886792453,18.155877192982455,23.840220588235294,20.46453531598513,21.603512396694217,44.37134146341464,32.67674418604651,19.933557692307694,14.668914285714285,19.81042372881356,2.8370735090152563],\"type\":\"scatter3d\"},{\"hovertemplate\":\"color=2\\u003cbr\\u003eR=%{x}\\u003cbr\\u003eF=%{y}\\u003cbr\\u003eM=%{z}\\u003cextra\\u003e\\u003c\\u002fextra\\u003e\",\"legendgroup\":\"2\",\"marker\":{\"color\":\"#EF553B\",\"symbol\":\"circle\"},\"mode\":\"markers\",\"name\":\"2\",\"scene\":\"scene\",\"showlegend\":true,\"x\":[97,23,71,100,46,184,101,78,103,45,40,156,99,38,233,43,150,170,30,64,73,103,44,302,232,333,32,123,283,96,59,74,160,304,165,66,31,236,207,30,198,24,150,43,86,24,333,179,25,107,29,135,52,32,43,121,25,155,218,61,32,85,289,33,25,289,144,25,103,83,290,333,23,177,59,94,58,103,333,67,72,225,155,96,281,60,297,36,85,45,121,142,24,85,25,333,40,333,75,85,22,31,149,23,160,74,205,274,114,29,25,191,43,101,29,48,67,131,146,128,31,32,333,95,36,25,106,68,100,31,92,223,128,240,111,31,43,139,73,130,213,152,332,240,39,43,333,120,41,110,23,46,172,132,296,37,26,94,264,23,53,47,93,220,25,26,65,219,218,46,32,48,153,101,319,71,37,93,278,53,173,25,235,333,333,156,47,67,333,24,81,333,333,144,31,44,45,37,71,89,132,333,54,230,102,43,159,150,235,194,114,270,36,37,39,333,46,333,72,32,26,333,114,239,274,22,136,88,257,326,29,27,31,36,135,164,73,33,44,31,111,333,104,39,333,110,24,25,113,60,52,319,305,38,39,51,268,318,290,87,254,122,94,110,23,72,198,94,59,239,218,29,289,83,39,128,53,39,186,185,75,135,80,44,38,50,26,278,157,248,25,288,75,68,52,333,99,88,137,30,289,51,29,240,171,62,132,47,100,37,216,43,68,57,286,74,129,330,32,53,68,44,145,108,151,72,30,29,99,22,185,61,26,206,65,241,30,148,39,24,94,26,151,122,195,43,108,74,222,149,33,134,333,95,95,38,93,107,23,26,45,110,304,33,333,33,30,71,152,169,23,138,92,103,31,155,311,40,38,120,24,115,22,333,234,39,179,108,29,104,248,333,68,45,109,46,24],\"y\":[4,2,1,3,13,2,2,1,1,11,2,3,2,5,2,1,6,2,9,12,7,1,6,2,1,1,3,1,1,5,6,1,1,1,2,3,2,2,3,13,2,5,1,13,8,3,2,9,13,1,1,6,3,2,12,1,6,1,1,4,4,2,1,1,13,1,3,7,1,1,2,1,1,1,4,2,10,1,1,7,1,1,3,2,2,3,2,2,1,11,11,1,7,1,13,1,1,1,5,1,13,11,2,13,3,2,3,1,3,2,13,2,5,3,7,5,3,4,2,1,12,13,1,6,4,4,1,4,2,13,2,2,1,1,1,9,4,1,2,8,2,4,1,1,1,6,1,3,4,3,2,4,2,1,1,13,4,4,3,13,6,13,3,1,3,7,1,1,3,2,12,2,1,1,1,1,2,2,3,1,2,13,1,1,3,1,13,1,1,1,4,1,1,1,11,5,1,7,1,7,1,1,2,1,1,1,1,1,2,1,5,1,7,12,2,1,1,1,4,1,4,2,2,1,1,13,2,1,3,1,13,1,3,3,4,1,1,13,6,7,13,1,1,12,1,3,3,13,6,13,3,1,1,3,7,4,1,1,1,2,2,8,4,5,13,1,1,1,4,1,1,13,1,1,13,1,1,3,1,12,1,1,7,13,4,3,13,2,4,2,5,2,1,1,1,1,3,1,3,7,1,2,6,1,4,2,2,1,1,7,3,2,2,7,8,5,4,1,13,1,3,2,1,1,2,1,13,6,4,13,2,8,13,2,2,1,13,5,3,13,1,4,1,3,3,3,1,2,1,6,7,1,1,2,1,12,7,1,4,13,1,1,1,7,1,4,7,10,1,1,13,1,9,3,1,2,1,2,1,2,11,4,13,1,1,6,2,4,1,1,1,1,1,2,1,3,3],\"z\":[57.97548387096774,61.47684210526315,85.53999999999999,91.76842105263158,91.76842105263158,58.69866666666667,91.76842105263158,91.76842105263158,74.50714285714285,69.80032786885245,53.5611111111111,62.13380952380952,50.46384615384615,91.76842105263158,91.76842105263158,91.76842105263158,91.76842105263158,51.391860465116274,91.76842105263158,91.76842105263158,91.76842105263158,82.3920754716981,91.76842105263158,91.76842105263158,91.76842105263158,91.76842105263158,91.76842105263158,62.96,91.76842105263158,91.76842105263158,91.76842105263158,91.76842105263158,49.04,91.76842105263158,91.76842105263158,57.322,91.76842105263158,70.824,91.76842105263158,91.76842105263158,91.76842105263158,69.2625,91.76842105263158,91.76842105263158,91.76842105263158,80.1304347826087,87.41578947368421,91.76842105263158,91.76842105263158,70.44,91.76842105263158,91.76842105263158,91.76842105263158,91.76842105263158,80.305,91.76842105263158,54.924,76.5,91.76842105263158,91.76842105263158,91.76842105263158,54.83692307692308,71.4,57.300000000000004,82.49680672268909,66.748,91.76842105263158,91.76842105263158,91.76842105263158,69.7025,91.76842105263158,91.76842105263158,91.76842105263158,63.75,66.66197674418605,51.57818181818182,91.76842105263158,56.275,76.96941176470588,80.12298507462687,56.160000000000004,59.8,57.9375,53.424,91.76842105263158,53.51851851851852,77.32875,91.76842105263158,89.05,91.76842105263158,91.76842105263158,50.42,79.98564102564103,91.76842105263158,91.76842105263158,91.76842105263158,72.3,79.6,68.63583333333334,91.76842105263158,91.76842105263158,79.44483870967741,91.76842105263158,91.76842105263158,76.657,71.12307692307692,62.65384615384615,85.0,91.76842105263158,91.76842105263158,91.76842105263158,91.76842105263158,91.76842105263158,51.05181818181818,91.76842105263158,57.531875,52.38666666666667,91.76842105263158,65.0625,72.56400000000001,91.76842105263158,85.7246349745331,76.32000000000001,91.76842105263158,69.285,54.13,83.91600000000001,91.76842105263158,91.76842105263158,84.02156272401434,56.26793103448276,91.76842105263158,55.919999999999995,91.76842105263158,91.76842105263158,91.76842105263158,70.74111111111111,49.24153846153846,63.4339393939394,53.87463768115942,56.095454545454544,73.7905,75.92857142857143,88.39999999999999,91.76842105263158,91.76842105263158,83.16375,88.27,91.76842105263158,50.978571428571435,67.65,57.32588235294117,91.76842105263158,91.76842105263158,91.76842105263158,91.76842105263158,89.25750000000001,91.76842105263158,91.76842105263158,91.76842105263158,60.672380952380955,91.76842105263158,71.27857142857142,91.76842105263158,68.50294117647059,65.038,77.928,67.9625,91.76842105263158,52.86666666666667,91.76842105263158,53.60909090909092,51.02133333333333,91.76842105263158,91.76842105263158,77.3,81.6,74.03999999999999,91.76842105263158,91.76842105263158,61.305,91.76842105263158,74.16,91.76842105263158,91.76842105263158,91.76842105263158,90.77543307086614,57.34285714285715,91.76842105263158,91.76842105263158,91.76842105263158,80.65,91.76842105263158,59.333333333333336,91.76842105263158,91.76842105263158,91.76842105263158,58.03634146341463,80.18333333333334,91.76842105263158,52.0,91.76842105263158,54.99692307692308,64.285,91.76842105263158,91.76842105263158,74.34814814814814,56.0,74.60625,91.76842105263158,59.68333333333334,91.76842105263158,91.76842105263158,91.76842105263158,84.14666666666668,91.76842105263158,91.76842105263158,91.76842105263158,91.76842105263158,91.76842105263158,80.814375,91.76842105263158,91.76842105263158,76.32000000000001,68.4,83.06923076923077,51.517307692307696,56.14,91.76842105263158,79.2,91.76842105263158,63.568000000000005,60.80790697674419,80.4675,91.76842105263158,91.76842105263158,51.977500000000006,91.76842105263158,91.76842105263158,69.28054054054054,80.46065789473684,90.5,58.9048275862069,91.76842105263158,76.95500000000001,55.78744186046512,91.76842105263158,91.76842105263158,58.41375,91.76842105263158,91.76842105263158,91.76842105263158,79.2,64.38095238095238,91.76842105263158,53.741623931623934,91.76842105263158,76.32000000000001,63.070344827586204,51.272000000000006,91.76842105263158,63.29740740740741,91.76842105263158,49.18739130434783,91.76842105263158,57.525000000000006,91.76842105263158,91.76842105263158,91.76842105263158,91.76842105263158,91.76842105263158,91.76842105263158,91.76842105263158,56.23064516129032,91.76842105263158,91.76842105263158,91.76842105263158,91.76842105263158,91.76842105263158,68.09309523809523,56.72315789473684,52.27,57.406525423728816,91.76842105263158,79.22812499999999,91.76842105263158,91.76842105263158,91.76842105263158,65.79,91.76842105263158,75.04681818181818,91.76842105263158,91.76842105263158,91.76842105263158,70.5888,91.76842105263158,91.76842105263158,91.76842105263158,90.50833333333333,76.96321428571427,91.76842105263158,91.76842105263158,91.76842105263158,91.76842105263158,73.75,57.50625,91.76842105263158,91.76842105263158,59.400000000000006,91.76842105263158,91.76842105263158,58.620000000000005,72.0,53.103125000000006,52.73057971014492,91.76842105263158,91.76842105263158,91.76842105263158,91.76842105263158,91.76842105263158,91.76842105263158,60.65,91.76842105263158,91.76842105263158,91.76842105263158,87.06625,91.76842105263158,91.76842105263158,83.97066666666666,91.76842105263158,91.76842105263158,91.76842105263158,91.76842105263158,59.37307692307692,91.76842105263158,91.76842105263158,91.76842105263158,91.4578947368421,91.76842105263158,91.76842105263158,85.53333333333335,62.942105263157885,91.76842105263158,53.92173913043479,91.76842105263158,53.073076923076925,91.76842105263158,66.40366666666667,91.76842105263158,91.76842105263158,59.39042553191489,71.4,80.64,91.76842105263158,51.230999999999995,88.71983606557377,77.18479166666667,91.76842105263158,91.76842105263158,91.76842105263158,91.76842105263158,56.697391304347825,91.76842105263158,91.76842105263158,91.76842105263158,91.76842105263158,91.76842105263158,91.76842105263158,91.76842105263158,91.76842105263158,91.76842105263158,72.63714285714285,70.53966666666666,91.76842105263158,56.72,91.76842105263158,91.76842105263158,91.76842105263158,90.47999999999999,91.76842105263158,91.76842105263158,58.51444444444444,91.76842105263158,76.32000000000001,91.76842105263158,53.07132075471698,67.968,67.9625806451613,91.76842105263158,91.76842105263158,91.76842105263158,91.76842105263158,70.42999999999999,91.76842105263158,91.76842105263158,55.68095238095239,68.0],\"type\":\"scatter3d\"},{\"hovertemplate\":\"color=1\\u003cbr\\u003eR=%{x}\\u003cbr\\u003eF=%{y}\\u003cbr\\u003eM=%{z}\\u003cextra\\u003e\\u003c\\u002fextra\\u003e\",\"legendgroup\":\"1\",\"marker\":{\"color\":\"#00cc96\",\"symbol\":\"circle\"},\"mode\":\"markers\",\"name\":\"1\",\"scene\":\"scene\",\"showlegend\":true,\"x\":[40,44,55,79,74,131,29,26,73,66,93,47,32,151,103,43,26,50,37,101,43,94,85,57,67,141,44,71,54,96,88,134,85,37,117,100,43,31,65,64,106,121,36,25,43,44,79,66,44,32,38,156,95,66,93,116,40,75,39,51,75,44,25,33,50,54,31,60,85,43,117,48,88,134,50,22,85,101,61,22,103,31,81,36,52,152,113,65,51,44,51,58,97,68,101,60,72,29,27,108,61,30,57,57,43,100,61,39,29,61,50,114,130,73,41,80,101,82,100,44,74,96,79,24,117,51,43,36,128,26,31,79,80,111,55,45,137,47,151,55,26,129,25,32,39,33,40,51,33,80,33,32,27,60,46,80,22,50,135,47,50,149,92,29,50,29,101,41,93,118,22,31,128,25,93,27,53,107,25,27,93,135,100,85,156,25,150,108,138,74,29,160,81,39,41,85,26,24,31,31,87,75,40,58,66,117,25,92,81,27,24,54,81,55,165,92,51,44,53,118,156,100,29,48,106,79,46,110,85,89,46,52,64,40,33,61,26,160,30,39,86,110,26,57,100,46,39,37,47,76,153,57,165,30,27,31,29,111,31,134,29,51,40,22,95,53,45,45,26,44,128,127,78,75,95,86,23,44,33,74,76,95,160,102,30,121,52,36,86,100,46,94,34,46,104,151,23,26,26,50,92,92,61,66,81,33,41,116,111,99,116,45,107,78,44,130,106,41,48,36,27,55,71,116,30,44,144,68,40,58,48,43,26,38,68,86,67,61,40,117,83,157,33,32,41,31,37,80,115,32,41,78,149,100,82,96,46,39,118,134,114,72,40,39,146,114,31,33,83,75,59,53,135,85,37,62,100,144,40,81,45,60,29,125,142,44,29,50,26,44,23,88,23,100,39,25,53,114,36,104,99,89,92,86,32,38,88,82,93,144,102,85,31,39,93,55,111,82,110,121,48,53,153,33,96,51,94,149,39,23,96,46,129,65,26,85,62,86,130,41,32,32,40,89,23,113,45,38,45,48,48,46,39,51,80,32,121,23,82,59,67,87,100,79,127,158,29,32,39,45,38,93,86,94,25,23,148,95,94,43,81,107,100,80,23,52,55,62,100,55,107,61,34,118,95,50,27,29,103,106,166,41,62,39,72,45,47,36,36,33,86,57,130,74,27,69,67,86,48,51,62,111,46,62,138,52,81,46,55,89,58,74,37,96,53,38,31,38,57,67,65,136,32,31,107,82,72,97,40,23,39,81,46,60,29,53,54,37,138,58,153,60,50,58,157,50,46,27,93,117,117,146,55,76,72,92,86,55,103,125,29,34,97,26,88,138,88,85,27,50,64,61,114,44,45,51,27,40,54,79,44,38,41,47,27,33,86,46,73,151,117,79,79,23,80,96,53,145,141,75,85,108,76,24,32,29,93,141,114,48,45,50,72,38,94,59,101,33,71,71,81,75,23,114,45,96,32,79,117,131,57,45,39,87,24,33,23,27,101,43,43,92,71,53,36,95,82,61,39,41,87,34,52,25,37,156,31,137,132,99,74,68,38,29,143,82,85,44,50,100,55,48,30,38,53,41,87,51,85,54,26,151,62,123,146,54,24,78,34,58,159,27,52,94,41,25,32,29,144,82,23,151,23,68,25,24,155,30,57,97,41,62,109,61,120,32,55,81,108,62,88,52,89,40,24,38,116,32,127,52,33,25,64,26,114,132,50,73,64,71,44,97,102,52,132,29,23,86,72,131,95,73,120,37,52,45,30,30,33,25,62,39,40,93,110,68,128,66,86,32,136,146,44,89,38,38,43,60,142,32,27,101,65,41,53,44,66,74,48,60,31,54,87,87,55,141,129,93,64,44,25,32,121,79,22,72,29,31,120,30,22,75,22,40,31,40,82,32,132,39,33,96,68,93,33,40,72,60,48,89,29,47,72,64,48,25,69,39,45,44,33,122,83,39,55,86,130,59,82,47,82,79,86,37,31,46,27,32,40,41,32,79,107,97,117,78,23,34,25,38,62,27,72,37,57,43,29,41,33,66,32,31,23,54,79,45,113,26,72,58,72,74,46,43,80,89,26,89,99,30,39,27,108,48,50,41,82,46,25,38,47,128,66,52,159,23,54,36,24,36,51,46,46,65,23,27,32,46,69,33,134,51,109,66,37,97,166,26,80,68,51,30,39,134,80,149,76,48,32,29,50,38,85,43,74,73,83,30,37,97,58,95,86,43,32,51,75,39,32,111,75,65,85,45,80,141,58,81,34,41,74,47,51,29,30,25,129,99,41,40,31,107,29,45,47,43,24,96,24,38,57,113,92,137,52,72,54,130,26,103,78,36,94,45,41,101,47,34,169,86,30,31,118,36,52,90,57,150,129,59,79,94,41,60,68,69,137,73,34,57,75,65,55,60,33,55,102,52,30,26,111,94,80,87,47,45,26,34,30,93,59,75,100,68,115,31,127,99,44,43,32,89,40,125,64,26,106,30,53,39,163,45,51,31,40,39,36,155,72,136,29,44,87,82,40,149,24,68,26,32,155,53,97,23,25,40,90,47,30,93,40,88,51,92,36,141,82,32,114,109,47,107,32,23,82,68,109,73,58,88,135,23,51,32,66,96,87,156,58,38,149,88,157,128,86,79,26,59,88,68,44,65,51,72,32,86,86,117,97,86,25,66,92,107,125,74,61,75,88,151,109,22,67,94,51,61,117,97,79,62,30,36,62,26,38,31,134,38,23,53,55,48,31,86,107,46,80,60,41,55,37,48,45,30,44,34,153,76,31,48,52,51,47,116,51,107,31,73,72,24,135,99,62,138,23,52,114,44,117,50,54,43,30,103,74,44,33,66,23,54,106,24,55,43,30,47,41,29,33,136,76,99,26,58,82,46,50,33,44,72,40,24,125,33,53,59,90,46,45,68,92,37,122,57,75,48,100,74,58,50,73,58,54,78,138,125,96,67,39,111,74,156,127,40,58,113,31,67,44,65,128,72,61,62,110,95,103,40,71,74,46,31,47,139,141,26,50,39,24,162,85,57,31,33,167,46,33,57,37,87,71,38,99,41,156,34,62,73,32,83,87,46,87,53,110,86,137,90,155,47,32,54,68,48,32,65,97,129,68,68,72,58,100,44,129,38,85,71,66,25,78,121,59,80,92,66,72,86,55,80,94,68,60,41,73,158,40,37,30,47,62,123,54,36,23,24,114,82,102,23,45,38,30,25,41,89,43,86,134,155,30,38,53,30,55,53,96,41,39,45,24,106,39,99,44,145,52,41,66,25,76,110,58,51,34,69,45,44,57,59,25,69,61,38,68,34,51,65,114,109,29,87,44,59,141,62,76,54,67,87,31,38,44,66,103,78,122,45,81,136,128,33,72,92,64,29,83,87,106,67,165,30,81,79,95,73,61,39,73,43,81,40,87,110,25,155,26,64,71,37,39,30,72,81,117,37,148,116,72,82,95,89,86,38,66,37,62,97,26,25,80,45,52,76,47,66,110,41,100,102,58,79,66,109,65,93,62,100,78,46,55,45,83,74,88,67,39,93,24,138,122,43,27,53,143,31,44,148,47,128,39,25,141,57,94,23,150,68,36,39,58,129,46,97,38,66,33,43,39,85,55,23,26,31,54,75,33,40,59,24,40,104,55,88,30,26,96,111,82,50,75,78,82,41,116,92,40,58,41,75,78,43,66,48,66,134,46,79,86,50,27,29,89,23,68,55,157,109,66,121,50,95,43,41,96,45,73,110,47,32,97,37,99,55,68,101,25,30,71,26,128,47,41,43,26,74,52,83,47,103,25,41,27,132,24,75,130,117,64,57,46,48,27,37,25,48,149,106,93,102,93,90,72,97,83,37,26,26,62,58,96,54,92,37,53,25,73,102,101,51,95,39,54,53,127,26,64,93,38,163,39,31,41,90,37,45,76,55,65,94,26,83,23,97,94,90,59,67,106,100,45,48,113,48,68,74,53,74,100,59,39,66,80,136,87,29,118,41,69,79,55,79,89,82,102,96,122,41,145,30,25,79,111,33,87,45,125,164,121,45,26,125,117,37,60,73,115,60,23,150,61,58,122,72,65,74,26,32,45,36,81,53,162,44,44,26,89,34,106,88,59,37,57,23,23,86,48,29,38,138,51,103,51,94,58,31,45,71,83,43,48,75,23,76,47,30,74,160,25,78,156,131,52,39,109,60,138,26,61,60,99,25,82,110,27,32,52,45,107,68,26,72,40,52,30,50,33,53,67,82,100,85,33,108,38,109,52,48,24,54,135,107,139,118,50,152,50,103,51,80,136,39,39,58,58,44,47,55,131,57,145,29,50,72,44,37,40,32,55,51,69,30,25,141,72,174,27,128,23,127,44,73,46,97,39,29,54,43,53,60,79,100,66,78,79,29,128,80,51,45,75,57,75,75,82,53,29,87,40,118,24,57,47,34,33,130,75,37,142,25,138,40,26,62,129,160,24,149,64,57,79,152,82,43,53,25,50,39,123,33,43,36,117,100,160,122,30,39,36,107,173,116,68,37,36,30,58,46,33,39,71,94,39,62,92,33,87,26,41,36,41,44,136,148,58,23,38,34,101,64,72,38,68,41,30,93,150,54,40,110,23,58,62,39,37,65,116,44,82,38,32,32,38,66,101,99,25,87,80,29,97,31,24,97,46,150,53,37,39,75,51,23,33,75,75,51,47,46,65,45,82,23,41,36,116,41,46,30,72,93,51,26,29,131,82,24,25,107,34,39,24,100,55,62,75,79,152,27,81,54,36,40,103,23,53,41,53,141,87,82,43,58,95,47,40,25,88,23,37,72,23,96,26,45,32,65,149,159,153,38,52,57,32,66,48,118,93,37,25,101,60,75,31,31,41,135,25,22,39,43,54,72,37,30,78,32,118,46,43,94,75,107,174,51,47,62,44,104,33,34,36,58,26,73,27,44,23,55,71,24,69,48,64,128,33,81,34,52,129,102,65,25,25,34,53,151,78,66,107,51,43,93,31,80,25,67,86,155,67,57,156,51,73,160,27,29,59,94,61,88,53,59,73,46,51,57,44,78,143,59,34,25,45,50,26,54,130,73,57,120,26,87,43,57,54,176,41,75,46,67,92,45,97,62,48,67,58,47,83,33,29,149,33,59,59,41,34,47,30,46,51,82,41,37,51,85,138,34,162,67,72,54,156,25,97,34,31,79,37,59,45,82,55,80,53,150,31,26,46,37,37,99,93,117,128,93,58,50,23,47,111,53,51,44,114,78,103,93,51,24,94,144,39,72,111,65,47,94,156,60,24,52,65,80,95,29,64],\"y\":[1,3,1,4,3,2,4,1,4,2,3,1,2,1,2,4,5,2,6,1,1,4,2,2,1,4,2,5,5,3,3,1,1,4,3,1,3,4,1,5,2,1,2,1,5,1,1,1,4,5,2,1,6,3,2,2,2,4,2,5,1,6,1,1,4,6,3,1,2,3,5,2,2,1,5,5,1,5,2,3,3,6,4,1,1,1,2,3,1,4,3,1,2,2,1,2,2,1,3,1,2,2,5,3,2,1,1,1,1,1,2,2,3,2,4,1,2,1,3,5,1,1,5,4,2,1,1,3,2,3,2,1,4,2,1,3,1,3,1,4,2,3,1,5,5,4,1,1,1,1,4,5,2,4,6,4,4,6,1,2,6,4,2,4,3,4,2,1,1,3,1,5,1,2,1,2,6,4,5,4,4,1,2,1,2,5,1,1,2,3,2,2,1,5,6,2,5,6,2,3,1,2,1,3,1,2,4,2,1,3,6,2,4,2,4,2,2,1,2,1,6,3,6,2,2,2,4,1,3,2,1,1,2,2,5,5,5,4,6,1,1,4,2,5,2,3,4,4,1,2,3,2,6,6,4,1,2,1,1,1,4,2,1,2,2,3,2,4,3,4,3,3,1,5,3,2,5,2,2,2,2,2,3,3,2,1,2,4,2,3,3,1,4,2,1,1,4,5,2,1,5,1,1,4,2,4,5,2,3,1,1,3,4,5,6,3,5,1,1,4,1,4,4,4,4,1,4,2,4,4,1,3,2,3,1,1,1,3,2,2,1,1,4,6,4,4,2,6,1,3,3,5,1,4,2,2,2,4,4,3,1,1,6,4,2,3,2,3,1,5,1,2,1,2,4,1,1,3,3,2,4,2,4,4,1,3,5,3,2,5,3,6,3,4,1,5,2,3,1,3,1,3,1,1,1,2,1,1,1,1,1,1,4,2,1,2,1,3,1,3,3,6,2,3,1,2,5,2,1,2,3,5,1,2,2,1,2,1,3,3,1,4,2,2,1,1,3,6,1,6,5,2,6,2,1,2,2,4,2,6,5,1,3,3,4,3,5,2,5,3,3,1,1,4,4,4,1,1,4,3,3,1,1,6,3,1,5,5,2,1,3,2,3,2,4,2,4,1,3,2,3,2,2,2,2,5,4,2,2,6,3,4,5,1,2,1,2,1,1,3,1,3,4,3,1,5,5,5,5,1,5,3,1,1,3,4,4,6,2,3,6,2,2,5,3,3,2,1,2,4,4,1,3,1,3,1,6,5,4,1,3,2,2,6,2,1,4,2,3,2,5,6,2,2,2,3,4,3,1,1,2,6,2,1,2,2,1,1,5,3,3,4,2,4,2,2,2,2,5,3,1,6,1,4,4,1,1,3,2,1,3,1,1,5,4,1,3,4,3,5,1,1,1,5,5,5,1,2,1,4,3,4,1,2,5,2,4,2,2,2,2,1,6,4,1,1,4,2,2,2,1,3,4,1,6,4,2,5,3,2,2,2,1,6,2,1,1,4,1,6,2,6,1,6,5,2,5,3,3,1,1,3,2,2,2,1,2,3,5,3,1,4,5,4,2,1,1,5,2,1,3,1,5,6,1,1,1,1,1,1,1,5,2,1,5,4,3,3,3,2,5,3,2,1,2,4,1,5,2,2,2,1,4,4,1,4,1,3,4,2,1,6,2,4,1,2,1,6,6,5,6,4,1,1,3,4,5,3,5,4,4,5,2,2,3,3,5,5,2,2,2,4,3,3,2,3,3,6,5,4,1,4,1,3,6,6,1,6,1,5,2,2,3,1,2,4,4,1,2,1,2,2,1,3,4,1,2,1,1,3,3,3,2,2,6,1,6,6,2,2,3,6,1,2,6,2,5,6,1,5,4,4,4,5,2,4,2,2,3,4,2,2,1,3,1,6,1,1,6,1,5,1,2,5,3,6,4,5,6,2,5,3,3,6,2,1,1,1,3,6,3,1,2,2,3,2,5,2,2,5,4,2,1,3,4,2,1,4,1,1,1,5,1,4,3,3,2,6,2,1,1,3,5,5,2,4,2,2,3,2,1,6,6,1,1,2,4,2,1,4,4,2,2,1,4,2,5,1,5,1,5,1,2,5,4,5,3,1,3,4,3,1,4,2,5,3,6,1,3,6,5,5,1,2,1,1,4,3,2,1,3,6,2,1,3,2,2,2,2,2,1,4,1,1,3,1,1,1,4,1,2,3,2,4,4,4,1,6,3,4,6,4,4,2,6,2,3,2,4,1,1,2,1,2,2,4,2,3,1,6,2,1,4,6,1,5,2,1,4,2,4,2,4,2,2,1,1,3,5,2,3,1,2,6,1,1,1,1,3,4,2,5,2,1,1,4,3,1,3,1,1,5,2,2,3,1,4,1,3,1,2,2,1,3,4,1,3,4,4,4,1,3,6,4,3,3,3,2,4,4,4,1,3,2,2,3,1,1,5,2,6,1,6,4,1,1,1,2,2,5,4,4,3,3,1,4,5,1,2,3,2,2,1,4,5,3,4,1,4,1,1,1,1,3,3,2,3,1,5,1,5,3,2,1,2,3,1,3,2,5,6,2,4,5,2,3,1,6,5,4,2,4,3,2,5,1,2,3,2,5,1,1,1,1,1,2,2,1,1,1,2,5,3,6,3,1,3,1,4,2,1,1,3,1,1,1,3,1,2,1,1,3,1,1,2,1,2,2,4,3,5,6,1,4,2,4,1,2,3,2,4,4,3,4,1,1,4,1,5,3,1,2,1,5,1,3,1,3,2,3,1,3,1,3,1,1,3,2,2,1,1,1,2,1,4,3,1,3,6,2,5,2,4,1,5,3,5,3,1,2,1,3,2,4,2,4,3,1,1,1,2,3,4,1,1,1,1,4,4,2,1,3,5,4,2,1,2,3,4,1,1,5,5,1,1,2,1,1,5,4,1,2,4,3,4,4,2,2,1,2,1,1,4,1,3,1,2,4,1,1,1,1,1,4,4,5,3,3,1,1,4,3,5,1,2,2,1,1,4,4,4,4,5,2,4,1,1,5,1,3,1,4,1,4,1,3,1,3,6,4,2,1,2,2,6,1,3,1,1,3,1,5,3,3,1,2,3,2,3,3,3,5,4,6,5,4,5,4,2,2,3,2,1,3,4,4,1,1,3,2,4,1,2,2,1,5,1,5,4,2,3,1,1,2,2,2,3,1,1,5,1,3,1,3,2,1,3,1,5,1,2,2,4,2,4,1,1,2,4,2,3,1,2,1,4,2,1,1,2,1,1,6,5,5,4,4,3,4,3,3,3,1,2,3,3,1,1,1,2,2,3,3,5,4,4,3,1,2,1,6,4,5,2,1,2,5,2,5,5,3,1,4,3,1,3,6,1,1,1,3,4,2,4,2,4,1,1,5,6,2,3,3,2,1,6,1,2,5,5,3,3,4,6,1,5,6,3,4,1,1,1,1,6,2,4,2,1,1,2,4,4,1,4,4,1,2,1,2,1,1,3,4,5,2,4,3,5,1,2,2,2,3,1,5,2,5,4,2,5,1,1,3,5,2,1,4,3,1,3,2,2,2,3,1,5,2,3,3,6,3,1,1,4,4,2,1,2,4,2,2,3,4,6,4,5,1,2,1,2,2,3,4,2,2,2,4,2,2,3,2,4,5,5,2,1,1,1,5,2,1,1,2,1,3,3,6,1,1,1,1,5,5,2,3,4,1,1,1,2,5,3,3,4,3,1,4,4,4,3,2,1,1,1,3,1,4,3,3,6,6,4,1,2,3,4,5,1,2,2,1,1,3,1,1,4,1,5,3,3,2,2,2,2,5,1,3,3,2,1,2,3,1,3,1,1,2,1,6,1,1,2,4,1,2,5,2,4,2,1,5,2,6,4,3,1,2,1,1,2,4,6,4,1,2,6,3,2,4,1,6,5,2,4,2,2,2,3,1,5,1,6,1,2,5,4,3,1,3,5,2,5,5,1,3,1,3,1,3,3,5,5,1,4,1,2,2,2,1,2,1,6,1,1,1,1,3,4,3,2,5,2,4,1,2,2,1,2,1,4,2,2,6,3,1,1,1,3,2,2,1,2,2,3,4,6,6,5,6,1,3,2,3,1,5,5,1,3,6,3,1,1,4,5,1,1,6,2,6,1,3,3,1,2,2,1,4,3,3,6,3,3,2,1,1,1,3,1,2,3,1,1,6,1,2,1,5,6,2,3,2,4,6,1,1,3,3,4,1,3,3,6,1,2,3,3,1,1,3,5,4,3,3,3,6,1,1,5,3,5,3,1,4,4,3,2,2,2,2,3,2,5,6,4,4,3,4,2,4,6,6,1,3,2,1,1,5,5,2,2,3,4,1,1,1,2,2,3,3,6,2,2,1,4,4,2,6,2,2,1,3,1,6,1,1,6,1,2,1,6,2,2,1,2,6,2,2,1,1,1,2,2,1,2,2,2,2,3,2,4,1,1,3,6,1,3,2,3,1,2,4,1,5,1,2,3,3,2,4,2,1,4,2,1,4,5,4,3,2,1,3,3,4,3,4,2,1,1,1,2,1,2,2,3,5,1,3,5,3,1,2,3,6,2,2,6,1,3,2,2,1,2,6,2,2,1,2,6,3,2,5,2,2,5,5,1,1,4,3,2,2,1,4,2,1,1,1,4,5,6,1,3,5,4,4,1,2,1,2,3,2,4,5,2,3,4,1,3,2,4,4,3,3,2,4,4,3,5,2,2,1,6,1,2,5,6,1,3,3,1,1,2,4,1,3,4,1,2,2,1,4,1,4,5,2,2,2,5,2,4,2,6,2,6,1,6,1,4,1,2,4,4,3,2,1,4,4,3,1,3,4,2,3,3,2,4,2,6,5,3,2,1,2,1,3,2,2,4,3,3,2,1,2,4,1,1,4,3,3,1,4,5,4,3,1,5,4,3,1,1,3,1,5,1,1,2,6,3,6,5,5,1,4,4,1,3,1,3,1,2,1,1,4,1,2,1,3,4,2,2,5,2,3,2,2,1,1,1,3,3,1,2,5,1,3,1,4,1,1,4,2,2,2,1,1,1,5,2,1,1,1,2,1,2,3,3,6,2,1,3,1,1,3,1,1,5,4,3,1,1,3,6,1,2,1,1,1,2,1,6,2,4,1,3,3,5,3,2,4,2,2,3,3,2,2,3,2,2,2,5,1,3,1,3,5,6,4,6,6,1,1,3,2,1,2,1,3,2,1,6,5,1,1,2,5,1,2,4,3,6,5,4,2,1,2,1,2,3,2,1,2,6,1,1,1,1,2,3],\"z\":[24.076027397260273,47.65135593220339,47.38679389312977,25.755224489795918,20.63612403100775,24.0,15.448235294117646,15.354545454545455,21.33698795180723,29.96761904761905,24.962307692307693,22.513030303030305,26.91176470588235,18.30420091324201,21.306,26.200096153846154,21.21045977011494,21.676666666666666,27.8066,17.1825,4.72752688172043,24.728125000000002,47.12888888888889,19.126190476190477,19.24305882352941,18.790677966101697,32.52666666666667,22.183376623376624,27.51,20.112786885245903,19.95,19.664117647058823,20.70310344827586,17.93422222222222,20.604102564102565,21.58888888888889,26.638709677419353,38.66391752577319,23.30909090909091,46.845555555555556,16.122799999999998,31.813125,29.66173469387755,14.338333333333333,28.440113636363638,33.35,17.584385964912283,20.429545454545455,21.294712041884818,25.524067796610172,19.571363636363635,16.443953488372095,27.409555555555556,25.44832,24.931578947368422,23.62514285714286,19.186935483870965,16.202168674698793,15.79127659574468,23.52125748502994,20.093888888888888,44.065799999999996,18.91638888888889,17.006451612903227,21.309285714285714,13.199183673469387,23.612000000000002,17.70769230769231,13.160500000000003,17.55217391304348,25.332448979591835,5.851176470588236,4.263870967741935,17.494,8.894623655913978,16.58782258064516,19.461176470588235,17.330657894736845,16.06,18.54450704225352,19.37277777777778,21.01608695652174,25.186060606060607,7.365882352941177,21.864375000000003,17.28857142857143,21.069117647058825,48.282873563218395,17.33095238095238,20.396886446886448,18.868846153846153,19.61578947368421,20.0078,16.833333333333332,16.92684210526316,21.891,5.038319327731092,24.54181818181818,20.323904761904764,18.507894736842104,15.28264705882353,17.006999999999998,14.952613636363635,4.291780821917809,24.51324561403509,15.18689655172414,13.180666666666667,17.903636363636366,36.0,21.49,18.47657142857143,24.311111111111114,19.909523809523808,22.898888888888887,18.50106796116505,12.76,15.88625,15.63871287128713,18.78083333333333,19.80698113207547,18.35876923076923,37.054736842105264,21.858692810457516,21.820857142857143,22.290625,8.609268292682927,16.11909090909091,14.558804347826088,16.87184210526316,19.181951219512197,19.8575,20.661290322580644,21.425544554455445,16.724554455445546,17.222820512820515,22.16188679245283,18.59,21.558723404255318,15.416451612903227,24.31753424657534,29.932666666666666,20.113225806451613,15.722,15.841578947368422,32.152142857142856,34.961276595744685,19.056944444444444,18.336000000000002,18.853846153846153,18.791818181818183,23.64689440993789,32.56576086956522,14.536190476190475,23.742168674698792,29.586444444444446,23.187916666666666,16.592499999999998,18.236178343949042,28.501812865497072,17.327916666666667,32.36875,21.946410256410257,23.504594594594593,21.55925925925926,23.355853658536585,18.432798507462685,15.051132075471699,18.25,13.502380952380953,14.922337662337663,22.330263157894734,18.18092664092664,17.168,15.267971014492753,12.539473684210526,16.53717948717949,16.497701863354038,18.82320754716981,10.508260869565218,19.460566037735852,18.18108695652174,17.423461538461538,26.658947368421053,15.837037037037037,4.123129770992366,20.55718592964824,18.392,28.019999999999996,28.779278350515465,16.12042105263158,27.51478260869565,27.448888888888888,16.226727272727274,21.00060606060606,16.4446,33.0696,22.630291262135923,26.49892857142857,9.347719298245613,23.183,22.9625,19.12022222222222,30.74857142857143,17.273214285714285,15.309333333333335,19.731034482758623,15.97186440677966,20.62782608695652,15.8848,17.206000000000003,18.19125,14.186296296296295,15.002068965517243,5.599583333333333,24.13070796460177,32.9114705882353,6.268461538461539,10.043333333333333,21.047708333333333,2.8044680851063832,25.09102564102564,12.075688073394495,6.98,16.507684210526318,34.60363636363636,26.09435294117647,16.749285714285715,44.15,16.552394366197184,16.809756097560978,4.768607594936708,5.695161290322581,16.945454545454545,6.986760563380281,46.34619047619047,23.941428571428574,49.6726,28.59174757281553,26.7038,6.028888888888889,6.172142857142857,31.123333333333335,15.423333333333332,24.555952380952384,16.632,5.7314150943396225,17.15967741935484,12.535583333333333,12.682222222222222,9.371770833333334,9.651428571428571,20.150333333333332,16.535979381443298,16.89,17.566962025316457,19.40294117647059,16.649375,7.1278703703703705,16.018,27.189999999999998,3.1431782945736435,18.610999999999997,24.375,16.30763157894737,19.95357142857143,31.5,16.25032258064516,15.361481481481482,15.97409836065574,20.794745762711866,17.253225806451614,24.84166666666667,20.3925,19.08365714285714,16.806170212765956,17.2475,24.384,14.695999999999998,8.178695652173912,14.227887323943662,17.372162162162162,34.1437037037037,18.355625,32.445,15.743953488372092,16.96,17.980285714285714,13.477111111111112,46.90571428571429,15.979078947368421,33.925000000000004,24.861,16.258676470588235,9.808333333333334,7.697333333333334,41.80045454545455,6.558738738738739,36.68333333333334,16.875,16.467619047619046,19.1132,12.399999999999999,30.4925,26.407241379310346,16.734893617021275,19.12316666666667,15.162151898734177,16.77072727272727,16.920405405405404,17.278000000000002,32.0,24.393181818181816,18.301836734693875,20.53236220472441,15.276031746031746,9.388222222222224,17.694444444444443,13.351739130434781,13.465294117647058,19.48906976744186,32.41466666666667,11.432470588235294,20.014022988505747,15.203291139240505,11.911249999999999,22.95,21.370759493670885,24.32095238095238,12.174307692307693,10.314206349206348,3.6270000000000002,10.182826086956522,8.224418604651163,9.361160409556314,7.186417910447761,16.61470588235294,11.016363636363637,19.947974683544306,8.988965517241379,14.475238095238096,4.4832,20.233333333333334,16.343454545454545,15.049734513274338,18.915,15.253684210526316,31.282500000000002,8.227364864864866,16.067272727272726,19.916727272727275,5.580354609929079,16.895333333333333,12.527999999999999,39.01380952380953,19.9625,14.072558139534884,20.69027777777778,22.604193548387098,9.905223880597015,20.800000000000004,4.508888888888889,26.90625,14.422941176470587,20.0448,17.91076923076923,30.93086956521739,30.73153846153846,18.689722222222223,3.4960493827160493,23.251777777777775,2.430919540229885,18.437333333333335,8.68625,19.69766666666667,32.3,11.798478260869565,15.305555555555555,9.737317073170733,30.59837837837838,13.379999999999999,14.487272727272726,18.67548387096774,35.421186440677964,7.630740740740741,15.0,25.657592592592593,13.614859813084111,15.722638888888888,23.02192307692308,19.939999999999998,12.515161290322581,18.336129032258064,32.038,14.592380952380953,7.9792000000000005,37.516666666666666,46.411764705882355,21.526981132075473,16.70952380952381,13.216301886792454,15.590588235294117,21.6525,42.67,16.697142857142858,15.4575,24.478,23.37125,16.5825,14.579019607843136,21.084375,18.291428571428572,19.11130434782609,18.618915662650604,16.541666666666668,13.495999999999999,17.385703125,16.46260869565217,20.963607594936708,21.044594594594592,19.240754716981133,5.902680412371134,21.15877906976744,19.345714285714287,15.646274509803922,41.8523076923077,31.65093023255814,40.635000000000005,15.92897435897436,25.0,22.953636363636363,21.201888888888888,35.82357142857143,11.863888888888889,37.5,22.886785714285715,13.81625,17.977549019607842,20.67952755905512,20.823205128205128,20.089655172413792,2.8419718309859157,15.02686567164179,13.866326530612247,27.589130434782607,16.4075,22.818461538461538,19.137966101694918,18.22005154639175,15.362105263157895,28.784788732394365,6.693441108545034,23.007391304347824,28.043174603174602,10.790588235294118,16.45560975609756,10.937857142857144,16.5,9.84976377952756,20.125714285714285,18.41240506329114,16.55559633027523,14.034,16.2668115942029,16.923529411764704,32.10857142857143,25.3968,42.60145833333333,18.66657142857143,27.59785714285714,17.950307692307693,16.22222222222222,12.755882352941176,13.451363636363636,20.435488372093022,15.303456790123455,15.578782608695652,20.509999999999998,38.050000000000004,15.103728813559322,31.5775,15.09517730496454,17.42111111111111,15.34375,38.97150537634408,2.5639473684210525,25.160000000000004,23.051627906976744,25.191851851851855,20.517333333333333,3.1865151515151515,17.063243243243242,3.539230769230769,6.4029896907216495,5.51349593495935,30.362074074074076,17.178235294117645,3.517869822485207,5.3568750000000005,21.943048780487803,15.867959183673468,21.29222222222222,6.321578947368421,5.0700591715976335,4.286329113924051,11.61,15.914565217391303,20.33253012048193,20.30608695652174,18.07857142857143,22.780689655172413,19.26086206896552,15.497499999999999,15.841574803149607,15.268076923076924,4.548698630136986,4.572571428571428,7.003232323232324,18.647391304347824,6.086666666666667,6.91875,6.964020618556701,16.033333333333335,8.130564102564103,12.367727272727272,11.255263157894737,9.33,17.80945652173913,14.613310344827585,8.319139784946238,17.274677419354838,15.065396825396826,8.124242424242423,15.33,25.833499999999997,18.551428571428573,17.974383561643837,21.12974358974359,19.128541666666667,15.700000000000001,17.38222222222222,16.30921686746988,16.66017857142857,23.88375,24.43675925925926,16.947307692307692,7.054166666666667,24.283333333333335,13.988,6.457333333333334,19.170721649484534,14.523333333333333,19.13888888888889,28.081509433962264,12.608333333333333,25.423571428571428,22.56,14.166764705882352,17.361333333333334,18.60232558139535,18.719285714285714,27.945999999999998,25.70619047619047,16.674,16.12920634920635,17.50232558139535,14.904848484848486,14.787384615384616,3.8410526315789473,19.65970588235294,17.15111111111111,33.86607142857143,15.671733333333334,26.376400000000004,5.03140350877193,15.295000000000002,7.340193236714976,22.138235294117646,6.489190751445087,15.681818181818182,19.855555555555554,6.315964912280702,8.043008849557522,9.969032258064518,7.751111111111111,15.042307692307693,17.663076923076922,14.121739130434783,25.637999999999998,22.995526315789476,42.828857142857146,14.972222222222221,19.809565217391306,27.703859649122805,22.882727272727273,20.416785714285716,15.957500000000001,6.583333333333333,23.941499999999998,36.93347826086956,4.4543478260869565,13.966000000000001,30.534027777777776,17.4,15.174000000000001,4.089818181818182,18.081,34.775555555555556,15.728363636363637,15.227227722772279,17.155698924731183,32.73407407407407,47.39739130434783,19.651818181818182,16.39342105263158,16.718666666666667,20.810000000000002,16.7515,10.143585526315789,16.93913043478261,17.180673076923078,17.52857142857143,39.08,36.330571428571425,18.325076923076924,18.834366197183098,13.349152542372881,15.2225,15.273589743589742,27.793333333333337,23.443333333333335,20.911851851851853,21.975169491525424,18.303529411764707,20.448421052631577,19.242953020134227,12.793846153846154,19.42254098360656,18.983333333333334,15.113333333333335,40.428000000000004,13.743214285714286,17.5565,15.716666666666669,16.54268292682927,20.35,16.61857142857143,17.206296296296298,19.843529411764706,21.336724137931036,26.469130434782613,10.237142857142857,12.634444444444444,17.12530612244898,18.119999999999997,15.170750000000002,21.28742857142857,17.5968,6.933809523809524,6.600444444444444,19.185,15.413636363636364,12.683333333333334,14.77107142857143,7.480972644376901,13.119333333333335,16.108703703703704,18.19454545454545,16.863153153153153,24.650769230769228,17.726324786324785,30.88,10.400975609756097,15.36,15.36581081081081,16.205697674418605,11.270851063829788,34.22285714285714,32.073,13.91235294117647,12.953333333333333,45.867000000000004,21.539545454545454,16.48205128205128,18.840967741935486,20.48125,17.47,31.177333333333333,7.545232558139535,21.636666666666667,16.960652173913044,25.366666666666664,3.1379611650485435,40.894062500000004,11.670962343096235,13.821481481481483,4.024285714285715,15.409999999999998,17.329090909090908,7.2057692307692305,11.618461538461538,21.913023255813954,2.6970454545454547,11.89095238095238,16.144153846153845,31.258333333333336,11.399999999999999,2.8157352941176472,12.211538461538462,4.3386000000000005,7.016666666666667,7.678000000000001,19.066896551724135,17.585588235294118,16.022222222222222,19.204722222222223,17.485220125786164,16.38933734939759,47.07533333333334,16.129772727272726,13.858695652173912,21.61269230769231,21.63,20.99739130434783,15.993076923076924,14.167424242424241,22.87825,16.54285714285714,19.957142857142856,25.33230769230769,12.67938775510204,9.236739130434783,12.381951219512196,47.036730769230765,11.251800000000001,6.272241379310345,15.546206896551723,5.171538461538462,21.626174496644296,13.401463414634147,4.46859872611465,18.870416666666667,31.605538461538462,20.318809523809524,17.984615384615385,3.861794871794872,19.445833333333333,15.174000000000001,23.83252873563218,18.684705882352944,14.990746268656716,16.57148148148148,31.17457627118644,14.123333333333335,12.848571428571429,16.518833333333333,8.93566371681416,33.55742424242424,38.68,17.80930434782609,41.792,5.130068027210885,39.80835443037975,32.724000000000004,21.19857142857143,19.654133333333334,17.153603603603603,36.91923076923077,29.242641509433966,22.37403846153846,17.10258064516129,13.271515151515151,19.309310344827587,17.4959375,18.864864864864863,18.6015625,16.53125,19.625555555555554,19.388510638297873,22.917326732673267,17.15672131147541,33.24,21.053709677419352,14.4,17.70438095238095,16.642888888888887,18.524022988505745,15.0,24.565643564356435,21.190833333333334,12.445121951219512,16.807222222222222,16.523571428571426,33.6084,27.68,7.581,17.943444444444445,31.836190476190477,18.16333333333333,17.026333333333334,4.306451612903226,18.18,21.24939393939394,5.628,16.58509090909091,18.102820512820514,4.094594594594595,7.567391304347827,3.619285714285714,4.88484126984127,21.14728813559322,14.436428571428573,12.428776978417266,23.188000000000002,6.684794520547945,14.4932,19.59375,29.557945205479452,38.137962962962966,17.90767441860465,35.01571428571429,15.622983870967742,5.206881188118811,13.362758620689654,30.115185185185187,19.205585585585588,21.37294117647059,8.934744525547444,5.964190981432361,9.895555555555555,42.8669090909091,33.58607843137255,15.270967741935484,3.6474729241877255,16.617571428571427,18.767500000000002,3.5431999999999997,6.132380952380952,4.3175,27.14625,6.699550561797753,10.725348837209303,33.47714285714286,18.884827586206896,22.04404761904762,21.465384615384615,14.765036496350364,22.994285714285716,3.539130434782609,8.324857142857143,23.136521739130433,19.860333333333337,19.937142857142856,20.633333333333333,10.141554404145078,4.254947368421053,21.605243902439025,6.2921495327102805,6.6462711864406785,14.398736842105265,4.873636363636364,19.33544117647059,37.965833333333336,14.35072463768116,21.192755102040817,18.358333333333334,10.898125,20.090833333333332,20.234444444444442,2.7164788732394367,13.437136150234743,8.70378048780488,35.556,20.43421052631579,16.79625,13.417746478873239,18.056756756756755,6.48345088161209,16.114255319148935,18.622999999999998,7.604159292035398,11.229014778325125,16.449473684210528,49.27375,15.6631884057971,24.40251968503937,46.374545454545455,18.949166666666667,6.989512195121952,7.02625,8.152941176470588,19.018333333333334,3.2680794701986757,5.415517241379311,7.501193181818182,3.5312658227848104,4.087086092715231,6.987115384615384,17.06470588235294,18.430638297872342,4.4394,30.565714285714286,34.59,19.438695652173916,6.666917293233083,17.373076923076923,22.87926229508197,27.998333333333335,6.3684,24.56048780487805,21.780357142857145,27.725,17.351686046511627,20.070285714285717,15.78,48.06,31.95230769230769,7.5408064516129025,6.4727722772277225,3.937241379310345,39.43326530612245,6.7319047619047625,8.522413793103448,9.524666666666667,26.9875,4.722101910828026,6.492244897959184,20.39666666666667,13.946428571428571,23.464864864864865,6.148041237113402,3.080794871794872,41.892,7.3968750000000005,29.779295774647885,8.699264705882353,6.0863499999999995,19.599107142857143,14.462272727272728,40.2275,4.4079411764705885,36.6828,16.019,12.21661971830986,6.029607843137255,6.731234042553191,17.94081081081081,4.333436293436294,13.948510638297874,8.444888888888888,23.73457627118644,17.684927536231886,15.907303370786517,18.771666666666665,15.562195121951218,19.446315789473687,22.13157894736842,20.90225352112676,15.940882352941177,23.263636363636365,46.38333333333333,6.515641025641026,18.321259259259257,38.52,15.473333333333333,16.865,20.881714285714285,16.58074074074074,19.332666666666668,25.8,22.648,32.94,16.19695652173913,3.1,16.356428571428573,14.478333333333333,12.13076923076923,3.3217543859649123,29.439166666666665,11.878260869565217,17.580909090909092,14.68867924528302,13.704166666666666,20.928461538461537,17.492758620689656,38.88655172413793,16.60833333333333,4.843076923076923,25.676119402985073,17.075,15.273148148148149,23.88231884057971,19.480620689655172,24.537,18.2625,19.83699300699301,32.2825,19.854307692307692,19.552,23.340344827586208,15.483636363636363,20.965,17.525,24.25090909090909,13.05,10.306428571428572,5.390107526881721,31.17702127659575,15.012826086956522,15.023529411764706,14.369622641509434,16.956849315068496,28.51086956521739,24.84327272727273,11.645045871559633,16.633000000000003,7.986657142857142,14.86144927536232,30.866666666666667,14.478333333333333,32.14259259259259,14.108390804597702,25.623333333333335,16.48025974025974,35.781111111111116,16.872692307692308,17.025000000000002,20.35272727272727,18.605984251968504,30.675121951219513,21.734942528735633,47.70235294117647,33.63333333333333,20.77285714285714,17.491587301587302,19.53684210526316,15.5845,5.2901851851851855,3.8292207792207793,11.798292682926828,11.786779661016949,8.195185185185185,7.6684375,7.359135802469136,5.08388888888889,3.988918918918919,46.825294117647054,7.083741935483871,6.376111111111111,41.0765625,5.290588235294117,25.44909090909091,8.97836448598131,5.188974358974359,3.866333333333334,21.007692307692306,6.37038961038961,14.276173913043479,3.639242424242424,6.996833333333334,15.447,3.3200000000000003,7.808181818181819,6.279,16.006774193548388,7.044545454545454,5.402388059701492,7.688524590163935,30.461428571428566,13.065208333333333,5.93809090909091,9.36037037037037,3.609747899159664,5.48592,4.053191489361702,22.86434210526316,9.741971830985916,10.057246376811595,2.6500000000000004,2.5586956521739133,17.330877192982456,20.37503225806452,21.275952380952383,21.277560975609756,5.320769230769231,37.77192307692308,19.322407407407407,17.943170731707315,28.63074074074074,15.296969696969697,20.352105263157895,16.69544827586207,16.023666666666667,42.565000000000005,29.161702127659574,19.944545454545455,9.923200000000001,17.84695652173913,39.69125,20.096,14.2252,21.670833333333334,28.46,18.660476190476192,36.179690721649486,16.195714285714285,30.06111111111111,19.64278481012658,17.086666666666666,16.34714285714286,19.924146341463413,20.748207547169812,12.279333333333334,25.408125,14.42156862745098,18.806346153846157,33.87655172413793,18.92205882352941,19.182307692307692,17.83179104477612,15.0645,22.643478260869568,14.965909090909092,3.581408450704225,17.481636363636365,15.48856,10.49896551724138,8.164158415841584,21.312,14.764090909090909,9.745217391304347,23.73064516129032,43.092499999999994,6.487096774193549,14.791428571428572,21.653157894736843,20.47686274509804,26.28,33.737812500000004,19.363999999999997,17.92086956521739,12.871830985915492,17.655135135135136,46.699999999999996,20.717142857142857,17.20019230769231,20.998285714285714,48.3,15.204786324786324,21.024137931034485,27.09368,19.743870967741934,14.265858585858584,21.4398,15.930408163265307,21.879102564102563,14.394545454545455,18.57558823529412,28.267865168539327,16.83590909090909,17.32452830188679,16.686666666666667,18.95425531914894,13.41157894736842,13.042499999999999,17.11913043478261,11.45936507936508,15.246170212765959,15.003414634146342,2.6251020408163264,21.325,24.3345,26.210454545454546,16.20310344827586,18.932268041237116,16.46,17.73,20.247413793103448,17.108333333333334,19.677659574468084,15.41891891891892,9.473333333333333,7.420277777777778,28.92957894736842,16.18285714285714,3.3695833333333334,20.875,18.41578947368421,4.863428571428571,6.675232558139536,16.920416666666664,17.357142857142858,21.69,19.677,17.56,19.789285714285715,32.917692307692306,31.489310344827587,13.69340909090909,19.764105263157894,10.530689655172413,46.951666666666675,19.7208940397351,26.406666666666666,18.280119047619046,19.32166666666667,25.68870588235294,20.584285714285716,18.43191780821918,16.3154,9.636037735849058,7.072567567567567,13.764591836734695,19.86923076923077,20.75166666666667,18.17142857142857,16.9825,17.93132075471698,21.75,5.105709090909091,4.899109589041096,15.63,4.845731707317073,17.119,18.936,5.147931034482759,3.6692439862542954,6.263199999999999,6.188387096774194,6.594439252336449,16.242,14.328,9.437142857142858,23.09142857142857,21.327272727272728,18.02,5.868947368421052,10.093846153846155,19.479583333333334,22.43958333333333,6.225753424657534,4.888947368421053,15.658965517241377,31.816363636363636,20.122222222222224,19.200053475935828,30.17058823529412,45.660000000000004,22.6856,20.130454545454548,18.841714285714282,6.7592041522491355,10.49655737704918,16.640588235294118,4.063846153846153,37.22639175257732,6.03776397515528,5.699556962025317,4.162,19.083333333333332,7.106964285714286,41.20100000000001,4.7075000000000005,37.11,13.993551401869158,9.00634703196347,6.23398406374502,9.729759036144578,13.133170731707319,14.22,2.9355172413793107,3.612125,14.749649122807018,9.43655737704918,15.036551724137931,7.798727272727273,9.024838709677418,24.679473684210528,29.651481481481483,12.393274336283186,21.645,26.572857142857142,14.307358490566036,44.377741935483876,11.411052631578949,6.094742268041236,21.427209302325583,6.825,15.52068181818182,5.908688524590164,16.190833333333334,39.96,17.201747572815535,18.267402597402597,14.753181818181817,17.19142857142857,14.648846153846154,24.240000000000002,12.728823529411764,17.88402985074627,18.228,18.743333333333336,32.525,17.263355555555556,15.5318,17.297941176470587,23.9728125,13.791836734693877,19.772499999999997,16.236666666666668,28.9904,14.890666666666668,17.0128,15.858823529411765,11.769423076923077,20.196875,16.082857142857144,43.93,15.925531914893616,30.0,27.85909090909091,15.348888888888887,22.731176470588235,23.178461538461537,20.737575757575758,19.755289855072466,21.46140350877193,15.413809523809524,17.00871287128713,19.916060606060608,29.391666666666666,7.102545454545455,17.09846153846154,26.90867924528302,19.375,28.233333333333334,12.618947368421052,15.92,17.202777777777776,6.647826086956521,19.603589743589744,19.28290909090909,4.473073170731707,20.233207547169815,9.706764705882353,9.411196581196583,4.677578125,5.611904761904762,33.00313432835821,12.9765625,16.01257142857143,17.20888888888889,9.022790697674418,11.6,17.654677419354837,7.031428571428571,10.518222222222223,7.218000000000001,16.3775,16.7677304964539,2.764450261780105,15.876,22.805555555555557,15.777027027027026,17.818360655737706,18.222055555555553,28.64181818181818,23.03074074074074,10.832,13.423333333333334,17.273,17.592857142857145,28.059879518072293,18.492481203007518,4.6663,6.4338235294117645,21.502533333333336,9.021836734693878,5.956324786324786,16.62421875,25.309032258064516,18.83125,14.736285714285714,15.640224719101123,16.681353383458646,43.930243902439024,27.018472222222222,42.86938775510204,15.491463414634147,9.209032258064516,26.832424242424242,24.328088235294118,12.473333333333333,14.76923076923077,12.04,8.271933085501859,19.0818,13.737,16.3325,16.911129032258064,13.168888888888889,26.043829787234042,11.885454545454543,17.694090909090907,2.525591397849462,3.6933333333333334,8.903,21.214285714285715,7.59345744680851,5.665850340136054,3.8244444444444445,22.37825,4.927674418604651,4.749189189189189,2.928240740740741,3.8915079365079364,8.091428571428573,21.075000000000003,15.090833333333334,14.025833333333333,16.474166666666665,7.176170212765957,3.168738738738739,5.489333333333334,3.905840707964602,4.308934426229508,20.315714285714286,14.965675675675676,20.764285714285712,22.476666666666667,24.102857142857143,15.920666666666667,19.19578947368421,17.986701030927836,17.273658536585366,9.30845238095238,10.211666666666666,14.907142857142857,16.812857142857144,7.287117117117117,4.971,33.305,15.45875,16.226615384615386,22.42408163265306,13.081428571428571,30.876216216216218,12.008571428571429,6.03,15.232884615384616,13.996666666666664,12.9459375,8.130551181102362,6.111547619047618,26.556990291262135,2.8791542288557217,4.445695538057743,14.508484848484848,11.855,15.05627659574468,4.687173913043479,3.892541436464088,6.62125,14.60357142857143,18.500217391304346,7.126831683168317,3.9846031746031745,15.702142857142857,7.3778125,5.590816326530612,13.798545454545454,18.145384615384618,20.20846153846154,16.821,19.845897435897434,16.15301204819277,3.5946822742474915,10.648823529411764,17.999404761904763,9.859848484848484,8.163820224719101,18.0253125,15.059801980198019,25.82272727272727,15.535238095238096,21.716,12.553452914798207,42.50387096774193,5.877305389221557,28.753589743589746,16.036470588235293,17.0,17.114761904761906,18.766666666666666,16.982894736842105,32.31824561403509,29.784166666666668,10.650357142857143,18.063333333333333,17.552083333333332,3.8624269005847953,12.233749999999999,26.46,43.638000000000005,4.189509803921569,18.01105263157895,19.23625,16.40625,21.126067415730336,44.95564102564102,17.659714285714287,19.172432432432434,20.497096774193547,20.71942857142857,20.68,20.725982905982907,17.045454545454547,15.584444444444443,17.547179487179488,20.496966292134832,36.482777777777784,24.19058823529412,21.44670588235294,15.0804,24.400000000000002,16.524782608695652,16.884761904761906,43.89347826086957,17.889482758620687,22.13,19.62090909090909,27.776363636363637,22.58066666666667,25.750888888888888,17.07774193548387,14.654626865671641,19.58909090909091,35.84666666666667,26.71206666666667,6.21436046511628,16.78801801801802,16.939999999999998,7.6836,7.810618556701031,8.524761904761906,20.756842105263157,10.064545454545454,23.783478260869565,16.837560975609758,26.5,17.310714285714287,9.061684210526316,13.492708333333333,8.181492537313432,21.50212765957447,26.78054054054054,24.394545454545458,18.854565217391304,21.61,21.8,27.546666666666667,8.02156862745098,15.707333333333334,21.84857142857143,26.08797101449275,29.95008130081301,38.54451851851852,6.122184873949579,14.836666666666666,10.804923076923078,16.468,24.625217391304346,14.177169811320754,9.462710843373493,7.89009708737864,17.779411764705884,16.817088607594936,22.15555555555556,21.201818181818183,33.09030864197531,16.823095238095238,16.655675675675674,17.134375000000002,19.444202898550724,17.271052631578947,31.137500000000003,8.83108108108108,3.6809909909909915,33.013333333333335,12.051324921135647,6.4592307692307696,15.105,3.789432624113475,25.6087012987013,21.494000000000003,7.641395348837209,15.282702702702704,9.97,19.58719298245614,17.658571428571427,10.148717948717948,19.378823529411765,18.60091743119266,5.425172955974842,8.569326923076924,9.220649350649351,21.872000000000003,13.572884615384615,18.183333333333334,6.304488188976378,6.955217391304348,13.20863247863248,5.890995475113122,3.866630434782609,4.281926605504587,7.991475409836066,19.975925925925928,6.568979591836735,17.71212121212121,9.734385964912281,3.735432098765432,40.64911764705882,18.73903614457831,7.194466019417476,5.666944444444444,10.480344827586206,19.26304347826087,2.661206896551724,8.757489177489177,4.8113636363636365,4.533,8.458064516129031,18.035714285714285,4.2610638297872345,14.808450704225354,6.643368421052632,19.1742,19.22888888888889,50.14166666666667,35.925,10.838823529411764,6.04810606060606,12.91017730496454,15.883333333333333,3.563157894736842,7.793690476190475,3.658888888888889,7.526764705882353,19.069285714285716,3.45,19.61981818181818,6.145681818181818,45.333333333333336,17.346341463414635,5.646347826086957,37.45,3.6574269005847952,4.590060975609756,19.439285714285713,19.470588235294116,8.595142857142857,14.514905660377357,12.256666666666668,8.658333333333333,17.2,18.756410256410255,24.13625,7.366590909090909,16.837052631578945,21.80654411764706,36.441818181818185,17.046785714285715,5.613012048192771,30.100000000000005,5.7756603773584905,24.988285714285716,14.631891891891893,16.95,12.108,16.544615384615383,16.29,14.377058823529412,6.1523295454545455,19.153225806451612,10.15037037037037,30.862444444444442,23.924,9.159243027888445,28.81625,16.098076923076924,16.81705882352941,25.622727272727275,15.02517857142857,16.48774193548387,34.147777777777776,24.84,16.34126436781609,17.712280701754388,15.800238095238095,16.122857142857143,33.431428571428576,13.916363636363636,21.35,12.223333333333333,3.416792452830189,4.237176470588236,20.845833333333335,12.862857142857143,13.121290322580645,8.09,18.209655172413793,14.19029411764706,17.994848484848486,20.619666666666667,15.164242424242424,27.579062500000003,19.884444444444444,28.05103448275862,16.886875,16.14,18.701282051282053,6.8105,18.967763157894737,16.73144927536232,25.150199999999998,19.258333333333336,20.245,15.297894736842103,21.60083333333333,17.574782608695653,20.733448275862067,14.688062015503876,4.554322916666666,3.718125,10.907307692307693,15.335999999999999,8.646666666666667,3.2713978494623657,17.888988764044946,18.369999999999997,40.235,34.266666666666666,5.2296774193548385,20.336451612903225,32.5076923076923,18.798333333333332,8.099322033898305,4.319918699186992,24.31962962962963,38.35278481012658,15.879999999999999,19.40949494949495,6.117999999999999,13.723809523809523,7.633370786516854,3.9858555133079845,9.062317073170732,21.5625,12.437692307692307,19.374224137931034,19.906190476190474,21.969565217391306,6.567684210526315,6.5858823529411765,8.942,16.78818181818182,18.804523809523808,24.355384615384615,19.162539682539684,8.85351851851852,5.407857142857143,8.829173228346457,6.599615384615385,13.781666666666666,5.232957746478873,4.6379166666666665,15.37125,7.156610169491525,35.86666666666667,4.016148648648649,16.16,16.61956989247312,15.24,16.97888888888889,7.452884615384616,13.845833333333333,8.949833333333334,8.195268817204301,16.740149253731342,12.540000000000001,6.138859060402685,19.538214285714286,14.895,19.138846153846153,17.716923076923077,27.685000000000002,15.531818181818181,16.0625,14.170000000000002,23.5431914893617,18.085,22.89727272727273,16.119137931034484,20.066507936507936,19.483636363636364,16.12,20.101428571428574,17.1225,16.101111111111113,17.28421052631579,17.700000000000003,28.959999999999997,19.338461538461537,18.885454545454543,6.434015748031496,20.528029197080293,25.53268817204301,18.710089285714286,5.427051282051282,4.433333333333334,18.080000000000002,16.532307692307693,4.691770833333334,5.342499999999999,3.991559139784946,5.3421649484536085,3.26241935483871,3.191273885350318,10.333821138211382,11.229240506329115,38.79272727272728,6.485714285714286,6.506860465116279,6.634,21.063333333333333,6.125333333333333,10.906666666666668,4.135367647058823,8.35015625,2.8032727272727276,10.245555555555555,7.148867924528302,3.129791666666667,12.800681818181818,15.262786885245902,4.676785714285714,11.539063829787235,9.99960655737705,22.89578947368421,21.437833333333334,28.06095238095238,14.857558139534884,10.475625,20.8,19.29625,16.764285714285716,5.02029702970297,16.72642857142857,14.175161290322581,15.48595238095238,8.712439024390243,8.828974358974358,20.808988764044944,17.457272727272727,11.148800000000001,18.017142857142858,17.358172043010754,39.3772972972973,21.07913043478261,30.484285714285715,30.51488372093023,17.76772727272727,17.114038461538463,17.76,18.06,8.103194444444446,8.591635514018693,5.517894736842105,10.142857142857142,31.95,39.75222222222222,5.92945945945946,13.351818181818182,17.288636363636364,36.79071428571429,24.850666666666665,16.8976,5.109090909090909,15.528840579710145,10.686391752577318,17.01156862745098,15.42909090909091,16.93692307692308,21.519767441860466,10.342987012987013,4.808313253012048,38.34461538461539,16.34132530120482,19.030483870967743,5.9929766536964975,14.02377049180328,4.9070967741935485,8.310862068965516,10.832727272727272,33.6432,13.507142857142856,35.9525,4.585873015873016,24.738888888888887,27.034230769230767,18.44288590604027,8.4,21.355,17.313130434782607,14.306693548387097,17.894054054054056,21.294375,14.949846153846154,38.61261904761905,25.955480769230768,7.597327586206896,7.986551724137931,21.474358974358974,17.340285714285713,19.759999999999998,6.585714285714285,3.989717741935484,18.38186567164179,17.965217391304346,20.511875,21.422285714285714,21.167777777777776,13.875555555555556,15.27,14.319130434782608,12.585,24.53846153846154,18.91,15.236435643564358,15.362576419213974,17.195,15.477407407407407,21.184,22.915714285714287,6.2717600000000004,10.431304347826087,45.85356164383562,6.395833333333333,23.40736842105263,34.93137931034483,7.210625,7.62578947368421,24.054594594594594,29.544615384615383,29.177142857142858,10.486336633663367,4.5692,5.39483870967742,12.17222222222222,19.985531914893617,6.782127659574468,11.936285714285713,7.6352,18.96758620689655,8.725047619047618,16.562631578947368,28.375999999999998,30.80322580645161,5.186851851851852,4.618115942028985,6.820892857142858,4.057093023255814,9.903333333333332,2.443153153153153,3.9389189189189193,15.0,4.50827868852459,4.062739726027397,8.572972972972973,18.847631578947368,4.312799999999999,20.869999999999997,18.937752808988765,5.661443298969072,3.440227272727273,8.952115384615384,5.343854166666667,8.044117647058824,2.615918367346939,16.614,11.938363636363636,2.7667796610169493,14.375063291139242,6.895833333333333,25.179090909090906,46.021428571428565,16.446849315068494,6.637979797979797,20.132244897959183,15.851818181818182,17.651785714285715,3.802418426103647,27.040000000000003,5.0845161290322585,6.261325301204819,5.430046948356807,18.30457142857143,21.746296296296297,8.736136363636364,8.524,4.54592,16.834482758620688,13.520606060606061,4.865116279069767,11.349473684210526,8.466666666666667,4.996410256410256,32.7,3.946734693877551,22.426666666666666,5.691333333333334,9.826447368421052,7.65629213483146,17.19421052631579,10.18368932038835,8.2475,12.578170731707319,18.98,18.998536585365855,36.27428571428571,15.448666666666668,19.961000000000002,16.917692307692306,26.861923076923077,17.655116279069766,18.58767527675277,50.4,13.459487179487182,18.982857142857142,7.62,5.6140740740740736,24.03333333333333,16.656,15.042499999999999,25.616842105263157,5.861111111111111,5.921621621621621,21.463103448275863,6.941698113207548,25.025555555555556,9.018557692307692,18.61658536585366,27.4,21.261022727272728,14.423974358974359,13.883571428571429,17.64896551724138,15.312073170731706,19.716190476190476,12.987586206896552,18.42814814814815,16.01294117647059,24.610714285714288,14.709473684210527,21.585714285714285,15.424000000000001,5.2162500000000005,7.345057471264368,5.665777777777778,22.488048780487805,18.226999999999997,16.07133333333333,14.667260273972603,19.78,19.98659574468085,24.817777777777778,11.99554054054054,10.935555555555556,23.156,4.555460992907801,24.810000000000002,18.987959183673468,22.18693181818182,4.574380952380952,15.92529411764706,32.88269230769231,3.6693333333333333,9.265510204081632,6.125140845070423,5.260774907749078,18.895833333333336,15.224,8.978000000000002,35.494285714285716,5.368653846153847,9.502648221343874,7.489897959183673,18.50877358490566,19.863599999999998,4.715731707317073,12.436153846153847,9.173176043557168,35.88363636363636,3.4283928571428572,4.745836909871245,15.173703703703703,3.9420408163265304,23.542857142857144,13.884776119402984,20.36,15.971212121212123,16.869600000000002,6.602614379084968,15.15,13.546923076923077,18.92628571428571,14.278,15.630285714285716,17.80725,19.00857142857143,19.752747252747252,20.76,27.44454545454545,20.423048780487804,31.337894736842102,14.061395348837209,40.45333333333333,17.71991379310345,23.183333333333334,29.67377358490566,28.892454545454545,7.316376146788991,20.40888888888889,17.807532467532468,16.763636363636365,20.968898305084746,15.960666666666667,16.107391304347825,12.529375,21.866857142857143,17.84957746478873,24.653648648648648,14.522545454545455,16.743478260869566,18.031379310344825,23.9188,21.078608695652175,25.825,16.064393939393938,17.430363636363637,18.509104477611938,19.776857142857143,16.293720930232556,15.0976,16.824,19.371649484536082,23.674,17.076470588235296,18.703932584269666,9.110666666666667,11.503599999999999,37.514736842105265,10.880985915492957,12.914285714285715,21.243877551020407,4.552037037037037,3.469,7.932875816993464,3.408210526315789,8.028641975308643,4.23089552238806,10.149230769230769,3.9242647058823534,14.19953125,10.61,5.77576923076923,8.518518518518519,7.0309009009009005,9.178857142857142,12.698604651162789,5.261729323308271,4.879511494252873,2.150588235294118,11.747878787878788,22.95384615384615,9.24339534883721,27.1655223880597,17.33478260869565,17.700000000000003,2.547049180327869,5.800677966101695,4.592083333333334,23.254700854700857,6.11826923076923,10.312,4.764166666666667,21.35135135135135,6.165,17.027500000000003,10.7045,42.99906976744186,14.59423076923077,4.6784507042253525,6.151061946902654,2.949811320754717,8.52235294117647,11.135,8.717857142857143,6.363333333333333,5.430714285714286,5.809473684210526,5.325588235294117,24.21181818181818,9.390512820512821,7.0456896551724135,4.391466666666667,3.6416304347826083,5.776267605633803,18.91857142857143,9.240869565217391,44.62769230769231,6.282461538461539,14.795222222222222,33.535714285714285,5.027241379310345,5.279583333333333,38.75000000000001,19.63111111111111,6.791549295774648,50.42700000000001,3.6025806451612907,4.726632653061224,16.15338235294118,22.469333333333335,4.266606060606061,13.72095238095238,5.30731884057971,30.064285714285717,20.8,8.542911392405063,4.18010989010989,7.282982456140351,4.273018867924528,20.212727272727275,5.407333333333333,2.6093478260869567,12.111967213114754,4.211724137931035,7.69,3.73609756097561,5.490952380952381,25.627777777777776,2.8430303030303032,3.8061818181818183,14.569183673469388,4.288510638297873,3.685263157894737,18.8,23.578571428571426,4.6025217391304345,4.147441860465117,15.001,17.025555555555556,31.8,10.711621621621621,4.396586433260394,29.37520325203252,20.20294117647059,9.726285714285714,4.487297297297298,4.331938775510204,25.116981132075473,8.858421052631579,5.5600000000000005,19.858947368421052,6.304444444444446,5.372972972972973,13.565,4.384027777777778,5.022577030812325,16.895294117647058,5.89453125,3.863846153846154,7.545217391304347,15.134142857142859,34.0955,20.640263157894736,16.396065573770493,12.94819004524887,16.035000000000004,25.619999999999997,38.254999999999995,15.312972972972974,17.193421052631578,19.009047619047617,14.8648,5.538032786885246,13.335294117647058,16.36051282051282,20.233625,16.652083333333334,37.428648648648654,22.516666666666666,25.797631578947367,22.802037037037035,18.368082191780825,16.400103092783503,19.924111111111113,15.493697478991596,8.947560975609756,49.8,28.183661971830986,16.032941176470587,21.288222222222224,4.93978417266187,5.011666666666667,10.288281249999999,16.1675,17.387500000000003,19.562537313432838,14.287380952380953,23.02615384615385,18.528846153846153,20.056451612903224,16.27515625,23.31578947368421,25.996666666666666,16.026216216216216,17.273846153846154,18.004897959183673,16.181967213114753,28.62166666666667,17.1068085106383,11.9175,5.5135106382978725,17.216666666666665,15.440000000000001,19.887868852459015,17.424130434782608,25.5,25.74090909090909,18.54566265060241,15.992727272727272,23.990000000000002,13.7975,19.322222222222223,14.8375,26.24685714285714],\"type\":\"scatter3d\"},{\"hovertemplate\":\"color=0\\u003cbr\\u003eR=%{x}\\u003cbr\\u003eF=%{y}\\u003cbr\\u003eM=%{z}\\u003cextra\\u003e\\u003c\\u002fextra\\u003e\",\"legendgroup\":\"0\",\"marker\":{\"color\":\"#ab63fa\",\"symbol\":\"circle\"},\"mode\":\"markers\",\"name\":\"0\",\"scene\":\"scene\",\"showlegend\":true,\"x\":[332,226,254,236,309,313,333,333,206,333,325,333,170,330,239,216,333,265,178,209,333,187,333,254,306,164,289,333,164,219,188,333,332,324,283,310,249,333,268,260,256,333,211,299,254,298,233,260,176,333,333,333,172,333,333,227,313,173,333,201,256,333,333,333,333,257,333,260,333,214,278,333,333,208,199,282,169,303,236,333,284,167,304,195,289,316,333,232,305,207,333,258,297,226,286,170,183,333,310,328,219,233,178,264,314,218,333,195,333,333,333,295,313,234,271,275,213,333,214,288,201,179,297,256,333,160,260,291,283,295,333,317,333,305,333,262,222,295,223,247,234,283,225,178,285,333,177,211,333,159,290,191,333,179,222,282,199,309,279,290,278,333,333,302,333,207,214,171,277,187,274,206,258,213,200,222,254,263,255,333,304,310,333,265,282,227,204,333,237,195,265,227,331,177,328,333,333,195,274,237,278,186,227,201,171,323,173,173,209,307,204,177,324,289,293,240,268,303,291,268,239,241,222,262,184,310,309,173,240,272,333,331,277,333,327,323,166,198,181,233,190,333,269,333,211,226,319,333,205,333,316,285,201,191,333,198,239,176,330,167,309,228,235,233,220,299,183,177,247,306,198,288,306,327,288,288,333,324,333,176,261,295,165,333,333,255,242,261,288,237,195,297,319,333,261,269,199,205,333,333,205,256,241,300,333,282,163,176,184,333,247,218,235,244,264,228,264,185,183,264,240,282,296,186,179,237,333,333,317,333,207,318,240,171,333,324,333,328,226,202,212,332,177,170,268,279,275,186,303,229,197,333,331,205,209,258,281,207,333,173,302,333,191,298,333,327,267,227,206,218,284,288,192,178,223,191,263,302,256,209,230,286,240,236,169,296,333,219,271,319,285,254,302,333,188,184,333,222,333,202,289,170,333,207,283,232,274,229,333,275,170,226,179,234,267,333,275,292,269,268,220,233,192,169,181,194,288,192,221,291,295,333,297,201,194,234,278,303,330,237,218,333,267,267,191,261,261,247,186,262,333,333,333,333,282,333,176,333,247,263,333,198,247,333,256,332,261,298,320,260,170,305,190,333,173,333,333,194,223,312,296,221,305,333,333,178,333,333,180,333,276,333,333,191,191,208,292,333,311,170,211,286,193,333,333,276,235,284,286,333,333,333,305,284,333,333,183,333,193,211,177,255,276,195,185,310,239,299,199,173,184,198,277,333,206,163,213,188,179,226,265,212,333,190,318,288,194,286,223,305,165,256,333,223,234,234,304,240,267,263,205,333,171,328,229,333,333,194,276,325,208,299,333,333,220,178,248,275,171,216,333,195,200,269,212,176,194,333,333,216,261,333,298,325,187,233,267,282,331,218,291,333,195,167,242,282,333,310,321,176,286,262,270,240,205,192,233,211,333,333,284,271,179,303,274,160,258,333,192,289,257,333,225,247,211,233,192,283,288,198,333,333,218,333,191,290,160,235,333,194,179,306,180,312,333,219,269,333,291,176,286,333,324,213,324,285,235,227,220,219,171,240,199,296,186,214,195,318,183,333,318,333,299,208,193,212,312,264,333,216,204,333,270,254,307,241,208,204,257,285,267,296,244,267,199,191,333,211,333,333,263,240,333,284,324,333,319,198,333,236,333,220,316,295,282,333,304,333,185,195,214,333,249,178,206,249,219,208,333,333,166,209,216,333,321,312,298,333,233,257,206,261,209,248,211,277,310,207,267,159,179,216,288,333,333,283,181,187,310,333,255,183,207,333,297,269,261,306,311,239,223,200,248,295,197,275,256,332,330,204,333,226,333,170,230,249,263,333,302,324,178,333,201,333,325,261,260,240,221,328,241,333,185,333,275,178,169,198,214,225,333,180,213,283,270,333,311,242,183,283,302,330,333,333,212,302,199,291,255,219,333,227,333,264,240,274,258,235,261,239,333,191,298,333,241,160,299,163,249,285,333,163,258,282,274,190,207,209,191,333,254,333,262,200,285,180,220,276,181,303,201,320,325,240,207,333,326,333,333,164,226,207,192,195,333,326,234,333,184,247,194,181,212,269,333,332,181,255,220,271,193,164,333,333,188,233,263,333,333,187,167,207,258,247,303,333,257,278,333,177,174,333,225,333,310,195,279,207,333,239,333,296,333,333,276,312,333,236,171,265,317,323,199,198,333,249,271,214,283,187,221,179,333,258,233,285,239,214,240,332,194,162,333,299,202],\"y\":[1,1,1,1,1,2,1,2,5,2,1,1,1,2,3,1,1,1,2,2,1,2,1,1,1,2,1,1,1,2,1,1,2,1,1,1,1,1,1,2,2,1,5,1,1,1,2,1,1,1,1,1,3,1,1,1,1,2,1,1,1,1,2,1,1,3,1,1,1,1,1,2,1,1,1,3,2,1,1,2,1,1,1,1,4,1,1,2,1,6,2,2,1,2,1,2,1,1,1,1,1,1,1,1,1,3,1,2,1,1,1,1,1,1,1,1,1,1,1,1,1,2,8,1,1,1,1,1,1,2,1,1,1,1,1,2,2,1,1,1,1,1,1,2,1,1,1,2,1,1,1,1,1,1,1,1,1,1,1,1,2,1,1,1,1,1,1,2,1,2,1,1,1,4,2,2,1,1,1,1,2,1,2,1,1,2,3,1,1,1,1,1,1,1,1,1,1,1,1,1,2,2,2,1,1,2,2,1,1,1,1,1,1,2,1,2,1,5,1,2,1,2,1,1,1,1,1,2,1,1,1,1,1,1,1,3,2,1,1,2,3,1,1,1,2,1,1,1,3,1,1,1,1,1,1,3,2,2,4,1,1,1,1,1,2,1,4,3,1,1,2,1,1,1,1,1,1,2,1,2,1,2,1,1,1,1,1,2,1,3,2,1,4,1,1,2,1,3,1,1,1,2,2,1,1,2,1,2,3,1,1,1,1,1,1,2,1,1,2,1,1,1,1,1,4,1,1,1,1,1,1,1,1,1,1,1,1,1,2,3,1,1,1,3,3,1,2,2,1,1,2,2,1,2,2,4,1,1,1,1,2,1,4,1,1,1,1,2,1,2,1,1,2,2,1,2,3,2,2,2,1,1,2,1,1,1,1,3,1,1,1,2,3,1,1,3,2,2,1,3,1,1,1,3,1,1,1,1,1,1,2,2,2,2,1,1,1,1,1,1,2,1,2,1,1,1,1,1,1,1,1,1,2,1,1,4,1,1,1,2,2,6,1,1,1,1,2,1,2,1,1,1,1,1,1,1,2,1,1,1,2,1,2,2,1,1,2,1,1,2,1,1,2,1,2,1,1,1,1,1,1,1,1,1,4,3,1,1,2,1,2,1,1,7,2,1,1,1,1,2,1,1,1,1,2,2,2,1,1,1,1,1,3,1,1,1,4,1,1,6,2,1,1,4,1,1,1,1,4,3,1,1,3,1,1,1,3,4,3,2,1,5,2,2,1,2,2,1,1,1,2,1,1,2,1,2,1,3,1,4,3,1,1,4,2,1,1,1,1,1,2,2,1,5,4,2,1,2,1,2,1,1,2,1,2,4,1,1,1,1,2,1,1,1,2,1,3,1,1,3,3,2,1,1,1,1,1,1,1,2,1,1,1,2,1,1,1,1,1,1,1,1,3,1,1,1,1,1,3,1,2,1,3,1,2,2,1,2,1,1,1,1,1,1,1,1,1,6,1,2,1,1,1,1,1,3,3,1,1,2,2,1,2,1,1,2,3,1,1,2,1,1,1,1,3,1,2,1,2,2,1,1,1,3,1,1,2,2,1,2,1,1,1,1,1,1,1,1,1,1,1,1,2,1,2,2,1,1,1,1,1,3,1,1,7,1,1,1,1,1,1,1,1,2,1,1,2,1,4,2,1,1,1,1,3,1,2,1,1,1,2,2,3,1,2,1,1,1,3,1,4,2,1,1,1,2,3,2,2,1,1,1,1,4,1,1,2,1,1,1,1,1,1,1,1,1,1,1,1,1,1,3,1,2,4,1,1,2,1,1,1,1,1,2,1,2,1,1,1,2,3,1,1,1,2,2,1,2,3,2,1,3,1,1,1,3,3,2,4,1,1,1,3,1,1,1,1,2,2,2,1,1,1,1,1,1,1,1,1,3,1,1,1,1,1,3,1,1,1,2,1,2,1,1,3,1,1,1,1,1,2,1,1,1,1,2,2,2,1,1,1,1,1,2,1,3,5,1,2,1,2,1,1,4,2,1,1,1,1,1,1,6,1,1,1,1,2,2,1,1,3,1,2,1,1,5,1,2,4,1,1,1,1,1,2,1,1,1,1,3,1,1,3,2,1,1,1,1,1,2,2,1,2,1,1,3,2,1,1,2,2,1,2,1,1,1,1,1,2,1,1,1,1,6,1,2,1,2,1,1,3,1,1,1,2,1,1,5,5,1,6,1,1,1,1],\"z\":[19.670588235294115,22.25,18.610344827586207,35.33846153846154,18.990000000000002,29.153636363636362,26.042857142857144,21.144415584415583,18.69252525252525,40.19,16.86,20.509090909090908,31.67388888888889,26.666538461538458,31.244999999999997,19.424333333333333,15.77727272727273,18.326538461538462,24.735,19.19842105263158,22.328666666666667,19.715454545454545,14.559664429530201,3.1956521739130435,25.214285714285715,29.774848484848484,19.954509803921567,23.98125,15.781052631578946,25.974999999999998,19.04,16.8,26.74809523809524,14.928125,21.757142857142856,16.21333333333333,5.733571428571429,19.85909090909091,17.320833333333333,23.243636363636366,23.44942528735632,17.41730769230769,20.609285714285715,15.780000000000001,16.37272727272727,16.950000000000003,31.207209302325584,22.095454545454547,15.145238095238096,12.666666666666666,19.16625,21.0,27.168613861386135,22.589999999999996,12.734285714285715,24.313125,18.285454545454545,18.74509090909091,17.825,19.688333333333336,17.452272727272728,27.599999999999998,18.12953488372093,58.5,14.122727272727273,47.78952380952381,37.64177777777778,35.7375,22.282142857142855,15.472380952380954,16.0216,22.728333333333335,19.540769230769232,17.1032,19.572400000000002,16.608064516129033,22.6268085106383,41.51,15.453333333333333,26.636363636363637,23.894444444444446,17.390833333333333,17.354444444444443,11.174999999999999,13.114444444444443,18.326470588235296,12.700000000000001,24.05217391304348,21.504615384615384,15.0192523364486,9.090454545454547,18.191276595744682,42.57142857142857,54.125,13.868,16.529545454545453,14.477857142857143,14.73125,20.128260869565217,5.687894736842105,18.1,33.57272727272727,4.359999999999999,13.947857142857144,6.094216867469879,16.28142857142857,17.27857142857143,19.75769230769231,16.390714285714285,16.85,17.322727272727274,39.72461538461538,16.983939393939394,19.34166666666667,22.925,20.502,31.543636363636367,14.704285714285716,25.422222222222224,25.307142857142857,9.68,18.912727272727274,49.260817610062894,12.64875,35.006,16.704666666666665,30.599999999999998,5.674600000000001,25.766666666666666,15.685714285714285,36.983333333333334,16.998243243243245,14.09375,10.175609756097561,6.378918918918919,12.839545454545455,32.64,6.7631250000000005,28.633333333333333,16.095,17.77706896551724,15.693333333333333,10.265263157894736,28.622222222222224,18.208181818181817,15.476153846153846,8.597857142857142,16.18037037037037,20.12,17.48,28.5,18.5945,14.305714285714286,25.632631578947368,15.928148148148148,18.472619047619048,18.60157894736842,19.475,6.847191011235955,15.138965517241378,21.49655172413793,22.020000000000003,19.355641025641027,14.866000000000001,15.273428571428573,14.653333333333334,17.59,19.98125,5.253888888888889,20.998823529411762,16.833333333333332,18.11176470588235,3.658709677419355,16.648604651162792,21.352931034482758,20.063333333333333,16.785454545454545,39.225,19.749565217391304,17.570000000000004,18.318421052631578,25.775384615384613,17.635384615384616,9.2475,16.747333333333334,21.990909090909092,3.5878666666666663,22.950000000000003,10.132857142857143,4.3500000000000005,8.870000000000001,41.946969696969695,11.8,14.736415094339621,5.933333333333334,11.553684210526317,18.160434782608696,13.641538461538461,13.53842105263158,5.478596491228069,15.069565217391306,7.747959183673469,15.174757281553399,14.574615384615385,3.603012048192771,31.065,19.472800000000003,14.5375,19.833333333333332,2.245862068965517,9.0,22.041428571428575,16.5395,16.800208333333334,5.823061224489796,19.38923076923077,22.884,10.359519230769232,6.584761904761905,25.545833333333334,33.30833333333334,16.068157894736842,11.319999999999999,15.25,12.001600000000002,32.916666666666664,21.178857142857144,23.549999999999997,43.81714285714286,7.5200000000000005,32.91428571428571,16.91878787878788,16.298235294117646,16.085714285714285,12.920833333333334,31.676388888888887,6.536271186440678,18.95,13.708928571428572,14.810555555555558,27.75,7.184285714285714,15.288999999999998,30.025000000000002,18.1,18.397368421052633,39.1,12.994166666666667,17.23139534883721,24.607142857142858,19.2125,29.74516129032258,14.483846153846153,17.65,34.0,17.293589743589745,23.730445255474454,9.786666666666665,18.986857142857144,40.35,24.063636363636363,35.798,19.45625,42.37733333333333,16.562142857142856,29.89090909090909,26.964037267080744,28.722727272727273,15.714285714285714,16.49078947368421,5.257142857142858,6.733809523809524,11.070714285714287,4.822705882352941,22.95,21.792857142857144,11.077083333333334,6.1441333333333334,6.2844827586206895,10.295714285714284,17.111216216216217,25.768666666666665,30.0,7.286515151515152,14.173181818181819,52.4,15.950714285714286,25.87730769230769,19.791666666666668,10.554038461538463,11.5744,5.0183333333333335,18.609677419354842,65.88333333333334,16.407999999999998,30.114285714285714,16.662682926829266,18.514200000000002,17.88888888888889,18.35625,21.37,17.534375,15.680092592592594,6.838499999999999,37.8225,18.284150943396227,24.0,19.64529411764706,27.568,16.98793103448276,11.232,16.755,26.6625,22.555882352941175,15.513,15.412580645161292,22.98125,25.97083333333333,18.97483870967742,22.108571428571427,22.45,22.753888888888888,15.718333333333334,51.0,22.95659574468085,15.1,15.854545454545455,19.375,25.125,19.1375,3.5690909090909093,20.342857142857145,13.59,22.988000000000003,5.502272727272727,27.668235294117647,12.6,14.655555555555557,25.235238095238095,12.08125,5.451363636363637,28.41,49.67351351351351,11.683666666666666,8.44260162601626,11.352941176470589,17.569444444444443,21.217,15.233333333333333,15.446,20.05470588235294,28.35842105263158,16.392068965517243,25.121000000000002,11.968695652173912,14.57578125,9.497222222222222,20.65,5.165,2.8810526315789473,7.519310344827586,35.400000000000006,10.54142857142857,12.49263157894737,13.25,15.733200000000002,19.722,15.876153846153848,15.265714285714287,16.974150943396225,14.32,17.245,22.380967741935486,19.903000000000002,8.430000000000001,3.638125,7.58578313253012,3.1939837398373987,12.549999999999999,26.0,8.676923076923076,21.6125,8.573181818181817,13.641250000000001,6.443571428571429,26.857999999999997,4.415352112676056,16.272022471910113,18.233333333333334,17.84,14.310476190476189,16.854230769230767,9.418292682926829,33.35,21.908333333333335,19.217045454545453,5.2717241379310344,17.624444444444443,24.400000000000002,4.591857142857143,15.7125,23.799999999999997,15.511904761904763,19.73,25.173076923076923,18.56,20.266666666666666,18.46,13.59,17.95,16.79939393939394,10.901627906976746,36.24411764705882,17.153859649122808,31.005000000000003,21.384117647058822,4.8741666666666665,25.34,15.862307692307693,12.765,3.5181927710843373,8.3635,5.606351351351352,7.927077922077922,13.075833333333334,8.501999999999999,3.8304545454545456,2.7262121212121215,27.186,15.61909090909091,40.39000000000001,7.418928571428572,59.58,15.850428571428571,17.976530612244897,19.055531914893617,17.64,20.462666666666667,16.57913043478261,17.608076923076922,14.828955223880596,19.96875,17.319642857142856,19.02857142857143,15.005,15.450000000000001,13.766153846153847,18.532142857142855,14.584175824175825,22.267857142857142,39.54,18.064814814814813,4.071794871794872,12.340909090909092,13.5,14.583333333333334,21.477586206896554,35.175555555555555,16.559,20.36,13.68125,33.97222222222222,37.7875,23.005714285714284,17.8,19.30125,18.678260869565218,14.071428571428571,21.403333333333332,15.58030303030303,16.408333333333335,45.30714285714286,18.328235294117647,17.895000000000003,18.36731707317073,19.883333333333333,15.29,7.07,7.432916666666666,18.516774193548386,16.340526315789475,13.665416666666667,12.78125,10.748620689655171,47.45885714285714,3.579795918367347,14.848235294117648,40.32000000000001,6.533943661971831,23.130000000000003,12.624918032786885,59.84571428571429,20.375,19.089123711340207,15.668536585365853,12.714193548387096,14.053999999999998,15.35,15.666666666666666,14.923095238095238,43.6375,7.858235294117647,19.053,11.906595744680851,16.283333333333335,22.54941176470588,13.00731707317073,4.4479999999999995,22.7,17.24111111111111,17.665714285714284,7.164,7.492931034482759,4.087413793103448,3.8260714285714283,6.739677419354839,2.6816666666666666,2.1369696969696967,10.574666666666667,10.8725,17.285714285714285,9.889999999999999,8.820384615384615,6.984722222222222,4.621666666666667,4.566428571428571,5.301176470588236,15.514285714285714,4.445,6.637948717948718,9.776923076923076,14.687096774193549,16.501034482758623,8.05846153846154,18.655,15.843684210526314,20.12121212121212,3.4635344827586207,12.789714285714288,26.645833333333332,16.490294117647057,21.33541666666667,61.96,19.323565217391305,14.420833333333334,18.635454545454547,8.10093023255814,42.3,23.849999999999998,22.208333333333332,18.773684210526316,21.47142857142857,5.018421052631578,19.84090909090909,17.0,21.00857142857143,16.23,36.14857142857143,14.985714285714286,49.862380952380946,16.38896551724138,14.052,14.524047619047618,18.72446153846154,32.59775,12.175294117647057,15.0,26.647000000000002,15.49611111111111,14.868750000000002,7.305000000000001,9.975999999999999,3.4273958333333336,17.289310344827587,22.450434782608696,4.942,8.528,6.97972972972973,16.288181818181815,9.481363636363637,14.0625,27.419999999999998,13.927368421052632,10.258333333333333,8.35575,2.7916666666666665,13.459583333333335,33.59090909090909,6.051428571428572,17.2625,34.73833333333334,35.8,54.18333333333334,28.55454545454546,4.454583333333333,12.675,4.9670886075949365,8.48774647887324,11.422068965517242,19.895454545454545,21.923589743589744,32.055,13.790000000000001,11.198571428571428,16.85,14.57913043478261,5.02931506849315,25.405217391304344,11.47842105263158,17.503333333333334,26.718333333333334,18.505,25.919999999999998,33.99333333333333,5.379333333333333,16.968750000000004,18.02294117647059,7.740333333333334,22.636363636363637,22.25769230769231,24.645238095238092,14.46864864864865,25.314827586206896,24.87142857142857,18.7,24.7375,16.55,20.292777777777776,24.15340909090909,24.72783783783784,20.283333333333335,6.340573770491804,31.89,52.370000000000005,15.486571428571429,16.733516483516482,7.16,16.226666666666667,57.87923076923077,23.475,21.134074074074075,5.411538461538462,16.965757575757575,15.3,17.8125,15.094999999999999,16.419090909090908,15.42121951219512,16.169285714285714,18.543928571428573,19.527272727272727,5.225,50.550000000000004,5.944444444444445,19.2375,6.831290322580646,15.780434782608696,23.59,5.067209302325581,20.802439024390242,5.148245614035088,17.75,33.45,26.712,14.414285714285715,26.784444444444446,8.201052631578946,1.45,9.631052631578948,17.69225,28.35636363636364,23.151111111111113,4.46625,17.22692307692308,17.561666666666667,7.334210526315789,16.172,16.5306,6.731333333333334,19.23421052631579,27.976923076923075,19.084615384615383,9.570588235294117,6.708782051282051,19.357333333333333,15.175,31.486,22.337058823529414,57.9,24.731428571428573,11.76,16.675,57.99375,17.31923076923077,14.504999999999999,12.61,12.949000000000002,19.468846153846155,30.369999999999997,16.157857142857143,25.889999999999997,14.481739130434782,24.211111111111112,18.055925925925926,13.448064516129032,15.290000000000001,15.405,19.56,15.044444444444443,43.25,5.369047619047619,12.977701149425286,13.773863636363638,7.904594594594595,5.229448275862069,5.825454545454545,3.75,24.846153846153847,23.055555555555557,18.415384615384617,15.261428571428572,26.60217391304348,34.0,33.69411764705882,9.51421052631579,18.308823529411764,9.198333333333334,6.286060606060606,21.2564,4.699897959183673,20.636000000000003,31.956666666666667,9.431052631578947,17.92909090909091,16.595833333333335,17.2275,23.554000000000002,15.57125,17.495263157894737,37.569,14.380961538461538,7.364324324324325,11.693851851851852,3.242888888888889,7.831891891891891,14.18,43.50222222222222,16.446428571428573,24.74939393939394,19.356190476190477,20.746799999999997,26.04,15.792857142857144,7.738076923076923,15.19142857142857,12.697037037037038,58.5,38.707499999999996,15.483214285714286,29.982000000000003,29.182727272727274,5.735476190476191,46.848,7.7294202898550735,21.571428571428573,25.5,7.397555555555555,13.608333333333333,12.91111111111111,15.702000000000002,17.08111111111111,38.36666666666666,9.491612903225807,11.220714285714285,15.854166666666666,25.22888888888889,38.6,15.868,14.056875,14.975,20.408666666666665,8.897375,20.395,9.055862068965517,27.448421052631577,56.7125,12.61111111111111,8.685208333333334,18.73761904761905,10.706428571428573,25.5,19.049999999999997,7.2927027027027025,5.010603448275862,2.7582608695652175,15.43985507246377,16.402666666666665,4.717735849056604,16.133333333333333,27.91090909090909,4.3457961783439485,11.390588235294118,12.28125,9.38,6.220862068965517,8.920857142857143,5.077272727272728,17.706071428571427,5.798550724637681,7.45125,50.967499999999994,19.67945945945946,16.325,9.37906976744186,22.85,37.284000000000006,21.778074074074073,13.433333333333334,8.484098360655738,16.4625,14.69764705882353,32.21777777777778,4.0088505747126435,16.53625,31.214166666666667,27.105,15.572,16.033333333333335,22.035384615384615,6.881590909090909,17.605,13.994545454545454,24.166666666666668,46.96666666666667,21.192857142857143,12.646153846153847,25.5,6.83,20.66,6.360952380952382,7.444615384615384,26.316666666666666,11.866896551724137,23.20625,28.691999999999997,4.793777777777778,6.043793103448277,37.17036363636364,12.889999999999999,4.91047619047619,2.896891891891892,19.369230769230768,15.5,12.69375,19.77235294117647,16.70173076923077,5.343181818181818,4.703947368421052,18.7,18.631875,15.28421052631579,18.874666666666666,17.839473684210525,19.36875,17.414583333333333,28.554516129032258,30.48,7.744999999999999,19.635714285714283,15.3,23.224999999999998,16.887222222222224,18.375,19.272,15.0,6.564821428571428,30.086052631578948,18.8,15.668333333333335,16.135714285714286,7.618444444444444,29.641333333333332,5.553513513513513,23.300000000000004,20.750666666666667,12.292352941176471,6.170434782608696,4.354807692307693,30.08181818181818,36.62777777777777,15.59,14.857826086956523,19.800833333333333,29.75333333333333,17.65076923076923,16.668750000000003,10.0685,6.449340659340659,5.995882352941176,7.147333333333333,5.01675925925926,4.985483870967743,18.7,6.075,4.2968518518518515,8.38,8.261666666666667,7.478999999999999,29.331578947368417,12.75,2.8376923076923077,3.0120588235294115,2.673095238095238,3.27283950617284,16.3,19.40655172413793,4.506333333333333,5.645438596491228,25.076666666666664,27.048333333333336,3.1808333333333336,15.274615384615384,21.753103448275862,18.669999999999998,38.05,4.268108108108108,7.9803225806451605,12.485714285714286,3.671071428571428,6.041612903225806,18.56095238095238,14.7,24.612857142857145,14.88,19.139473684210525,26.685925925925925,18.12,13.746666666666666,37.66153846153846,11.590689655172413,23.79137931034483,14.477142857142857,27.621428571428574,11.402702702702703,15.941176470588236,7.860714285714286,6.23103448275862,6.538235294117648,21.074193548387097,8.039285714285715,19.08125,23.05,30.246000000000002,8.923384615384615,15.878333333333334,17.082972972972975,17.897058823529413,18.964000000000002,29.685714285714283,15.235,20.543970588235293,8.443157894736842,6.3549999999999995,15.498666666666669,32.096,15.895000000000001,18.75,16.843658536585366,17.745568181818182,16.63190476190476,19.76203007518797,11.498461538461537,24.085714285714285,18.060000000000002,11.545714285714284],\"type\":\"scatter3d\"}],                        {\"template\":{\"data\":{\"barpolar\":[{\"marker\":{\"line\":{\"color\":\"rgb(17,17,17)\",\"width\":0.5},\"pattern\":{\"fillmode\":\"overlay\",\"size\":10,\"solidity\":0.2}},\"type\":\"barpolar\"}],\"bar\":[{\"error_x\":{\"color\":\"#f2f5fa\"},\"error_y\":{\"color\":\"#f2f5fa\"},\"marker\":{\"line\":{\"color\":\"rgb(17,17,17)\",\"width\":0.5},\"pattern\":{\"fillmode\":\"overlay\",\"size\":10,\"solidity\":0.2}},\"type\":\"bar\"}],\"carpet\":[{\"aaxis\":{\"endlinecolor\":\"#A2B1C6\",\"gridcolor\":\"#506784\",\"linecolor\":\"#506784\",\"minorgridcolor\":\"#506784\",\"startlinecolor\":\"#A2B1C6\"},\"baxis\":{\"endlinecolor\":\"#A2B1C6\",\"gridcolor\":\"#506784\",\"linecolor\":\"#506784\",\"minorgridcolor\":\"#506784\",\"startlinecolor\":\"#A2B1C6\"},\"type\":\"carpet\"}],\"choropleth\":[{\"colorbar\":{\"outlinewidth\":0,\"ticks\":\"\"},\"type\":\"choropleth\"}],\"contourcarpet\":[{\"colorbar\":{\"outlinewidth\":0,\"ticks\":\"\"},\"type\":\"contourcarpet\"}],\"contour\":[{\"colorbar\":{\"outlinewidth\":0,\"ticks\":\"\"},\"colorscale\":[[0.0,\"#0d0887\"],[0.1111111111111111,\"#46039f\"],[0.2222222222222222,\"#7201a8\"],[0.3333333333333333,\"#9c179e\"],[0.4444444444444444,\"#bd3786\"],[0.5555555555555556,\"#d8576b\"],[0.6666666666666666,\"#ed7953\"],[0.7777777777777778,\"#fb9f3a\"],[0.8888888888888888,\"#fdca26\"],[1.0,\"#f0f921\"]],\"type\":\"contour\"}],\"heatmapgl\":[{\"colorbar\":{\"outlinewidth\":0,\"ticks\":\"\"},\"colorscale\":[[0.0,\"#0d0887\"],[0.1111111111111111,\"#46039f\"],[0.2222222222222222,\"#7201a8\"],[0.3333333333333333,\"#9c179e\"],[0.4444444444444444,\"#bd3786\"],[0.5555555555555556,\"#d8576b\"],[0.6666666666666666,\"#ed7953\"],[0.7777777777777778,\"#fb9f3a\"],[0.8888888888888888,\"#fdca26\"],[1.0,\"#f0f921\"]],\"type\":\"heatmapgl\"}],\"heatmap\":[{\"colorbar\":{\"outlinewidth\":0,\"ticks\":\"\"},\"colorscale\":[[0.0,\"#0d0887\"],[0.1111111111111111,\"#46039f\"],[0.2222222222222222,\"#7201a8\"],[0.3333333333333333,\"#9c179e\"],[0.4444444444444444,\"#bd3786\"],[0.5555555555555556,\"#d8576b\"],[0.6666666666666666,\"#ed7953\"],[0.7777777777777778,\"#fb9f3a\"],[0.8888888888888888,\"#fdca26\"],[1.0,\"#f0f921\"]],\"type\":\"heatmap\"}],\"histogram2dcontour\":[{\"colorbar\":{\"outlinewidth\":0,\"ticks\":\"\"},\"colorscale\":[[0.0,\"#0d0887\"],[0.1111111111111111,\"#46039f\"],[0.2222222222222222,\"#7201a8\"],[0.3333333333333333,\"#9c179e\"],[0.4444444444444444,\"#bd3786\"],[0.5555555555555556,\"#d8576b\"],[0.6666666666666666,\"#ed7953\"],[0.7777777777777778,\"#fb9f3a\"],[0.8888888888888888,\"#fdca26\"],[1.0,\"#f0f921\"]],\"type\":\"histogram2dcontour\"}],\"histogram2d\":[{\"colorbar\":{\"outlinewidth\":0,\"ticks\":\"\"},\"colorscale\":[[0.0,\"#0d0887\"],[0.1111111111111111,\"#46039f\"],[0.2222222222222222,\"#7201a8\"],[0.3333333333333333,\"#9c179e\"],[0.4444444444444444,\"#bd3786\"],[0.5555555555555556,\"#d8576b\"],[0.6666666666666666,\"#ed7953\"],[0.7777777777777778,\"#fb9f3a\"],[0.8888888888888888,\"#fdca26\"],[1.0,\"#f0f921\"]],\"type\":\"histogram2d\"}],\"histogram\":[{\"marker\":{\"pattern\":{\"fillmode\":\"overlay\",\"size\":10,\"solidity\":0.2}},\"type\":\"histogram\"}],\"mesh3d\":[{\"colorbar\":{\"outlinewidth\":0,\"ticks\":\"\"},\"type\":\"mesh3d\"}],\"parcoords\":[{\"line\":{\"colorbar\":{\"outlinewidth\":0,\"ticks\":\"\"}},\"type\":\"parcoords\"}],\"pie\":[{\"automargin\":true,\"type\":\"pie\"}],\"scatter3d\":[{\"line\":{\"colorbar\":{\"outlinewidth\":0,\"ticks\":\"\"}},\"marker\":{\"colorbar\":{\"outlinewidth\":0,\"ticks\":\"\"}},\"type\":\"scatter3d\"}],\"scattercarpet\":[{\"marker\":{\"colorbar\":{\"outlinewidth\":0,\"ticks\":\"\"}},\"type\":\"scattercarpet\"}],\"scattergeo\":[{\"marker\":{\"colorbar\":{\"outlinewidth\":0,\"ticks\":\"\"}},\"type\":\"scattergeo\"}],\"scattergl\":[{\"marker\":{\"line\":{\"color\":\"#283442\"}},\"type\":\"scattergl\"}],\"scattermapbox\":[{\"marker\":{\"colorbar\":{\"outlinewidth\":0,\"ticks\":\"\"}},\"type\":\"scattermapbox\"}],\"scatterpolargl\":[{\"marker\":{\"colorbar\":{\"outlinewidth\":0,\"ticks\":\"\"}},\"type\":\"scatterpolargl\"}],\"scatterpolar\":[{\"marker\":{\"colorbar\":{\"outlinewidth\":0,\"ticks\":\"\"}},\"type\":\"scatterpolar\"}],\"scatter\":[{\"marker\":{\"line\":{\"color\":\"#283442\"}},\"type\":\"scatter\"}],\"scatterternary\":[{\"marker\":{\"colorbar\":{\"outlinewidth\":0,\"ticks\":\"\"}},\"type\":\"scatterternary\"}],\"surface\":[{\"colorbar\":{\"outlinewidth\":0,\"ticks\":\"\"},\"colorscale\":[[0.0,\"#0d0887\"],[0.1111111111111111,\"#46039f\"],[0.2222222222222222,\"#7201a8\"],[0.3333333333333333,\"#9c179e\"],[0.4444444444444444,\"#bd3786\"],[0.5555555555555556,\"#d8576b\"],[0.6666666666666666,\"#ed7953\"],[0.7777777777777778,\"#fb9f3a\"],[0.8888888888888888,\"#fdca26\"],[1.0,\"#f0f921\"]],\"type\":\"surface\"}],\"table\":[{\"cells\":{\"fill\":{\"color\":\"#506784\"},\"line\":{\"color\":\"rgb(17,17,17)\"}},\"header\":{\"fill\":{\"color\":\"#2a3f5f\"},\"line\":{\"color\":\"rgb(17,17,17)\"}},\"type\":\"table\"}]},\"layout\":{\"annotationdefaults\":{\"arrowcolor\":\"#f2f5fa\",\"arrowhead\":0,\"arrowwidth\":1},\"autotypenumbers\":\"strict\",\"coloraxis\":{\"colorbar\":{\"outlinewidth\":0,\"ticks\":\"\"}},\"colorscale\":{\"diverging\":[[0,\"#8e0152\"],[0.1,\"#c51b7d\"],[0.2,\"#de77ae\"],[0.3,\"#f1b6da\"],[0.4,\"#fde0ef\"],[0.5,\"#f7f7f7\"],[0.6,\"#e6f5d0\"],[0.7,\"#b8e186\"],[0.8,\"#7fbc41\"],[0.9,\"#4d9221\"],[1,\"#276419\"]],\"sequential\":[[0.0,\"#0d0887\"],[0.1111111111111111,\"#46039f\"],[0.2222222222222222,\"#7201a8\"],[0.3333333333333333,\"#9c179e\"],[0.4444444444444444,\"#bd3786\"],[0.5555555555555556,\"#d8576b\"],[0.6666666666666666,\"#ed7953\"],[0.7777777777777778,\"#fb9f3a\"],[0.8888888888888888,\"#fdca26\"],[1.0,\"#f0f921\"]],\"sequentialminus\":[[0.0,\"#0d0887\"],[0.1111111111111111,\"#46039f\"],[0.2222222222222222,\"#7201a8\"],[0.3333333333333333,\"#9c179e\"],[0.4444444444444444,\"#bd3786\"],[0.5555555555555556,\"#d8576b\"],[0.6666666666666666,\"#ed7953\"],[0.7777777777777778,\"#fb9f3a\"],[0.8888888888888888,\"#fdca26\"],[1.0,\"#f0f921\"]]},\"colorway\":[\"#636efa\",\"#EF553B\",\"#00cc96\",\"#ab63fa\",\"#FFA15A\",\"#19d3f3\",\"#FF6692\",\"#B6E880\",\"#FF97FF\",\"#FECB52\"],\"font\":{\"color\":\"#f2f5fa\"},\"geo\":{\"bgcolor\":\"rgb(17,17,17)\",\"lakecolor\":\"rgb(17,17,17)\",\"landcolor\":\"rgb(17,17,17)\",\"showlakes\":true,\"showland\":true,\"subunitcolor\":\"#506784\"},\"hoverlabel\":{\"align\":\"left\"},\"hovermode\":\"closest\",\"mapbox\":{\"style\":\"dark\"},\"paper_bgcolor\":\"rgb(17,17,17)\",\"plot_bgcolor\":\"rgb(17,17,17)\",\"polar\":{\"angularaxis\":{\"gridcolor\":\"#506784\",\"linecolor\":\"#506784\",\"ticks\":\"\"},\"bgcolor\":\"rgb(17,17,17)\",\"radialaxis\":{\"gridcolor\":\"#506784\",\"linecolor\":\"#506784\",\"ticks\":\"\"}},\"scene\":{\"xaxis\":{\"backgroundcolor\":\"rgb(17,17,17)\",\"gridcolor\":\"#506784\",\"gridwidth\":2,\"linecolor\":\"#506784\",\"showbackground\":true,\"ticks\":\"\",\"zerolinecolor\":\"#C8D4E3\"},\"yaxis\":{\"backgroundcolor\":\"rgb(17,17,17)\",\"gridcolor\":\"#506784\",\"gridwidth\":2,\"linecolor\":\"#506784\",\"showbackground\":true,\"ticks\":\"\",\"zerolinecolor\":\"#C8D4E3\"},\"zaxis\":{\"backgroundcolor\":\"rgb(17,17,17)\",\"gridcolor\":\"#506784\",\"gridwidth\":2,\"linecolor\":\"#506784\",\"showbackground\":true,\"ticks\":\"\",\"zerolinecolor\":\"#C8D4E3\"}},\"shapedefaults\":{\"line\":{\"color\":\"#f2f5fa\"}},\"sliderdefaults\":{\"bgcolor\":\"#C8D4E3\",\"bordercolor\":\"rgb(17,17,17)\",\"borderwidth\":1,\"tickwidth\":0},\"ternary\":{\"aaxis\":{\"gridcolor\":\"#506784\",\"linecolor\":\"#506784\",\"ticks\":\"\"},\"baxis\":{\"gridcolor\":\"#506784\",\"linecolor\":\"#506784\",\"ticks\":\"\"},\"bgcolor\":\"rgb(17,17,17)\",\"caxis\":{\"gridcolor\":\"#506784\",\"linecolor\":\"#506784\",\"ticks\":\"\"}},\"title\":{\"x\":0.05},\"updatemenudefaults\":{\"bgcolor\":\"#506784\",\"borderwidth\":0},\"xaxis\":{\"automargin\":true,\"gridcolor\":\"#283442\",\"linecolor\":\"#506784\",\"ticks\":\"\",\"title\":{\"standoff\":15},\"zerolinecolor\":\"#283442\",\"zerolinewidth\":2},\"yaxis\":{\"automargin\":true,\"gridcolor\":\"#283442\",\"linecolor\":\"#506784\",\"ticks\":\"\",\"title\":{\"standoff\":15},\"zerolinecolor\":\"#283442\",\"zerolinewidth\":2}}},\"scene\":{\"domain\":{\"x\":[0.0,1.0],\"y\":[0.0,1.0]},\"xaxis\":{\"title\":{\"text\":\"R\"}},\"yaxis\":{\"title\":{\"text\":\"F\"}},\"zaxis\":{\"title\":{\"text\":\"M\"}}},\"legend\":{\"title\":{\"text\":\"color\"},\"tracegroupgap\":0},\"margin\":{\"t\":60}},                        {\"responsive\": true}                    ).then(function(){\n",
              "                            \n",
              "var gd = document.getElementById('dfbe21b5-ac48-45d0-a5e6-b1a94627bbd3');\n",
              "var x = new MutationObserver(function (mutations, observer) {{\n",
              "        var display = window.getComputedStyle(gd).display;\n",
              "        if (!display || display === 'none') {{\n",
              "            console.log([gd, 'removed!']);\n",
              "            Plotly.purge(gd);\n",
              "            observer.disconnect();\n",
              "        }}\n",
              "}});\n",
              "\n",
              "// Listen for the removal of the full notebook cells\n",
              "var notebookContainer = gd.closest('#notebook-container');\n",
              "if (notebookContainer) {{\n",
              "    x.observe(notebookContainer, {childList: true});\n",
              "}}\n",
              "\n",
              "// Listen for the clearing of the current output cell\n",
              "var outputEl = gd.closest('.output');\n",
              "if (outputEl) {{\n",
              "    x.observe(outputEl, {childList: true});\n",
              "}}\n",
              "\n",
              "                        })                };                            </script>        </div>\n",
              "</body>\n",
              "</html>"
            ]
          },
          "metadata": {}
        }
      ]
    },
    {
      "cell_type": "code",
      "source": [
        "# Comparação entre os centroides dos clusters\n",
        "centers = pd.DataFrame(kmeans.cluster_centers_, columns=rfm_clip_scaled.columns)\n",
        "\n",
        "fig,axes = plt.subplots(nrows=4, figsize=(14,12), sharex=True)\n",
        "\n",
        "for i,ax in enumerate(axes):\n",
        "  center = centers.loc[i,:]\n",
        "  maxPC = 1.01 * center.abs().max()\n",
        "  colors = ['green' if l > 0 else 'red' for l in center]\n",
        "  center.plot.bar(ax=ax, color=colors)\n",
        "  ax.set_ylabel(f'Cluster {i}')\n",
        "  ax.set_ylim(-maxPC, maxPC)\n",
        "  ax.axhline(color='gray')\n",
        "  ax.xaxis.set_ticks_position('none')\n",
        "\n",
        "plt.xticks(rotation=0, ha='right')\n",
        "plt.tight_layout()\n",
        "plt.show()"
      ],
      "metadata": {
        "colab": {
          "base_uri": "https://localhost:8080/",
          "height": 1000
        },
        "id": "ja4oA9FdYclO",
        "outputId": "2a51e76d-232f-40e9-a116-e5150ceb616a"
      },
      "execution_count": 102,
      "outputs": [
        {
          "output_type": "display_data",
          "data": {
            "text/plain": [
              "<Figure size 1400x1200 with 4 Axes>"
            ],
            "image/png": "[encoded data removed]"
          },
          "metadata": {}
        }
      ]
    },
    {
      "cell_type": "code",
      "source": [
        "# Visuzalição matricial dos clusters\n",
        "rfm_clip.assign(cluster=kmeans_labels).groupby('cluster').mean().transpose().style.background_gradient(cmap='YlOrRd', axis=1)"
      ],
      "metadata": {
        "colab": {
          "base_uri": "https://localhost:8080/",
          "height": 143
        },
        "id": "e1EtprVgY0Vk",
        "outputId": "d22bba1a-e19d-4345-efeb-7d897d039448"
      },
      "execution_count": 97,
      "outputs": [
        {
          "output_type": "execute_result",
          "data": {
            "text/plain": [
              "<pandas.io.formats.style.Styler at 0x799fac320df0>"
            ],
            "text/html": [
              "<style type=\"text/css\">\n",
              "#T_116a6_row0_col0, #T_116a6_row1_col3, #T_116a6_row2_col2 {\n",
              "  background-color: #800026;\n",
              "  color: #f1f1f1;\n",
              "}\n",
              "#T_116a6_row0_col1 {\n",
              "  background-color: #ffeea3;\n",
              "  color: #000000;\n",
              "}\n",
              "#T_116a6_row0_col2 {\n",
              "  background-color: #feb651;\n",
              "  color: #000000;\n",
              "}\n",
              "#T_116a6_row0_col3, #T_116a6_row1_col0, #T_116a6_row2_col1 {\n",
              "  background-color: #ffffcc;\n",
              "  color: #000000;\n",
              "}\n",
              "#T_116a6_row1_col1 {\n",
              "  background-color: #ffeb9c;\n",
              "  color: #000000;\n",
              "}\n",
              "#T_116a6_row1_col2 {\n",
              "  background-color: #fed36f;\n",
              "  color: #000000;\n",
              "}\n",
              "#T_116a6_row2_col0 {\n",
              "  background-color: #fffdc8;\n",
              "  color: #000000;\n",
              "}\n",
              "#T_116a6_row2_col3 {\n",
              "  background-color: #fff8ba;\n",
              "  color: #000000;\n",
              "}\n",
              "</style>\n",
              "<table id=\"T_116a6\" class=\"dataframe\">\n",
              "  <thead>\n",
              "    <tr>\n",
              "      <th class=\"index_name level0\" >cluster</th>\n",
              "      <th id=\"T_116a6_level0_col0\" class=\"col_heading level0 col0\" >0</th>\n",
              "      <th id=\"T_116a6_level0_col1\" class=\"col_heading level0 col1\" >1</th>\n",
              "      <th id=\"T_116a6_level0_col2\" class=\"col_heading level0 col2\" >2</th>\n",
              "      <th id=\"T_116a6_level0_col3\" class=\"col_heading level0 col3\" >3</th>\n",
              "    </tr>\n",
              "  </thead>\n",
              "  <tbody>\n",
              "    <tr>\n",
              "      <th id=\"T_116a6_level0_row0\" class=\"row_heading level0 row0\" >R</th>\n",
              "      <td id=\"T_116a6_row0_col0\" class=\"data row0 col0\" >261.082051</td>\n",
              "      <td id=\"T_116a6_row0_col1\" class=\"data row0 col1\" >67.523221</td>\n",
              "      <td id=\"T_116a6_row0_col2\" class=\"data row0 col2\" >121.057935</td>\n",
              "      <td id=\"T_116a6_row0_col3\" class=\"data row0 col3\" >41.517018</td>\n",
              "    </tr>\n",
              "    <tr>\n",
              "      <th id=\"T_116a6_level0_row1\" class=\"row_heading level0 row1\" >F</th>\n",
              "      <td id=\"T_116a6_row1_col0\" class=\"data row1 col0\" >1.509744</td>\n",
              "      <td id=\"T_116a6_row1_col1\" class=\"data row1 col1\" >2.703877</td>\n",
              "      <td id=\"T_116a6_row1_col2\" class=\"data row1 col2\" >3.876574</td>\n",
              "      <td id=\"T_116a6_row1_col3\" class=\"data row1 col3\" >10.191248</td>\n",
              "    </tr>\n",
              "    <tr>\n",
              "      <th id=\"T_116a6_level0_row2\" class=\"row_heading level0 row2\" >M</th>\n",
              "      <td id=\"T_116a6_row2_col0\" class=\"data row2 col0\" >18.121764</td>\n",
              "      <td id=\"T_116a6_row2_col1\" class=\"data row2 col1\" >17.153676</td>\n",
              "      <td id=\"T_116a6_row2_col2\" class=\"data row2 col2\" >80.710870</td>\n",
              "      <td id=\"T_116a6_row2_col3\" class=\"data row2 col3\" >20.467061</td>\n",
              "    </tr>\n",
              "  </tbody>\n",
              "</table>\n"
            ]
          },
          "metadata": {},
          "execution_count": 97
        }
      ]
    },
    {
      "cell_type": "markdown",
      "source": [
        "## Interpretação dos clusters"
      ],
      "metadata": {
        "id": "EOMFm4w1ZV5-"
      }
    },
    {
      "cell_type": "markdown",
      "source": [
        "Conforme visto nos gráficos e figuras apresentados na seção Análise dos Clusters, podemos identificar como características de cada cluster:\n",
        "\n",
        "<center>\n",
        "\n",
        "| Cluster | Recência | Frequência | Monetary |\n",
        "| ----------- | ----------- | ----------- | ----------- |\n",
        "| 0 | Alta | Baixa | Baixa-Média\n",
        "| 1 | Baixa | Baixa | Baixa-Média\n",
        "| 2 | Variável | Variável | Alta\n",
        "| 3 | Baixa | Alta | Baixa-Média\n",
        "\n",
        "</center>\n",
        "\n",
        "A partir disso, podemos definir o perfil de cada cliente.\n",
        "\n",
        "- Os clientes que se enquadram no **cluster 0** tem grande chance de serem **churn**, uma vez que a recência deles é alta, ou seja, a última compra foi feita há bastante tempo;\n",
        "- Os clientes que se enquadram no **cluster 1** são provavelmente **clientes novos**, considerando que o volume de compras é baixo, mas são compras mais recentes;\n",
        "- Os clientes que se enquadram no **cluster 2** são os **clientes mais gastadores**, que fazem compras com um ticket médio alto, podendo ser clientes frequentes ou não;\n",
        "- Os clientes que se enquadram no **cluster 3** são os **clientes mais fiéis**, que fazem um número alto de compras e de maneira regular.\n",
        "\n",
        "Esta análise pode ser extremamente útil para a empresa, pois por meio da segmentação de clientes é possível entender melhor o perfil de cada tipo de cliente. Uma potencial aplicação desta segmentação é para personalização de campanhas de marketing mais direcionadas ou para recomendação de determinados tipos de produtos, trazendo mais retorno para o empresa.\n",
        "\n",
        "Por exemplo, para os clientes do cluster 0 poderiam ser enviados emails para lembrar das compras feitas no e-commerce, pedindo avaliações ou até então oferecendo cupons de desconto para o retorno do cliente à plataforma. Para os clientes do cluster 1, poderiam ser feitas recomendações de produtos similares ou complementares aos comprados recentemente. Para os clientes do cluster 2, poderiam ser feitas recomendações de produtos mais caros. Para os clientes do cluster 3, a comunicação não precisa ser feita de maneira tão agressiva, uma vez que os clientes já estão mais fidelizados.\n",
        "\n",
        "Estas são apenas alguns exemplos da aplicação da segmentação de clientes, existem ainda muitos outros com bastante potencial de geração de valor para o negócio."
      ],
      "metadata": {
        "id": "f2Y1OUdDZnwJ"
      }
    }
  ]
}